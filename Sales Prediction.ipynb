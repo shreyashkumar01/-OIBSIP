{
 "cells": [
  {
   "cell_type": "markdown",
   "id": "e0e1d4a1-4b60-42ed-ae6d-189654c4aa7d",
   "metadata": {},
   "source": [
    "# Setting up the Environment and Importing Libraries"
   ]
  },
  {
   "cell_type": "code",
   "execution_count": 2,
   "id": "ec3b1c53-a9e8-4418-8170-3f9f229761e4",
   "metadata": {},
   "outputs": [],
   "source": [
    "import pandas as pd\n",
    "import numpy as np"
   ]
  },
  {
   "cell_type": "code",
   "execution_count": 4,
   "id": "6b199d4d-03f2-4b02-8b69-6da27217a596",
   "metadata": {},
   "outputs": [],
   "source": [
    "import matplotlib.pyplot as plt\n",
    "import seaborn as sns\n",
    "import plotly.express as px"
   ]
  },
  {
   "cell_type": "code",
   "execution_count": 10,
   "id": "464d8005-9f01-477c-8387-c3dedd39447a",
   "metadata": {},
   "outputs": [],
   "source": [
    "from sklearn.model_selection import train_test_split, cross_val_score, KFold\n",
    "from sklearn.preprocessing import StandardScaler, OneHotEncoder\n",
    "from sklearn.compose import ColumnTransformer\n",
    "from sklearn.pipeline import Pipeline\n",
    "from sklearn.linear_model import LinearRegression\n",
    "from sklearn.ensemble import RandomForestRegressor\n",
    "from sklearn.metrics import mean_absolute_error, r2_score, mean_squared_error"
   ]
  },
  {
   "cell_type": "markdown",
   "id": "fbde77c7-012e-43e5-b335-19212ee42997",
   "metadata": {},
   "source": [
    "# Loading the Dataset"
   ]
  },
  {
   "cell_type": "code",
   "execution_count": 13,
   "id": "c167edbf-18e4-4887-9bcd-f7be178a85c5",
   "metadata": {},
   "outputs": [
    {
     "name": "stdout",
     "output_type": "stream",
     "text": [
      "Datset Loaded Successfully!\n"
     ]
    }
   ],
   "source": [
    "df = pd.read_csv('Advertising.csv')\n",
    "print(\"Datset Loaded Successfully!\")"
   ]
  },
  {
   "cell_type": "code",
   "execution_count": 15,
   "id": "7b3d188e-f1dd-48ca-940a-c3a74741116c",
   "metadata": {},
   "outputs": [
    {
     "name": "stdout",
     "output_type": "stream",
     "text": [
      "\n",
      "First 5 rows of the datset:\n",
      "   Unnamed: 0     TV  Radio  Newspaper  Sales\n",
      "0           1  230.1   37.8       69.2   22.1\n",
      "1           2   44.5   39.3       45.1   10.4\n",
      "2           3   17.2   45.9       69.3    9.3\n",
      "3           4  151.5   41.3       58.5   18.5\n",
      "4           5  180.8   10.8       58.4   12.9\n"
     ]
    }
   ],
   "source": [
    "print(\"\\nFirst 5 rows of the datset:\")\n",
    "print(df.head())"
   ]
  },
  {
   "cell_type": "markdown",
   "id": "e7507c5f-a41d-41e5-b3be-26811ee06c86",
   "metadata": {},
   "source": [
    "# Initial Data Exploration(EDA)"
   ]
  },
  {
   "cell_type": "code",
   "execution_count": 18,
   "id": "44048210-f36c-4014-9747-323777e7205e",
   "metadata": {},
   "outputs": [
    {
     "name": "stdout",
     "output_type": "stream",
     "text": [
      "\n",
      "Dataset Information:\n",
      "<class 'pandas.core.frame.DataFrame'>\n",
      "RangeIndex: 200 entries, 0 to 199\n",
      "Data columns (total 5 columns):\n",
      " #   Column      Non-Null Count  Dtype  \n",
      "---  ------      --------------  -----  \n",
      " 0   Unnamed: 0  200 non-null    int64  \n",
      " 1   TV          200 non-null    float64\n",
      " 2   Radio       200 non-null    float64\n",
      " 3   Newspaper   200 non-null    float64\n",
      " 4   Sales       200 non-null    float64\n",
      "dtypes: float64(4), int64(1)\n",
      "memory usage: 7.9 KB\n"
     ]
    }
   ],
   "source": [
    "print(\"\\nDataset Information:\")\n",
    "df.info()"
   ]
  },
  {
   "cell_type": "code",
   "execution_count": 20,
   "id": "a92bf172-a8d3-456f-b03d-3ba407de7367",
   "metadata": {},
   "outputs": [
    {
     "name": "stdout",
     "output_type": "stream",
     "text": [
      "\n",
      "Descriptive Statistics for numerical columns:\n",
      "       Unnamed: 0          TV       Radio   Newspaper       Sales\n",
      "count  200.000000  200.000000  200.000000  200.000000  200.000000\n",
      "mean   100.500000  147.042500   23.264000   30.554000   14.022500\n",
      "std     57.879185   85.854236   14.846809   21.778621    5.217457\n",
      "min      1.000000    0.700000    0.000000    0.300000    1.600000\n",
      "25%     50.750000   74.375000    9.975000   12.750000   10.375000\n",
      "50%    100.500000  149.750000   22.900000   25.750000   12.900000\n",
      "75%    150.250000  218.825000   36.525000   45.100000   17.400000\n",
      "max    200.000000  296.400000   49.600000  114.000000   27.000000\n"
     ]
    }
   ],
   "source": [
    "print(\"\\nDescriptive Statistics for numerical columns:\")\n",
    "print(df.describe())"
   ]
  },
  {
   "cell_type": "code",
   "execution_count": 22,
   "id": "865b002f-b3aa-44f2-8d92-e5d31e700e93",
   "metadata": {},
   "outputs": [
    {
     "name": "stdout",
     "output_type": "stream",
     "text": [
      "\n",
      "Missing values in each column(NaN count):\n",
      "Unnamed: 0    0\n",
      "TV            0\n",
      "Radio         0\n",
      "Newspaper     0\n",
      "Sales         0\n",
      "dtype: int64\n"
     ]
    }
   ],
   "source": [
    "print(\"\\nMissing values in each column(NaN count):\")\n",
    "print(df.isnull().sum())"
   ]
  },
  {
   "cell_type": "code",
   "execution_count": 24,
   "id": "5479d721-f59a-47fd-a6a2-ef1f863240f5",
   "metadata": {},
   "outputs": [
    {
     "name": "stdout",
     "output_type": "stream",
     "text": [
      "\n",
      "Number of unique values in each columns:\n",
      "Unnamed: 0    200\n",
      "TV            190\n",
      "Radio         167\n",
      "Newspaper     172\n",
      "Sales         121\n",
      "dtype: int64\n"
     ]
    }
   ],
   "source": [
    "print(\"\\nNumber of unique values in each columns:\")\n",
    "print(df.nunique())"
   ]
  },
  {
   "cell_type": "code",
   "execution_count": 26,
   "id": "bd4c027f-ce40-48a2-a48f-95d1021d6179",
   "metadata": {},
   "outputs": [
    {
     "name": "stdout",
     "output_type": "stream",
     "text": [
      "\n",
      "Number of duplicate rows:0\n"
     ]
    }
   ],
   "source": [
    "print(f\"\\nNumber of duplicate rows:{df.duplicated().sum()}\")"
   ]
  },
  {
   "cell_type": "code",
   "execution_count": 28,
   "id": "a690e093-6955-4c7c-bf99-fb32c76a8e17",
   "metadata": {},
   "outputs": [
    {
     "name": "stdout",
     "output_type": "stream",
     "text": [
      "\n",
      "Raw Column Names:\n",
      "['Unnamed: 0', 'TV', 'Radio', 'Newspaper', 'Sales']\n"
     ]
    }
   ],
   "source": [
    "print(\"\\nRaw Column Names:\")\n",
    "print(df.columns.tolist())"
   ]
  },
  {
   "cell_type": "markdown",
   "id": "ab3c4e0c-947f-4a40-b238-dbb02f786d9b",
   "metadata": {},
   "source": [
    "# Data Cleaning and Preprocessing"
   ]
  },
  {
   "cell_type": "code",
   "execution_count": 31,
   "id": "b95696bd-759e-4c1d-85be-b24dd1920df9",
   "metadata": {},
   "outputs": [
    {
     "name": "stdout",
     "output_type": "stream",
     "text": [
      "\n",
      "Column names after stripping whitespace and lowercasing:\n",
      "['unnamed:_0', 'tv', 'radio', 'newspaper', 'sales']\n"
     ]
    }
   ],
   "source": [
    "df.columns = df.columns.str.strip().str.lower().str.replace(' ','_')\n",
    "print(\"\\nColumn names after stripping whitespace and lowercasing:\")\n",
    "print(df.columns.tolist())"
   ]
  },
  {
   "cell_type": "code",
   "execution_count": 35,
   "id": "a74f0dfb-9a29-45f7-a912-4c266f11a3bf",
   "metadata": {},
   "outputs": [
    {
     "name": "stdout",
     "output_type": "stream",
     "text": [
      "\n",
      "'unnamed;_0' column dropped.\n"
     ]
    }
   ],
   "source": [
    "if 'unnamed:_0' in df.columns:\n",
    "    df.drop('unnamed:_0', axis=1, inplace=True)\n",
    "    print(\"\\n'unnamed;_0' column dropped.\")"
   ]
  },
  {
   "cell_type": "raw",
   "id": "923c5be1-e5e9-4fdb-abaf-5d74cd51f770",
   "metadata": {},
   "source": [
    "# Handle Missing values"
   ]
  },
  {
   "cell_type": "code",
   "execution_count": 41,
   "id": "c00b93a1-ca87-46ff-93b8-0a12467718bf",
   "metadata": {},
   "outputs": [
    {
     "name": "stdout",
     "output_type": "stream",
     "text": [
      "\n",
      "No missing values found in the dataset.\n"
     ]
    }
   ],
   "source": [
    "if df.isnull().sum().sum() > 0:\n",
    "    print(f\"\\nBefore handling missing values: {df.isnull().sum().sum()} total NaNs.\")\n",
    "    df.dropna(inplace=True)\n",
    "    print(f\"After handling missing values: {df.isnull().sum().sum()} total NaNs (rows dropped).\")\n",
    "else:\n",
    "    print(\"\\nNo missing values found in the dataset.\")"
   ]
  },
  {
   "cell_type": "code",
   "execution_count": 43,
   "id": "39e93e39-d75f-4d67-a43f-b61687d7c1d8",
   "metadata": {},
   "outputs": [
    {
     "name": "stdout",
     "output_type": "stream",
     "text": [
      "\n",
      "Data types after preprocessing:\n",
      "tv           float64\n",
      "radio        float64\n",
      "newspaper    float64\n",
      "sales        float64\n",
      "dtype: object\n"
     ]
    }
   ],
   "source": [
    "print(\"\\nData types after preprocessing:\")\n",
    "print(df.dtypes)"
   ]
  },
  {
   "cell_type": "markdown",
   "id": "dc24cfbe-2f4f-42a9-b079-5266700edf1f",
   "metadata": {},
   "source": [
    "# Exploratory Data Analysis(EDA) and Visualization"
   ]
  },
  {
   "cell_type": "code",
   "execution_count": 46,
   "id": "c556ed1e-f792-4e76-9f20-951052f1f323",
   "metadata": {},
   "outputs": [
    {
     "data": {
      "image/png": "[encoded data removed]",
      "text/plain": [
       "<Figure size 1000x600 with 1 Axes>"
      ]
     },
     "metadata": {},
     "output_type": "display_data"
    }
   ],
   "source": [
    "plt.figure(figsize=(10,6))\n",
    "sns.histplot(df['sales'], kde=True, bins=20)\n",
    "plt.title('Distribution of Sales')\n",
    "plt.xlabel('Sales')\n",
    "plt.ylabel('count')\n",
    "plt.grid(True, linestyle='--', alpha=0.7)\n",
    "plt.show()"
   ]
  },
  {
   "cell_type": "code",
   "execution_count": 97,
   "id": "b7470f77-6812-404a-ad2d-b51ab857b41a",
   "metadata": {},
   "outputs": [
    {
     "data": {
      "application/vnd.plotly.v1+json": {
       "config": {
        "plotlyServerURL": "https://plot.ly"
       },
       "data": [
        {
         "alignmentgroup": "True",
         "bingroup": "x",
         "hovertemplate": "Sales Volume=%{x}<br>count=%{y}<extra></extra>",
         "legendgroup": "",
         "marker": {
          "color": "#636efa",
          "pattern": {
           "shape": ""
          }
         },
         "name": "",
         "nbinsx": 20,
         "offsetgroup": "",
         "orientation": "v",
         "showlegend": false,
         "type": "histogram",
         "x": [
          22.1,
          10.4,
          9.3,
          18.5,
          12.9,
          7.2,
          11.8,
          13.2,
          4.8,
          10.6,
          8.6,
          17.4,
          9.2,
          9.7,
          19,
          22.4,
          12.5,
          24.4,
          11.3,
          14.6,
          18,
          12.5,
          5.6,
          15.5,
          9.7,
          12,
          15,
          15.9,
          18.9,
          10.5,
          21.4,
          11.9,
          9.6,
          17.4,
          9.5,
          12.8,
          25.4,
          14.7,
          10.1,
          21.5,
          16.6,
          17.1,
          20.7,
          12.9,
          8.5,
          14.9,
          10.6,
          23.2,
          14.8,
          9.7,
          11.4,
          10.7,
          22.6,
          21.2,
          20.2,
          23.7,
          5.5,
          13.2,
          23.8,
          18.4,
          8.1,
          24.2,
          15.7,
          14,
          18,
          9.3,
          9.5,
          13.4,
          18.9,
          22.3,
          18.3,
          12.4,
          8.8,
          11,
          17,
          8.7,
          6.9,
          14.2,
          5.3,
          11,
          11.8,
          12.3,
          11.3,
          13.6,
          21.7,
          15.2,
          12,
          16,
          12.9,
          16.7,
          11.2,
          7.3,
          19.4,
          22.2,
          11.5,
          16.9,
          11.7,
          15.5,
          25.4,
          17.2,
          11.7,
          23.8,
          14.8,
          14.7,
          20.7,
          19.2,
          7.2,
          8.7,
          5.3,
          19.8,
          13.4,
          21.8,
          14.1,
          15.9,
          14.6,
          12.6,
          12.2,
          9.4,
          15.9,
          6.6,
          15.5,
          7,
          11.6,
          15.2,
          19.7,
          10.6,
          6.6,
          8.8,
          24.7,
          9.7,
          1.6,
          12.7,
          5.7,
          19.6,
          10.8,
          11.6,
          9.5,
          20.8,
          9.6,
          20.7,
          10.9,
          19.2,
          20.1,
          10.4,
          11.4,
          10.3,
          13.2,
          25.4,
          10.9,
          10.1,
          16.1,
          11.6,
          16.6,
          19,
          15.6,
          3.2,
          15.3,
          10.1,
          7.3,
          12.9,
          14.4,
          13.3,
          14.9,
          18,
          11.9,
          11.9,
          8,
          12.2,
          17.1,
          15,
          8.4,
          14.5,
          7.6,
          11.7,
          11.5,
          27,
          20.2,
          11.7,
          11.8,
          12.6,
          10.5,
          12.2,
          8.7,
          26.2,
          17.6,
          22.6,
          10.3,
          17.3,
          15.9,
          6.7,
          10.8,
          9.9,
          5.9,
          19.6,
          17.3,
          7.6,
          9.7,
          12.8,
          25.5,
          13.4
         ],
         "xaxis": "x",
         "yaxis": "y"
        },
        {
         "alignmentgroup": "True",
         "boxpoints": "all",
         "fillcolor": "rgba(255,255,255,0)",
         "hoveron": "points",
         "hovertemplate": "Sales Volume=%{x}<extra></extra>",
         "jitter": 0,
         "legendgroup": "",
         "line": {
          "color": "rgba(255,255,255,0)"
         },
         "marker": {
          "color": "#636efa",
          "symbol": "line-ns-open"
         },
         "name": "",
         "offsetgroup": "",
         "showlegend": false,
         "type": "box",
         "x": [
          22.1,
          10.4,
          9.3,
          18.5,
          12.9,
          7.2,
          11.8,
          13.2,
          4.8,
          10.6,
          8.6,
          17.4,
          9.2,
          9.7,
          19,
          22.4,
          12.5,
          24.4,
          11.3,
          14.6,
          18,
          12.5,
          5.6,
          15.5,
          9.7,
          12,
          15,
          15.9,
          18.9,
          10.5,
          21.4,
          11.9,
          9.6,
          17.4,
          9.5,
          12.8,
          25.4,
          14.7,
          10.1,
          21.5,
          16.6,
          17.1,
          20.7,
          12.9,
          8.5,
          14.9,
          10.6,
          23.2,
          14.8,
          9.7,
          11.4,
          10.7,
          22.6,
          21.2,
          20.2,
          23.7,
          5.5,
          13.2,
          23.8,
          18.4,
          8.1,
          24.2,
          15.7,
          14,
          18,
          9.3,
          9.5,
          13.4,
          18.9,
          22.3,
          18.3,
          12.4,
          8.8,
          11,
          17,
          8.7,
          6.9,
          14.2,
          5.3,
          11,
          11.8,
          12.3,
          11.3,
          13.6,
          21.7,
          15.2,
          12,
          16,
          12.9,
          16.7,
          11.2,
          7.3,
          19.4,
          22.2,
          11.5,
          16.9,
          11.7,
          15.5,
          25.4,
          17.2,
          11.7,
          23.8,
          14.8,
          14.7,
          20.7,
          19.2,
          7.2,
          8.7,
          5.3,
          19.8,
          13.4,
          21.8,
          14.1,
          15.9,
          14.6,
          12.6,
          12.2,
          9.4,
          15.9,
          6.6,
          15.5,
          7,
          11.6,
          15.2,
          19.7,
          10.6,
          6.6,
          8.8,
          24.7,
          9.7,
          1.6,
          12.7,
          5.7,
          19.6,
          10.8,
          11.6,
          9.5,
          20.8,
          9.6,
          20.7,
          10.9,
          19.2,
          20.1,
          10.4,
          11.4,
          10.3,
          13.2,
          25.4,
          10.9,
          10.1,
          16.1,
          11.6,
          16.6,
          19,
          15.6,
          3.2,
          15.3,
          10.1,
          7.3,
          12.9,
          14.4,
          13.3,
          14.9,
          18,
          11.9,
          11.9,
          8,
          12.2,
          17.1,
          15,
          8.4,
          14.5,
          7.6,
          11.7,
          11.5,
          27,
          20.2,
          11.7,
          11.8,
          12.6,
          10.5,
          12.2,
          8.7,
          26.2,
          17.6,
          22.6,
          10.3,
          17.3,
          15.9,
          6.7,
          10.8,
          9.9,
          5.9,
          19.6,
          17.3,
          7.6,
          9.7,
          12.8,
          25.5,
          13.4
         ],
         "xaxis": "x2",
         "yaxis": "y2"
        }
       ],
       "layout": {
        "autosize": true,
        "barmode": "relative",
        "legend": {
         "tracegroupgap": 0
        },
        "template": {
         "data": {
          "bar": [
           {
            "error_x": {
             "color": "#2a3f5f"
            },
            "error_y": {
             "color": "#2a3f5f"
            },
            "marker": {
             "line": {
              "color": "#E5ECF6",
              "width": 0.5
             },
             "pattern": {
              "fillmode": "overlay",
              "size": 10,
              "solidity": 0.2
             }
            },
            "type": "bar"
           }
          ],
          "barpolar": [
           {
            "marker": {
             "line": {
              "color": "#E5ECF6",
              "width": 0.5
             },
             "pattern": {
              "fillmode": "overlay",
              "size": 10,
              "solidity": 0.2
             }
            },
            "type": "barpolar"
           }
          ],
          "carpet": [
           {
            "aaxis": {
             "endlinecolor": "#2a3f5f",
             "gridcolor": "white",
             "linecolor": "white",
             "minorgridcolor": "white",
             "startlinecolor": "#2a3f5f"
            },
            "baxis": {
             "endlinecolor": "#2a3f5f",
             "gridcolor": "white",
             "linecolor": "white",
             "minorgridcolor": "white",
             "startlinecolor": "#2a3f5f"
            },
            "type": "carpet"
           }
          ],
          "choropleth": [
           {
            "colorbar": {
             "outlinewidth": 0,
             "ticks": ""
            },
            "type": "choropleth"
           }
          ],
          "contour": [
           {
            "colorbar": {
             "outlinewidth": 0,
             "ticks": ""
            },
            "colorscale": [
             [
              0,
              "#0d0887"
             ],
             [
              0.1111111111111111,
              "#46039f"
             ],
             [
              0.2222222222222222,
              "#7201a8"
             ],
             [
              0.3333333333333333,
              "#9c179e"
             ],
             [
              0.4444444444444444,
              "#bd3786"
             ],
             [
              0.5555555555555556,
              "#d8576b"
             ],
             [
              0.6666666666666666,
              "#ed7953"
             ],
             [
              0.7777777777777778,
              "#fb9f3a"
             ],
             [
              0.8888888888888888,
              "#fdca26"
             ],
             [
              1,
              "#f0f921"
             ]
            ],
            "type": "contour"
           }
          ],
          "contourcarpet": [
           {
            "colorbar": {
             "outlinewidth": 0,
             "ticks": ""
            },
            "type": "contourcarpet"
           }
          ],
          "heatmap": [
           {
            "colorbar": {
             "outlinewidth": 0,
             "ticks": ""
            },
            "colorscale": [
             [
              0,
              "#0d0887"
             ],
             [
              0.1111111111111111,
              "#46039f"
             ],
             [
              0.2222222222222222,
              "#7201a8"
             ],
             [
              0.3333333333333333,
              "#9c179e"
             ],
             [
              0.4444444444444444,
              "#bd3786"
             ],
             [
              0.5555555555555556,
              "#d8576b"
             ],
             [
              0.6666666666666666,
              "#ed7953"
             ],
             [
              0.7777777777777778,
              "#fb9f3a"
             ],
             [
              0.8888888888888888,
              "#fdca26"
             ],
             [
              1,
              "#f0f921"
             ]
            ],
            "type": "heatmap"
           }
          ],
          "heatmapgl": [
           {
            "colorbar": {
             "outlinewidth": 0,
             "ticks": ""
            },
            "colorscale": [
             [
              0,
              "#0d0887"
             ],
             [
              0.1111111111111111,
              "#46039f"
             ],
             [
              0.2222222222222222,
              "#7201a8"
             ],
             [
              0.3333333333333333,
              "#9c179e"
             ],
             [
              0.4444444444444444,
              "#bd3786"
             ],
             [
              0.5555555555555556,
              "#d8576b"
             ],
             [
              0.6666666666666666,
              "#ed7953"
             ],
             [
              0.7777777777777778,
              "#fb9f3a"
             ],
             [
              0.8888888888888888,
              "#fdca26"
             ],
             [
              1,
              "#f0f921"
             ]
            ],
            "type": "heatmapgl"
           }
          ],
          "histogram": [
           {
            "marker": {
             "pattern": {
              "fillmode": "overlay",
              "size": 10,
              "solidity": 0.2
             }
            },
            "type": "histogram"
           }
          ],
          "histogram2d": [
           {
            "colorbar": {
             "outlinewidth": 0,
             "ticks": ""
            },
            "colorscale": [
             [
              0,
              "#0d0887"
             ],
             [
              0.1111111111111111,
              "#46039f"
             ],
             [
              0.2222222222222222,
              "#7201a8"
             ],
             [
              0.3333333333333333,
              "#9c179e"
             ],
             [
              0.4444444444444444,
              "#bd3786"
             ],
             [
              0.5555555555555556,
              "#d8576b"
             ],
             [
              0.6666666666666666,
              "#ed7953"
             ],
             [
              0.7777777777777778,
              "#fb9f3a"
             ],
             [
              0.8888888888888888,
              "#fdca26"
             ],
             [
              1,
              "#f0f921"
             ]
            ],
            "type": "histogram2d"
           }
          ],
          "histogram2dcontour": [
           {
            "colorbar": {
             "outlinewidth": 0,
             "ticks": ""
            },
            "colorscale": [
             [
              0,
              "#0d0887"
             ],
             [
              0.1111111111111111,
              "#46039f"
             ],
             [
              0.2222222222222222,
              "#7201a8"
             ],
             [
              0.3333333333333333,
              "#9c179e"
             ],
             [
              0.4444444444444444,
              "#bd3786"
             ],
             [
              0.5555555555555556,
              "#d8576b"
             ],
             [
              0.6666666666666666,
              "#ed7953"
             ],
             [
              0.7777777777777778,
              "#fb9f3a"
             ],
             [
              0.8888888888888888,
              "#fdca26"
             ],
             [
              1,
              "#f0f921"
             ]
            ],
            "type": "histogram2dcontour"
           }
          ],
          "mesh3d": [
           {
            "colorbar": {
             "outlinewidth": 0,
             "ticks": ""
            },
            "type": "mesh3d"
           }
          ],
          "parcoords": [
           {
            "line": {
             "colorbar": {
              "outlinewidth": 0,
              "ticks": ""
             }
            },
            "type": "parcoords"
           }
          ],
          "pie": [
           {
            "automargin": true,
            "type": "pie"
           }
          ],
          "scatter": [
           {
            "fillpattern": {
             "fillmode": "overlay",
             "size": 10,
             "solidity": 0.2
            },
            "type": "scatter"
           }
          ],
          "scatter3d": [
           {
            "line": {
             "colorbar": {
              "outlinewidth": 0,
              "ticks": ""
             }
            },
            "marker": {
             "colorbar": {
              "outlinewidth": 0,
              "ticks": ""
             }
            },
            "type": "scatter3d"
           }
          ],
          "scattercarpet": [
           {
            "marker": {
             "colorbar": {
              "outlinewidth": 0,
              "ticks": ""
             }
            },
            "type": "scattercarpet"
           }
          ],
          "scattergeo": [
           {
            "marker": {
             "colorbar": {
              "outlinewidth": 0,
              "ticks": ""
             }
            },
            "type": "scattergeo"
           }
          ],
          "scattergl": [
           {
            "marker": {
             "colorbar": {
              "outlinewidth": 0,
              "ticks": ""
             }
            },
            "type": "scattergl"
           }
          ],
          "scattermapbox": [
           {
            "marker": {
             "colorbar": {
              "outlinewidth": 0,
              "ticks": ""
             }
            },
            "type": "scattermapbox"
           }
          ],
          "scatterpolar": [
           {
            "marker": {
             "colorbar": {
              "outlinewidth": 0,
              "ticks": ""
             }
            },
            "type": "scatterpolar"
           }
          ],
          "scatterpolargl": [
           {
            "marker": {
             "colorbar": {
              "outlinewidth": 0,
              "ticks": ""
             }
            },
            "type": "scatterpolargl"
           }
          ],
          "scatterternary": [
           {
            "marker": {
             "colorbar": {
              "outlinewidth": 0,
              "ticks": ""
             }
            },
            "type": "scatterternary"
           }
          ],
          "surface": [
           {
            "colorbar": {
             "outlinewidth": 0,
             "ticks": ""
            },
            "colorscale": [
             [
              0,
              "#0d0887"
             ],
             [
              0.1111111111111111,
              "#46039f"
             ],
             [
              0.2222222222222222,
              "#7201a8"
             ],
             [
              0.3333333333333333,
              "#9c179e"
             ],
             [
              0.4444444444444444,
              "#bd3786"
             ],
             [
              0.5555555555555556,
              "#d8576b"
             ],
             [
              0.6666666666666666,
              "#ed7953"
             ],
             [
              0.7777777777777778,
              "#fb9f3a"
             ],
             [
              0.8888888888888888,
              "#fdca26"
             ],
             [
              1,
              "#f0f921"
             ]
            ],
            "type": "surface"
           }
          ],
          "table": [
           {
            "cells": {
             "fill": {
              "color": "#EBF0F8"
             },
             "line": {
              "color": "white"
             }
            },
            "header": {
             "fill": {
              "color": "#C8D4E3"
             },
             "line": {
              "color": "white"
             }
            },
            "type": "table"
           }
          ]
         },
         "layout": {
          "annotationdefaults": {
           "arrowcolor": "#2a3f5f",
           "arrowhead": 0,
           "arrowwidth": 1
          },
          "autotypenumbers": "strict",
          "coloraxis": {
           "colorbar": {
            "outlinewidth": 0,
            "ticks": ""
           }
          },
          "colorscale": {
           "diverging": [
            [
             0,
             "#8e0152"
            ],
            [
             0.1,
             "#c51b7d"
            ],
            [
             0.2,
             "#de77ae"
            ],
            [
             0.3,
             "#f1b6da"
            ],
            [
             0.4,
             "#fde0ef"
            ],
            [
             0.5,
             "#f7f7f7"
            ],
            [
             0.6,
             "#e6f5d0"
            ],
            [
             0.7,
             "#b8e186"
            ],
            [
             0.8,
             "#7fbc41"
            ],
            [
             0.9,
             "#4d9221"
            ],
            [
             1,
             "#276419"
            ]
           ],
           "sequential": [
            [
             0,
             "#0d0887"
            ],
            [
             0.1111111111111111,
             "#46039f"
            ],
            [
             0.2222222222222222,
             "#7201a8"
            ],
            [
             0.3333333333333333,
             "#9c179e"
            ],
            [
             0.4444444444444444,
             "#bd3786"
            ],
            [
             0.5555555555555556,
             "#d8576b"
            ],
            [
             0.6666666666666666,
             "#ed7953"
            ],
            [
             0.7777777777777778,
             "#fb9f3a"
            ],
            [
             0.8888888888888888,
             "#fdca26"
            ],
            [
             1,
             "#f0f921"
            ]
           ],
           "sequentialminus": [
            [
             0,
             "#0d0887"
            ],
            [
             0.1111111111111111,
             "#46039f"
            ],
            [
             0.2222222222222222,
             "#7201a8"
            ],
            [
             0.3333333333333333,
             "#9c179e"
            ],
            [
             0.4444444444444444,
             "#bd3786"
            ],
            [
             0.5555555555555556,
             "#d8576b"
            ],
            [
             0.6666666666666666,
             "#ed7953"
            ],
            [
             0.7777777777777778,
             "#fb9f3a"
            ],
            [
             0.8888888888888888,
             "#fdca26"
            ],
            [
             1,
             "#f0f921"
            ]
           ]
          },
          "colorway": [
           "#636efa",
           "#EF553B",
           "#00cc96",
           "#ab63fa",
           "#FFA15A",
           "#19d3f3",
           "#FF6692",
           "#B6E880",
           "#FF97FF",
           "#FECB52"
          ],
          "font": {
           "color": "#2a3f5f"
          },
          "geo": {
           "bgcolor": "white",
           "lakecolor": "white",
           "landcolor": "#E5ECF6",
           "showlakes": true,
           "showland": true,
           "subunitcolor": "white"
          },
          "hoverlabel": {
           "align": "left"
          },
          "hovermode": "closest",
          "mapbox": {
           "style": "light"
          },
          "paper_bgcolor": "white",
          "plot_bgcolor": "#E5ECF6",
          "polar": {
           "angularaxis": {
            "gridcolor": "white",
            "linecolor": "white",
            "ticks": ""
           },
           "bgcolor": "#E5ECF6",
           "radialaxis": {
            "gridcolor": "white",
            "linecolor": "white",
            "ticks": ""
           }
          },
          "scene": {
           "xaxis": {
            "backgroundcolor": "#E5ECF6",
            "gridcolor": "white",
            "gridwidth": 2,
            "linecolor": "white",
            "showbackground": true,
            "ticks": "",
            "zerolinecolor": "white"
           },
           "yaxis": {
            "backgroundcolor": "#E5ECF6",
            "gridcolor": "white",
            "gridwidth": 2,
            "linecolor": "white",
            "showbackground": true,
            "ticks": "",
            "zerolinecolor": "white"
           },
           "zaxis": {
            "backgroundcolor": "#E5ECF6",
            "gridcolor": "white",
            "gridwidth": 2,
            "linecolor": "white",
            "showbackground": true,
            "ticks": "",
            "zerolinecolor": "white"
           }
          },
          "shapedefaults": {
           "line": {
            "color": "#2a3f5f"
           }
          },
          "ternary": {
           "aaxis": {
            "gridcolor": "white",
            "linecolor": "white",
            "ticks": ""
           },
           "baxis": {
            "gridcolor": "white",
            "linecolor": "white",
            "ticks": ""
           },
           "bgcolor": "#E5ECF6",
           "caxis": {
            "gridcolor": "white",
            "linecolor": "white",
            "ticks": ""
           }
          },
          "title": {
           "x": 0.05
          },
          "xaxis": {
           "automargin": true,
           "gridcolor": "white",
           "linecolor": "white",
           "ticks": "",
           "title": {
            "standoff": 15
           },
           "zerolinecolor": "white",
           "zerolinewidth": 2
          },
          "yaxis": {
           "automargin": true,
           "gridcolor": "white",
           "linecolor": "white",
           "ticks": "",
           "title": {
            "standoff": 15
           },
           "zerolinecolor": "white",
           "zerolinewidth": 2
          }
         }
        },
        "title": {
         "text": "Distribution of Sales (Interactive)"
        },
        "xaxis": {
         "anchor": "y",
         "autorange": true,
         "domain": [
          0,
          1
         ],
         "range": [
          0,
          28.42105263157895
         ],
         "title": {
          "text": "Sales Volume"
         },
         "type": "linear"
        },
        "xaxis2": {
         "anchor": "y2",
         "autorange": true,
         "domain": [
          0,
          1
         ],
         "matches": "x",
         "range": [
          0,
          28.42105263157895
         ],
         "showgrid": true,
         "showticklabels": false,
         "type": "linear"
        },
        "yaxis": {
         "anchor": "x",
         "autorange": true,
         "domain": [
          0,
          0.8316
         ],
         "range": [
          0,
          41.05263157894737
         ],
         "title": {
          "text": "count"
         }
        },
        "yaxis2": {
         "anchor": "x2",
         "autorange": true,
         "domain": [
          0.8416,
          1
         ],
         "matches": "y2",
         "range": [
          -0.6175917215428034,
          0.5
         ],
         "showgrid": false,
         "showline": false,
         "showticklabels": false,
         "ticks": "",
         "type": "category"
        }
       }
      },
      "image/png": "[encoded data removed]",
      "text/html": [
       "<div>                            <div id=\"c21f7a72-b5c1-4ae5-b277-70f4f04f6ca1\" class=\"plotly-graph-div\" style=\"height:525px; width:100%;\"></div>            <script type=\"text/javascript\">                require([\"plotly\"], function(Plotly) {                    window.PLOTLYENV=window.PLOTLYENV || {};                                    if (document.getElementById(\"c21f7a72-b5c1-4ae5-b277-70f4f04f6ca1\")) {                    Plotly.newPlot(                        \"c21f7a72-b5c1-4ae5-b277-70f4f04f6ca1\",                        [{\"alignmentgroup\":\"True\",\"bingroup\":\"x\",\"hovertemplate\":\"Sales Volume=%{x}\\u003cbr\\u003ecount=%{y}\\u003cextra\\u003e\\u003c\\u002fextra\\u003e\",\"legendgroup\":\"\",\"marker\":{\"color\":\"#636efa\",\"pattern\":{\"shape\":\"\"}},\"name\":\"\",\"nbinsx\":20,\"offsetgroup\":\"\",\"orientation\":\"v\",\"showlegend\":false,\"x\":[22.1,10.4,9.3,18.5,12.9,7.2,11.8,13.2,4.8,10.6,8.6,17.4,9.2,9.7,19.0,22.4,12.5,24.4,11.3,14.6,18.0,12.5,5.6,15.5,9.7,12.0,15.0,15.9,18.9,10.5,21.4,11.9,9.6,17.4,9.5,12.8,25.4,14.7,10.1,21.5,16.6,17.1,20.7,12.9,8.5,14.9,10.6,23.2,14.8,9.7,11.4,10.7,22.6,21.2,20.2,23.7,5.5,13.2,23.8,18.4,8.1,24.2,15.7,14.0,18.0,9.3,9.5,13.4,18.9,22.3,18.3,12.4,8.8,11.0,17.0,8.7,6.9,14.2,5.3,11.0,11.8,12.3,11.3,13.6,21.7,15.2,12.0,16.0,12.9,16.7,11.2,7.3,19.4,22.2,11.5,16.9,11.7,15.5,25.4,17.2,11.7,23.8,14.8,14.7,20.7,19.2,7.2,8.7,5.3,19.8,13.4,21.8,14.1,15.9,14.6,12.6,12.2,9.4,15.9,6.6,15.5,7.0,11.6,15.2,19.7,10.6,6.6,8.8,24.7,9.7,1.6,12.7,5.7,19.6,10.8,11.6,9.5,20.8,9.6,20.7,10.9,19.2,20.1,10.4,11.4,10.3,13.2,25.4,10.9,10.1,16.1,11.6,16.6,19.0,15.6,3.2,15.3,10.1,7.3,12.9,14.4,13.3,14.9,18.0,11.9,11.9,8.0,12.2,17.1,15.0,8.4,14.5,7.6,11.7,11.5,27.0,20.2,11.7,11.8,12.6,10.5,12.2,8.7,26.2,17.6,22.6,10.3,17.3,15.9,6.7,10.8,9.9,5.9,19.6,17.3,7.6,9.7,12.8,25.5,13.4],\"xaxis\":\"x\",\"yaxis\":\"y\",\"type\":\"histogram\"},{\"alignmentgroup\":\"True\",\"boxpoints\":\"all\",\"fillcolor\":\"rgba(255,255,255,0)\",\"hoveron\":\"points\",\"hovertemplate\":\"Sales Volume=%{x}\\u003cextra\\u003e\\u003c\\u002fextra\\u003e\",\"jitter\":0,\"legendgroup\":\"\",\"line\":{\"color\":\"rgba(255,255,255,0)\"},\"marker\":{\"color\":\"#636efa\",\"symbol\":\"line-ns-open\"},\"name\":\"\",\"offsetgroup\":\"\",\"showlegend\":false,\"x\":[22.1,10.4,9.3,18.5,12.9,7.2,11.8,13.2,4.8,10.6,8.6,17.4,9.2,9.7,19.0,22.4,12.5,24.4,11.3,14.6,18.0,12.5,5.6,15.5,9.7,12.0,15.0,15.9,18.9,10.5,21.4,11.9,9.6,17.4,9.5,12.8,25.4,14.7,10.1,21.5,16.6,17.1,20.7,12.9,8.5,14.9,10.6,23.2,14.8,9.7,11.4,10.7,22.6,21.2,20.2,23.7,5.5,13.2,23.8,18.4,8.1,24.2,15.7,14.0,18.0,9.3,9.5,13.4,18.9,22.3,18.3,12.4,8.8,11.0,17.0,8.7,6.9,14.2,5.3,11.0,11.8,12.3,11.3,13.6,21.7,15.2,12.0,16.0,12.9,16.7,11.2,7.3,19.4,22.2,11.5,16.9,11.7,15.5,25.4,17.2,11.7,23.8,14.8,14.7,20.7,19.2,7.2,8.7,5.3,19.8,13.4,21.8,14.1,15.9,14.6,12.6,12.2,9.4,15.9,6.6,15.5,7.0,11.6,15.2,19.7,10.6,6.6,8.8,24.7,9.7,1.6,12.7,5.7,19.6,10.8,11.6,9.5,20.8,9.6,20.7,10.9,19.2,20.1,10.4,11.4,10.3,13.2,25.4,10.9,10.1,16.1,11.6,16.6,19.0,15.6,3.2,15.3,10.1,7.3,12.9,14.4,13.3,14.9,18.0,11.9,11.9,8.0,12.2,17.1,15.0,8.4,14.5,7.6,11.7,11.5,27.0,20.2,11.7,11.8,12.6,10.5,12.2,8.7,26.2,17.6,22.6,10.3,17.3,15.9,6.7,10.8,9.9,5.9,19.6,17.3,7.6,9.7,12.8,25.5,13.4],\"xaxis\":\"x2\",\"yaxis\":\"y2\",\"type\":\"box\"}],                        {\"template\":{\"data\":{\"histogram2dcontour\":[{\"type\":\"histogram2dcontour\",\"colorbar\":{\"outlinewidth\":0,\"ticks\":\"\"},\"colorscale\":[[0.0,\"#0d0887\"],[0.1111111111111111,\"#46039f\"],[0.2222222222222222,\"#7201a8\"],[0.3333333333333333,\"#9c179e\"],[0.4444444444444444,\"#bd3786\"],[0.5555555555555556,\"#d8576b\"],[0.6666666666666666,\"#ed7953\"],[0.7777777777777778,\"#fb9f3a\"],[0.8888888888888888,\"#fdca26\"],[1.0,\"#f0f921\"]]}],\"choropleth\":[{\"type\":\"choropleth\",\"colorbar\":{\"outlinewidth\":0,\"ticks\":\"\"}}],\"histogram2d\":[{\"type\":\"histogram2d\",\"colorbar\":{\"outlinewidth\":0,\"ticks\":\"\"},\"colorscale\":[[0.0,\"#0d0887\"],[0.1111111111111111,\"#46039f\"],[0.2222222222222222,\"#7201a8\"],[0.3333333333333333,\"#9c179e\"],[0.4444444444444444,\"#bd3786\"],[0.5555555555555556,\"#d8576b\"],[0.6666666666666666,\"#ed7953\"],[0.7777777777777778,\"#fb9f3a\"],[0.8888888888888888,\"#fdca26\"],[1.0,\"#f0f921\"]]}],\"heatmap\":[{\"type\":\"heatmap\",\"colorbar\":{\"outlinewidth\":0,\"ticks\":\"\"},\"colorscale\":[[0.0,\"#0d0887\"],[0.1111111111111111,\"#46039f\"],[0.2222222222222222,\"#7201a8\"],[0.3333333333333333,\"#9c179e\"],[0.4444444444444444,\"#bd3786\"],[0.5555555555555556,\"#d8576b\"],[0.6666666666666666,\"#ed7953\"],[0.7777777777777778,\"#fb9f3a\"],[0.8888888888888888,\"#fdca26\"],[1.0,\"#f0f921\"]]}],\"heatmapgl\":[{\"type\":\"heatmapgl\",\"colorbar\":{\"outlinewidth\":0,\"ticks\":\"\"},\"colorscale\":[[0.0,\"#0d0887\"],[0.1111111111111111,\"#46039f\"],[0.2222222222222222,\"#7201a8\"],[0.3333333333333333,\"#9c179e\"],[0.4444444444444444,\"#bd3786\"],[0.5555555555555556,\"#d8576b\"],[0.6666666666666666,\"#ed7953\"],[0.7777777777777778,\"#fb9f3a\"],[0.8888888888888888,\"#fdca26\"],[1.0,\"#f0f921\"]]}],\"contourcarpet\":[{\"type\":\"contourcarpet\",\"colorbar\":{\"outlinewidth\":0,\"ticks\":\"\"}}],\"contour\":[{\"type\":\"contour\",\"colorbar\":{\"outlinewidth\":0,\"ticks\":\"\"},\"colorscale\":[[0.0,\"#0d0887\"],[0.1111111111111111,\"#46039f\"],[0.2222222222222222,\"#7201a8\"],[0.3333333333333333,\"#9c179e\"],[0.4444444444444444,\"#bd3786\"],[0.5555555555555556,\"#d8576b\"],[0.6666666666666666,\"#ed7953\"],[0.7777777777777778,\"#fb9f3a\"],[0.8888888888888888,\"#fdca26\"],[1.0,\"#f0f921\"]]}],\"surface\":[{\"type\":\"surface\",\"colorbar\":{\"outlinewidth\":0,\"ticks\":\"\"},\"colorscale\":[[0.0,\"#0d0887\"],[0.1111111111111111,\"#46039f\"],[0.2222222222222222,\"#7201a8\"],[0.3333333333333333,\"#9c179e\"],[0.4444444444444444,\"#bd3786\"],[0.5555555555555556,\"#d8576b\"],[0.6666666666666666,\"#ed7953\"],[0.7777777777777778,\"#fb9f3a\"],[0.8888888888888888,\"#fdca26\"],[1.0,\"#f0f921\"]]}],\"mesh3d\":[{\"type\":\"mesh3d\",\"colorbar\":{\"outlinewidth\":0,\"ticks\":\"\"}}],\"scatter\":[{\"fillpattern\":{\"fillmode\":\"overlay\",\"size\":10,\"solidity\":0.2},\"type\":\"scatter\"}],\"parcoords\":[{\"type\":\"parcoords\",\"line\":{\"colorbar\":{\"outlinewidth\":0,\"ticks\":\"\"}}}],\"scatterpolargl\":[{\"type\":\"scatterpolargl\",\"marker\":{\"colorbar\":{\"outlinewidth\":0,\"ticks\":\"\"}}}],\"bar\":[{\"error_x\":{\"color\":\"#2a3f5f\"},\"error_y\":{\"color\":\"#2a3f5f\"},\"marker\":{\"line\":{\"color\":\"#E5ECF6\",\"width\":0.5},\"pattern\":{\"fillmode\":\"overlay\",\"size\":10,\"solidity\":0.2}},\"type\":\"bar\"}],\"scattergeo\":[{\"type\":\"scattergeo\",\"marker\":{\"colorbar\":{\"outlinewidth\":0,\"ticks\":\"\"}}}],\"scatterpolar\":[{\"type\":\"scatterpolar\",\"marker\":{\"colorbar\":{\"outlinewidth\":0,\"ticks\":\"\"}}}],\"histogram\":[{\"marker\":{\"pattern\":{\"fillmode\":\"overlay\",\"size\":10,\"solidity\":0.2}},\"type\":\"histogram\"}],\"scattergl\":[{\"type\":\"scattergl\",\"marker\":{\"colorbar\":{\"outlinewidth\":0,\"ticks\":\"\"}}}],\"scatter3d\":[{\"type\":\"scatter3d\",\"line\":{\"colorbar\":{\"outlinewidth\":0,\"ticks\":\"\"}},\"marker\":{\"colorbar\":{\"outlinewidth\":0,\"ticks\":\"\"}}}],\"scattermapbox\":[{\"type\":\"scattermapbox\",\"marker\":{\"colorbar\":{\"outlinewidth\":0,\"ticks\":\"\"}}}],\"scatterternary\":[{\"type\":\"scatterternary\",\"marker\":{\"colorbar\":{\"outlinewidth\":0,\"ticks\":\"\"}}}],\"scattercarpet\":[{\"type\":\"scattercarpet\",\"marker\":{\"colorbar\":{\"outlinewidth\":0,\"ticks\":\"\"}}}],\"carpet\":[{\"aaxis\":{\"endlinecolor\":\"#2a3f5f\",\"gridcolor\":\"white\",\"linecolor\":\"white\",\"minorgridcolor\":\"white\",\"startlinecolor\":\"#2a3f5f\"},\"baxis\":{\"endlinecolor\":\"#2a3f5f\",\"gridcolor\":\"white\",\"linecolor\":\"white\",\"minorgridcolor\":\"white\",\"startlinecolor\":\"#2a3f5f\"},\"type\":\"carpet\"}],\"table\":[{\"cells\":{\"fill\":{\"color\":\"#EBF0F8\"},\"line\":{\"color\":\"white\"}},\"header\":{\"fill\":{\"color\":\"#C8D4E3\"},\"line\":{\"color\":\"white\"}},\"type\":\"table\"}],\"barpolar\":[{\"marker\":{\"line\":{\"color\":\"#E5ECF6\",\"width\":0.5},\"pattern\":{\"fillmode\":\"overlay\",\"size\":10,\"solidity\":0.2}},\"type\":\"barpolar\"}],\"pie\":[{\"automargin\":true,\"type\":\"pie\"}]},\"layout\":{\"autotypenumbers\":\"strict\",\"colorway\":[\"#636efa\",\"#EF553B\",\"#00cc96\",\"#ab63fa\",\"#FFA15A\",\"#19d3f3\",\"#FF6692\",\"#B6E880\",\"#FF97FF\",\"#FECB52\"],\"font\":{\"color\":\"#2a3f5f\"},\"hovermode\":\"closest\",\"hoverlabel\":{\"align\":\"left\"},\"paper_bgcolor\":\"white\",\"plot_bgcolor\":\"#E5ECF6\",\"polar\":{\"bgcolor\":\"#E5ECF6\",\"angularaxis\":{\"gridcolor\":\"white\",\"linecolor\":\"white\",\"ticks\":\"\"},\"radialaxis\":{\"gridcolor\":\"white\",\"linecolor\":\"white\",\"ticks\":\"\"}},\"ternary\":{\"bgcolor\":\"#E5ECF6\",\"aaxis\":{\"gridcolor\":\"white\",\"linecolor\":\"white\",\"ticks\":\"\"},\"baxis\":{\"gridcolor\":\"white\",\"linecolor\":\"white\",\"ticks\":\"\"},\"caxis\":{\"gridcolor\":\"white\",\"linecolor\":\"white\",\"ticks\":\"\"}},\"coloraxis\":{\"colorbar\":{\"outlinewidth\":0,\"ticks\":\"\"}},\"colorscale\":{\"sequential\":[[0.0,\"#0d0887\"],[0.1111111111111111,\"#46039f\"],[0.2222222222222222,\"#7201a8\"],[0.3333333333333333,\"#9c179e\"],[0.4444444444444444,\"#bd3786\"],[0.5555555555555556,\"#d8576b\"],[0.6666666666666666,\"#ed7953\"],[0.7777777777777778,\"#fb9f3a\"],[0.8888888888888888,\"#fdca26\"],[1.0,\"#f0f921\"]],\"sequentialminus\":[[0.0,\"#0d0887\"],[0.1111111111111111,\"#46039f\"],[0.2222222222222222,\"#7201a8\"],[0.3333333333333333,\"#9c179e\"],[0.4444444444444444,\"#bd3786\"],[0.5555555555555556,\"#d8576b\"],[0.6666666666666666,\"#ed7953\"],[0.7777777777777778,\"#fb9f3a\"],[0.8888888888888888,\"#fdca26\"],[1.0,\"#f0f921\"]],\"diverging\":[[0,\"#8e0152\"],[0.1,\"#c51b7d\"],[0.2,\"#de77ae\"],[0.3,\"#f1b6da\"],[0.4,\"#fde0ef\"],[0.5,\"#f7f7f7\"],[0.6,\"#e6f5d0\"],[0.7,\"#b8e186\"],[0.8,\"#7fbc41\"],[0.9,\"#4d9221\"],[1,\"#276419\"]]},\"xaxis\":{\"gridcolor\":\"white\",\"linecolor\":\"white\",\"ticks\":\"\",\"title\":{\"standoff\":15},\"zerolinecolor\":\"white\",\"automargin\":true,\"zerolinewidth\":2},\"yaxis\":{\"gridcolor\":\"white\",\"linecolor\":\"white\",\"ticks\":\"\",\"title\":{\"standoff\":15},\"zerolinecolor\":\"white\",\"automargin\":true,\"zerolinewidth\":2},\"scene\":{\"xaxis\":{\"backgroundcolor\":\"#E5ECF6\",\"gridcolor\":\"white\",\"linecolor\":\"white\",\"showbackground\":true,\"ticks\":\"\",\"zerolinecolor\":\"white\",\"gridwidth\":2},\"yaxis\":{\"backgroundcolor\":\"#E5ECF6\",\"gridcolor\":\"white\",\"linecolor\":\"white\",\"showbackground\":true,\"ticks\":\"\",\"zerolinecolor\":\"white\",\"gridwidth\":2},\"zaxis\":{\"backgroundcolor\":\"#E5ECF6\",\"gridcolor\":\"white\",\"linecolor\":\"white\",\"showbackground\":true,\"ticks\":\"\",\"zerolinecolor\":\"white\",\"gridwidth\":2}},\"shapedefaults\":{\"line\":{\"color\":\"#2a3f5f\"}},\"annotationdefaults\":{\"arrowcolor\":\"#2a3f5f\",\"arrowhead\":0,\"arrowwidth\":1},\"geo\":{\"bgcolor\":\"white\",\"landcolor\":\"#E5ECF6\",\"subunitcolor\":\"white\",\"showland\":true,\"showlakes\":true,\"lakecolor\":\"white\"},\"title\":{\"x\":0.05},\"mapbox\":{\"style\":\"light\"}}},\"xaxis\":{\"anchor\":\"y\",\"domain\":[0.0,1.0],\"title\":{\"text\":\"Sales Volume\"}},\"yaxis\":{\"anchor\":\"x\",\"domain\":[0.0,0.8316],\"title\":{\"text\":\"count\"}},\"xaxis2\":{\"anchor\":\"y2\",\"domain\":[0.0,1.0],\"matches\":\"x\",\"showticklabels\":false,\"showgrid\":true},\"yaxis2\":{\"anchor\":\"x2\",\"domain\":[0.8416,1.0],\"matches\":\"y2\",\"showticklabels\":false,\"showline\":false,\"ticks\":\"\",\"showgrid\":false},\"legend\":{\"tracegroupgap\":0},\"title\":{\"text\":\"Distribution of Sales (Interactive)\"},\"barmode\":\"relative\"},                        {\"responsive\": true}                    ).then(function(){\n",
       "                            \n",
       "var gd = document.getElementById('c21f7a72-b5c1-4ae5-b277-70f4f04f6ca1');\n",
       "var x = new MutationObserver(function (mutations, observer) {{\n",
       "        var display = window.getComputedStyle(gd).display;\n",
       "        if (!display || display === 'none') {{\n",
       "            console.log([gd, 'removed!']);\n",
       "            Plotly.purge(gd);\n",
       "            observer.disconnect();\n",
       "        }}\n",
       "}});\n",
       "\n",
       "// Listen for the removal of the full notebook cells\n",
       "var notebookContainer = gd.closest('#notebook-container');\n",
       "if (notebookContainer) {{\n",
       "    x.observe(notebookContainer, {childList: true});\n",
       "}}\n",
       "\n",
       "// Listen for the clearing of the current output cell\n",
       "var outputEl = gd.closest('.output');\n",
       "if (outputEl) {{\n",
       "    x.observe(outputEl, {childList: true});\n",
       "}}\n",
       "\n",
       "                        })                };                });            </script>        </div>"
      ]
     },
     "metadata": {},
     "output_type": "display_data"
    }
   ],
   "source": [
    "fig = px.histogram(df, x='sales', nbins=20, marginal=\"rug\", title='Distribution of Sales (Interactive)', labels={'sales':'Sales Volume'})\n",
    "fig.show()"
   ]
  },
  {
   "cell_type": "raw",
   "id": "6381087a-f630-4b44-adaf-98af821c972e",
   "metadata": {},
   "source": [
    "# Sales vs. Advertising Spend(Numerical Features)"
   ]
  },
  {
   "cell_type": "code",
   "execution_count": 99,
   "id": "a68811d4-0118-4df4-8062-a8b76a9254a3",
   "metadata": {},
   "outputs": [],
   "source": [
    "numerical_features = df.select_dtypes(include=np.number).columns.tolist()\n",
    "if 'sales' in numerical_features:\n",
    "    numerical_features.remove('sales')"
   ]
  },
  {
   "cell_type": "code",
   "execution_count": 100,
   "id": "123f3eec-5f17-499d-95d1-56f497b7eac4",
   "metadata": {},
   "outputs": [
    {
     "data": {
      "image/png": "[encoded data removed]",
      "text/plain": [
       "<Figure size 800x600 with 2 Axes>"
      ]
     },
     "metadata": {},
     "output_type": "display_data"
    }
   ],
   "source": [
    "plt.figure(figsize=(8,6))\n",
    "sns.heatmap(df[numerical_features + ['sales']].corr(), annot=True, cmap='coolwarm', fmt=\".2f\")\n",
    "plt.title('Correlation Matrix of Advertising Spend with Sales')\n",
    "plt.show()"
   ]
  },
  {
   "cell_type": "code",
   "execution_count": 102,
   "id": "2911b728-d71b-4f5c-8940-6c21a9e62afc",
   "metadata": {},
   "outputs": [
    {
     "data": {
      "image/png": "[encoded data removed]",
      "text/plain": [
       "<Figure size 1500x500 with 1 Axes>"
      ]
     },
     "metadata": {},
     "output_type": "display_data"
    },
    {
     "data": {
      "image/png": "[encoded data removed]",
      "text/plain": [
       "<Figure size 640x480 with 1 Axes>"
      ]
     },
     "metadata": {},
     "output_type": "display_data"
    },
    {
     "data": {
      "image/png": "[encoded data removed]",
      "text/plain": [
       "<Figure size 640x480 with 1 Axes>"
      ]
     },
     "metadata": {},
     "output_type": "display_data"
    }
   ],
   "source": [
    "advertising_channels = ['tv', 'radio', 'newspaper']\n",
    "\n",
    "plt.figure(figsize=(15, 5))\n",
    "for i, channel in enumerate(advertising_channels):\n",
    "    plt.subplot(1, len(advertising_channels), i + 1)\n",
    "    sns.scatterplot(data=df, x=channel, y='sales')\n",
    "    plt.title(f'Sales vs. {channel.replace(\"_\", \" \").title()}')\n",
    "    plt.xlabel(f'Spend on {channel.replace(\"_\", \" \").title()}')\n",
    "    plt.ylabel('Sales')\n",
    "    plt.grid(True, linestyle='--', alpha=0.5)\n",
    "    plt.tight_layout()\n",
    "    plt.show()"
   ]
  },
  {
   "cell_type": "code",
   "execution_count": 103,
   "id": "1811e394-05ab-4573-b295-505913360d05",
   "metadata": {},
   "outputs": [
    {
     "data": {
      "application/vnd.plotly.v1+json": {
       "config": {
        "plotlyServerURL": "https://plot.ly"
       },
       "data": [
        {
         "customdata": [
          [
           37.8,
           69.2
          ],
          [
           39.3,
           45.1
          ],
          [
           45.9,
           69.3
          ],
          [
           41.3,
           58.5
          ],
          [
           10.8,
           58.4
          ],
          [
           48.9,
           75
          ],
          [
           32.8,
           23.5
          ],
          [
           19.6,
           11.6
          ],
          [
           2.1,
           1
          ],
          [
           2.6,
           21.2
          ],
          [
           5.8,
           24.2
          ],
          [
           24,
           4
          ],
          [
           35.1,
           65.9
          ],
          [
           7.6,
           7.2
          ],
          [
           32.9,
           46
          ],
          [
           47.7,
           52.9
          ],
          [
           36.6,
           114
          ],
          [
           39.6,
           55.8
          ],
          [
           20.5,
           18.3
          ],
          [
           23.9,
           19.1
          ],
          [
           27.7,
           53.4
          ],
          [
           5.1,
           23.5
          ],
          [
           15.9,
           49.6
          ],
          [
           16.9,
           26.2
          ],
          [
           12.6,
           18.3
          ],
          [
           3.5,
           19.5
          ],
          [
           29.3,
           12.6
          ],
          [
           16.7,
           22.9
          ],
          [
           27.1,
           22.9
          ],
          [
           16,
           40.8
          ],
          [
           28.3,
           43.2
          ],
          [
           17.4,
           38.6
          ],
          [
           1.5,
           30
          ],
          [
           20,
           0.3
          ],
          [
           1.4,
           7.4
          ],
          [
           4.1,
           8.5
          ],
          [
           43.8,
           5
          ],
          [
           49.4,
           45.7
          ],
          [
           26.7,
           35.1
          ],
          [
           37.7,
           32
          ],
          [
           22.3,
           31.6
          ],
          [
           33.4,
           38.7
          ],
          [
           27.7,
           1.8
          ],
          [
           8.4,
           26.4
          ],
          [
           25.7,
           43.3
          ],
          [
           22.5,
           31.5
          ],
          [
           9.9,
           35.7
          ],
          [
           41.5,
           18.5
          ],
          [
           15.8,
           49.9
          ],
          [
           11.7,
           36.8
          ],
          [
           3.1,
           34.6
          ],
          [
           9.6,
           3.6
          ],
          [
           41.7,
           39.6
          ],
          [
           46.2,
           58.7
          ],
          [
           28.8,
           15.9
          ],
          [
           49.4,
           60
          ],
          [
           28.1,
           41.4
          ],
          [
           19.2,
           16.6
          ],
          [
           49.6,
           37.7
          ],
          [
           29.5,
           9.3
          ],
          [
           2,
           21.4
          ],
          [
           42.7,
           54.7
          ],
          [
           15.5,
           27.3
          ],
          [
           29.6,
           8.4
          ],
          [
           42.8,
           28.9
          ],
          [
           9.3,
           0.9
          ],
          [
           24.6,
           2.2
          ],
          [
           14.5,
           10.2
          ],
          [
           27.5,
           11
          ],
          [
           43.9,
           27.2
          ],
          [
           30.6,
           38.7
          ],
          [
           14.3,
           31.7
          ],
          [
           33,
           19.3
          ],
          [
           5.7,
           31.3
          ],
          [
           24.6,
           13.1
          ],
          [
           43.7,
           89.4
          ],
          [
           1.6,
           20.7
          ],
          [
           28.5,
           14.2
          ],
          [
           29.9,
           9.4
          ],
          [
           7.7,
           23.1
          ],
          [
           26.7,
           22.3
          ],
          [
           4.1,
           36.9
          ],
          [
           20.3,
           32.5
          ],
          [
           44.5,
           35.6
          ],
          [
           43,
           33.8
          ],
          [
           18.4,
           65.7
          ],
          [
           27.5,
           16
          ],
          [
           40.6,
           63.2
          ],
          [
           25.5,
           73.4
          ],
          [
           47.8,
           51.4
          ],
          [
           4.9,
           9.3
          ],
          [
           1.5,
           33
          ],
          [
           33.5,
           59
          ],
          [
           36.5,
           72.3
          ],
          [
           14,
           10.9
          ],
          [
           31.6,
           52.9
          ],
          [
           3.5,
           5.9
          ],
          [
           21,
           22
          ],
          [
           42.3,
           51.2
          ],
          [
           41.7,
           45.9
          ],
          [
           4.3,
           49.8
          ],
          [
           36.3,
           100.9
          ],
          [
           10.1,
           21.4
          ],
          [
           17.2,
           17.9
          ],
          [
           34.3,
           5.3
          ],
          [
           46.4,
           59
          ],
          [
           11,
           29.7
          ],
          [
           0.3,
           23.2
          ],
          [
           0.4,
           25.6
          ],
          [
           26.9,
           5.5
          ],
          [
           8.2,
           56.5
          ],
          [
           38,
           23.2
          ],
          [
           15.4,
           2.4
          ],
          [
           20.6,
           10.7
          ],
          [
           46.8,
           34.5
          ],
          [
           35,
           52.7
          ],
          [
           14.3,
           25.6
          ],
          [
           0.8,
           14.8
          ],
          [
           36.9,
           79.2
          ],
          [
           16,
           22.3
          ],
          [
           26.8,
           46.2
          ],
          [
           21.7,
           50.4
          ],
          [
           2.4,
           15.6
          ],
          [
           34.6,
           12.4
          ],
          [
           32.3,
           74.2
          ],
          [
           11.8,
           25.9
          ],
          [
           38.9,
           50.6
          ],
          [
           0,
           9.2
          ],
          [
           49,
           3.2
          ],
          [
           12,
           43.1
          ],
          [
           39.6,
           8.7
          ],
          [
           2.9,
           43
          ],
          [
           27.2,
           2.1
          ],
          [
           33.5,
           45.1
          ],
          [
           38.6,
           65.6
          ],
          [
           47,
           8.5
          ],
          [
           39,
           9.3
          ],
          [
           28.9,
           59.7
          ],
          [
           25.9,
           20.5
          ],
          [
           43.9,
           1.7
          ],
          [
           17,
           12.9
          ],
          [
           35.4,
           75.6
          ],
          [
           33.2,
           37.9
          ],
          [
           5.7,
           34.4
          ],
          [
           14.8,
           38.9
          ],
          [
           1.9,
           9
          ],
          [
           7.3,
           8.7
          ],
          [
           49,
           44.3
          ],
          [
           40.3,
           11.9
          ],
          [
           25.8,
           20.6
          ],
          [
           13.9,
           37
          ],
          [
           8.4,
           48.7
          ],
          [
           23.3,
           14.2
          ],
          [
           39.7,
           37.7
          ],
          [
           21.1,
           9.5
          ],
          [
           11.6,
           5.7
          ],
          [
           43.5,
           50.5
          ],
          [
           1.3,
           24.3
          ],
          [
           36.9,
           45.2
          ],
          [
           18.4,
           34.6
          ],
          [
           18.1,
           30.7
          ],
          [
           35.8,
           49.3
          ],
          [
           18.1,
           25.6
          ],
          [
           36.8,
           7.4
          ],
          [
           14.7,
           5.4
          ],
          [
           3.4,
           84.8
          ],
          [
           37.6,
           21.6
          ],
          [
           5.2,
           19.4
          ],
          [
           23.6,
           57.6
          ],
          [
           10.6,
           6.4
          ],
          [
           11.6,
           18.4
          ],
          [
           20.9,
           47.4
          ],
          [
           20.1,
           17
          ],
          [
           7.1,
           12.8
          ],
          [
           3.4,
           13.1
          ],
          [
           48.9,
           41.8
          ],
          [
           30.2,
           20.3
          ],
          [
           7.8,
           35.2
          ],
          [
           2.3,
           23.7
          ],
          [
           10,
           17.6
          ],
          [
           2.6,
           8.3
          ],
          [
           5.4,
           27.4
          ],
          [
           5.7,
           29.7
          ],
          [
           43,
           71.8
          ],
          [
           21.3,
           30
          ],
          [
           45.1,
           19.6
          ],
          [
           2.1,
           26.6
          ],
          [
           28.7,
           18.2
          ],
          [
           13.9,
           3.7
          ],
          [
           12.1,
           23.4
          ],
          [
           41.1,
           5.8
          ],
          [
           10.8,
           6
          ],
          [
           4.1,
           31.6
          ],
          [
           42,
           3.6
          ],
          [
           35.6,
           6
          ],
          [
           3.7,
           13.8
          ],
          [
           4.9,
           8.1
          ],
          [
           9.3,
           6.4
          ],
          [
           42,
           66.2
          ],
          [
           8.6,
           8.7
          ]
         ],
         "hovertemplate": "tv=%{x}<br>sales=%{y}<br>radio=%{customdata[0]}<br>newspaper=%{customdata[1]}<extra></extra>",
         "legendgroup": "",
         "marker": {
          "color": "#636efa",
          "symbol": "circle"
         },
         "mode": "markers",
         "name": "",
         "orientation": "v",
         "showlegend": false,
         "type": "scatter",
         "x": [
          230.1,
          44.5,
          17.2,
          151.5,
          180.8,
          8.7,
          57.5,
          120.2,
          8.6,
          199.8,
          66.1,
          214.7,
          23.8,
          97.5,
          204.1,
          195.4,
          67.8,
          281.4,
          69.2,
          147.3,
          218.4,
          237.4,
          13.2,
          228.3,
          62.3,
          262.9,
          142.9,
          240.1,
          248.8,
          70.6,
          292.9,
          112.9,
          97.2,
          265.6,
          95.7,
          290.7,
          266.9,
          74.7,
          43.1,
          228,
          202.5,
          177,
          293.6,
          206.9,
          25.1,
          175.1,
          89.7,
          239.9,
          227.2,
          66.9,
          199.8,
          100.4,
          216.4,
          182.6,
          262.7,
          198.9,
          7.3,
          136.2,
          210.8,
          210.7,
          53.5,
          261.3,
          239.3,
          102.7,
          131.1,
          69,
          31.5,
          139.3,
          237.4,
          216.8,
          199.1,
          109.8,
          26.8,
          129.4,
          213.4,
          16.9,
          27.5,
          120.5,
          5.4,
          116,
          76.4,
          239.8,
          75.3,
          68.4,
          213.5,
          193.2,
          76.3,
          110.7,
          88.3,
          109.8,
          134.3,
          28.6,
          217.7,
          250.9,
          107.4,
          163.3,
          197.6,
          184.9,
          289.7,
          135.2,
          222.4,
          296.4,
          280.2,
          187.9,
          238.2,
          137.9,
          25,
          90.4,
          13.1,
          255.4,
          225.8,
          241.7,
          175.7,
          209.6,
          78.2,
          75.1,
          139.2,
          76.4,
          125.7,
          19.4,
          141.3,
          18.8,
          224,
          123.1,
          229.5,
          87.2,
          7.8,
          80.2,
          220.3,
          59.6,
          0.7,
          265.2,
          8.4,
          219.8,
          36.9,
          48.3,
          25.6,
          273.7,
          43,
          184.9,
          73.4,
          193.7,
          220.5,
          104.6,
          96.2,
          140.3,
          240.1,
          243.2,
          38,
          44.7,
          280.7,
          121,
          197.6,
          171.3,
          187.8,
          4.1,
          93.9,
          149.8,
          11.7,
          131.7,
          172.5,
          85.7,
          188.4,
          163.5,
          117.2,
          234.5,
          17.9,
          206.8,
          215.4,
          284.3,
          50,
          164.5,
          19.6,
          168.4,
          222.4,
          276.9,
          248.4,
          170.2,
          276.7,
          165.6,
          156.6,
          218.5,
          56.2,
          287.6,
          253.8,
          205,
          139.5,
          191.1,
          286,
          18.7,
          39.5,
          75.5,
          17.2,
          166.8,
          149.7,
          38.2,
          94.2,
          177,
          283.6,
          232.1
         ],
         "xaxis": "x",
         "y": [
          22.1,
          10.4,
          9.3,
          18.5,
          12.9,
          7.2,
          11.8,
          13.2,
          4.8,
          10.6,
          8.6,
          17.4,
          9.2,
          9.7,
          19,
          22.4,
          12.5,
          24.4,
          11.3,
          14.6,
          18,
          12.5,
          5.6,
          15.5,
          9.7,
          12,
          15,
          15.9,
          18.9,
          10.5,
          21.4,
          11.9,
          9.6,
          17.4,
          9.5,
          12.8,
          25.4,
          14.7,
          10.1,
          21.5,
          16.6,
          17.1,
          20.7,
          12.9,
          8.5,
          14.9,
          10.6,
          23.2,
          14.8,
          9.7,
          11.4,
          10.7,
          22.6,
          21.2,
          20.2,
          23.7,
          5.5,
          13.2,
          23.8,
          18.4,
          8.1,
          24.2,
          15.7,
          14,
          18,
          9.3,
          9.5,
          13.4,
          18.9,
          22.3,
          18.3,
          12.4,
          8.8,
          11,
          17,
          8.7,
          6.9,
          14.2,
          5.3,
          11,
          11.8,
          12.3,
          11.3,
          13.6,
          21.7,
          15.2,
          12,
          16,
          12.9,
          16.7,
          11.2,
          7.3,
          19.4,
          22.2,
          11.5,
          16.9,
          11.7,
          15.5,
          25.4,
          17.2,
          11.7,
          23.8,
          14.8,
          14.7,
          20.7,
          19.2,
          7.2,
          8.7,
          5.3,
          19.8,
          13.4,
          21.8,
          14.1,
          15.9,
          14.6,
          12.6,
          12.2,
          9.4,
          15.9,
          6.6,
          15.5,
          7,
          11.6,
          15.2,
          19.7,
          10.6,
          6.6,
          8.8,
          24.7,
          9.7,
          1.6,
          12.7,
          5.7,
          19.6,
          10.8,
          11.6,
          9.5,
          20.8,
          9.6,
          20.7,
          10.9,
          19.2,
          20.1,
          10.4,
          11.4,
          10.3,
          13.2,
          25.4,
          10.9,
          10.1,
          16.1,
          11.6,
          16.6,
          19,
          15.6,
          3.2,
          15.3,
          10.1,
          7.3,
          12.9,
          14.4,
          13.3,
          14.9,
          18,
          11.9,
          11.9,
          8,
          12.2,
          17.1,
          15,
          8.4,
          14.5,
          7.6,
          11.7,
          11.5,
          27,
          20.2,
          11.7,
          11.8,
          12.6,
          10.5,
          12.2,
          8.7,
          26.2,
          17.6,
          22.6,
          10.3,
          17.3,
          15.9,
          6.7,
          10.8,
          9.9,
          5.9,
          19.6,
          17.3,
          7.6,
          9.7,
          12.8,
          25.5,
          13.4
         ],
         "yaxis": "y"
        }
       ],
       "layout": {
        "autosize": true,
        "legend": {
         "tracegroupgap": 0
        },
        "template": {
         "data": {
          "bar": [
           {
            "error_x": {
             "color": "#2a3f5f"
            },
            "error_y": {
             "color": "#2a3f5f"
            },
            "marker": {
             "line": {
              "color": "#E5ECF6",
              "width": 0.5
             },
             "pattern": {
              "fillmode": "overlay",
              "size": 10,
              "solidity": 0.2
             }
            },
            "type": "bar"
           }
          ],
          "barpolar": [
           {
            "marker": {
             "line": {
              "color": "#E5ECF6",
              "width": 0.5
             },
             "pattern": {
              "fillmode": "overlay",
              "size": 10,
              "solidity": 0.2
             }
            },
            "type": "barpolar"
           }
          ],
          "carpet": [
           {
            "aaxis": {
             "endlinecolor": "#2a3f5f",
             "gridcolor": "white",
             "linecolor": "white",
             "minorgridcolor": "white",
             "startlinecolor": "#2a3f5f"
            },
            "baxis": {
             "endlinecolor": "#2a3f5f",
             "gridcolor": "white",
             "linecolor": "white",
             "minorgridcolor": "white",
             "startlinecolor": "#2a3f5f"
            },
            "type": "carpet"
           }
          ],
          "choropleth": [
           {
            "colorbar": {
             "outlinewidth": 0,
             "ticks": ""
            },
            "type": "choropleth"
           }
          ],
          "contour": [
           {
            "colorbar": {
             "outlinewidth": 0,
             "ticks": ""
            },
            "colorscale": [
             [
              0,
              "#0d0887"
             ],
             [
              0.1111111111111111,
              "#46039f"
             ],
             [
              0.2222222222222222,
              "#7201a8"
             ],
             [
              0.3333333333333333,
              "#9c179e"
             ],
             [
              0.4444444444444444,
              "#bd3786"
             ],
             [
              0.5555555555555556,
              "#d8576b"
             ],
             [
              0.6666666666666666,
              "#ed7953"
             ],
             [
              0.7777777777777778,
              "#fb9f3a"
             ],
             [
              0.8888888888888888,
              "#fdca26"
             ],
             [
              1,
              "#f0f921"
             ]
            ],
            "type": "contour"
           }
          ],
          "contourcarpet": [
           {
            "colorbar": {
             "outlinewidth": 0,
             "ticks": ""
            },
            "type": "contourcarpet"
           }
          ],
          "heatmap": [
           {
            "colorbar": {
             "outlinewidth": 0,
             "ticks": ""
            },
            "colorscale": [
             [
              0,
              "#0d0887"
             ],
             [
              0.1111111111111111,
              "#46039f"
             ],
             [
              0.2222222222222222,
              "#7201a8"
             ],
             [
              0.3333333333333333,
              "#9c179e"
             ],
             [
              0.4444444444444444,
              "#bd3786"
             ],
             [
              0.5555555555555556,
              "#d8576b"
             ],
             [
              0.6666666666666666,
              "#ed7953"
             ],
             [
              0.7777777777777778,
              "#fb9f3a"
             ],
             [
              0.8888888888888888,
              "#fdca26"
             ],
             [
              1,
              "#f0f921"
             ]
            ],
            "type": "heatmap"
           }
          ],
          "heatmapgl": [
           {
            "colorbar": {
             "outlinewidth": 0,
             "ticks": ""
            },
            "colorscale": [
             [
              0,
              "#0d0887"
             ],
             [
              0.1111111111111111,
              "#46039f"
             ],
             [
              0.2222222222222222,
              "#7201a8"
             ],
             [
              0.3333333333333333,
              "#9c179e"
             ],
             [
              0.4444444444444444,
              "#bd3786"
             ],
             [
              0.5555555555555556,
              "#d8576b"
             ],
             [
              0.6666666666666666,
              "#ed7953"
             ],
             [
              0.7777777777777778,
              "#fb9f3a"
             ],
             [
              0.8888888888888888,
              "#fdca26"
             ],
             [
              1,
              "#f0f921"
             ]
            ],
            "type": "heatmapgl"
           }
          ],
          "histogram": [
           {
            "marker": {
             "pattern": {
              "fillmode": "overlay",
              "size": 10,
              "solidity": 0.2
             }
            },
            "type": "histogram"
           }
          ],
          "histogram2d": [
           {
            "colorbar": {
             "outlinewidth": 0,
             "ticks": ""
            },
            "colorscale": [
             [
              0,
              "#0d0887"
             ],
             [
              0.1111111111111111,
              "#46039f"
             ],
             [
              0.2222222222222222,
              "#7201a8"
             ],
             [
              0.3333333333333333,
              "#9c179e"
             ],
             [
              0.4444444444444444,
              "#bd3786"
             ],
             [
              0.5555555555555556,
              "#d8576b"
             ],
             [
              0.6666666666666666,
              "#ed7953"
             ],
             [
              0.7777777777777778,
              "#fb9f3a"
             ],
             [
              0.8888888888888888,
              "#fdca26"
             ],
             [
              1,
              "#f0f921"
             ]
            ],
            "type": "histogram2d"
           }
          ],
          "histogram2dcontour": [
           {
            "colorbar": {
             "outlinewidth": 0,
             "ticks": ""
            },
            "colorscale": [
             [
              0,
              "#0d0887"
             ],
             [
              0.1111111111111111,
              "#46039f"
             ],
             [
              0.2222222222222222,
              "#7201a8"
             ],
             [
              0.3333333333333333,
              "#9c179e"
             ],
             [
              0.4444444444444444,
              "#bd3786"
             ],
             [
              0.5555555555555556,
              "#d8576b"
             ],
             [
              0.6666666666666666,
              "#ed7953"
             ],
             [
              0.7777777777777778,
              "#fb9f3a"
             ],
             [
              0.8888888888888888,
              "#fdca26"
             ],
             [
              1,
              "#f0f921"
             ]
            ],
            "type": "histogram2dcontour"
           }
          ],
          "mesh3d": [
           {
            "colorbar": {
             "outlinewidth": 0,
             "ticks": ""
            },
            "type": "mesh3d"
           }
          ],
          "parcoords": [
           {
            "line": {
             "colorbar": {
              "outlinewidth": 0,
              "ticks": ""
             }
            },
            "type": "parcoords"
           }
          ],
          "pie": [
           {
            "automargin": true,
            "type": "pie"
           }
          ],
          "scatter": [
           {
            "fillpattern": {
             "fillmode": "overlay",
             "size": 10,
             "solidity": 0.2
            },
            "type": "scatter"
           }
          ],
          "scatter3d": [
           {
            "line": {
             "colorbar": {
              "outlinewidth": 0,
              "ticks": ""
             }
            },
            "marker": {
             "colorbar": {
              "outlinewidth": 0,
              "ticks": ""
             }
            },
            "type": "scatter3d"
           }
          ],
          "scattercarpet": [
           {
            "marker": {
             "colorbar": {
              "outlinewidth": 0,
              "ticks": ""
             }
            },
            "type": "scattercarpet"
           }
          ],
          "scattergeo": [
           {
            "marker": {
             "colorbar": {
              "outlinewidth": 0,
              "ticks": ""
             }
            },
            "type": "scattergeo"
           }
          ],
          "scattergl": [
           {
            "marker": {
             "colorbar": {
              "outlinewidth": 0,
              "ticks": ""
             }
            },
            "type": "scattergl"
           }
          ],
          "scattermapbox": [
           {
            "marker": {
             "colorbar": {
              "outlinewidth": 0,
              "ticks": ""
             }
            },
            "type": "scattermapbox"
           }
          ],
          "scatterpolar": [
           {
            "marker": {
             "colorbar": {
              "outlinewidth": 0,
              "ticks": ""
             }
            },
            "type": "scatterpolar"
           }
          ],
          "scatterpolargl": [
           {
            "marker": {
             "colorbar": {
              "outlinewidth": 0,
              "ticks": ""
             }
            },
            "type": "scatterpolargl"
           }
          ],
          "scatterternary": [
           {
            "marker": {
             "colorbar": {
              "outlinewidth": 0,
              "ticks": ""
             }
            },
            "type": "scatterternary"
           }
          ],
          "surface": [
           {
            "colorbar": {
             "outlinewidth": 0,
             "ticks": ""
            },
            "colorscale": [
             [
              0,
              "#0d0887"
             ],
             [
              0.1111111111111111,
              "#46039f"
             ],
             [
              0.2222222222222222,
              "#7201a8"
             ],
             [
              0.3333333333333333,
              "#9c179e"
             ],
             [
              0.4444444444444444,
              "#bd3786"
             ],
             [
              0.5555555555555556,
              "#d8576b"
             ],
             [
              0.6666666666666666,
              "#ed7953"
             ],
             [
              0.7777777777777778,
              "#fb9f3a"
             ],
             [
              0.8888888888888888,
              "#fdca26"
             ],
             [
              1,
              "#f0f921"
             ]
            ],
            "type": "surface"
           }
          ],
          "table": [
           {
            "cells": {
             "fill": {
              "color": "#EBF0F8"
             },
             "line": {
              "color": "white"
             }
            },
            "header": {
             "fill": {
              "color": "#C8D4E3"
             },
             "line": {
              "color": "white"
             }
            },
            "type": "table"
           }
          ]
         },
         "layout": {
          "annotationdefaults": {
           "arrowcolor": "#2a3f5f",
           "arrowhead": 0,
           "arrowwidth": 1
          },
          "autotypenumbers": "strict",
          "coloraxis": {
           "colorbar": {
            "outlinewidth": 0,
            "ticks": ""
           }
          },
          "colorscale": {
           "diverging": [
            [
             0,
             "#8e0152"
            ],
            [
             0.1,
             "#c51b7d"
            ],
            [
             0.2,
             "#de77ae"
            ],
            [
             0.3,
             "#f1b6da"
            ],
            [
             0.4,
             "#fde0ef"
            ],
            [
             0.5,
             "#f7f7f7"
            ],
            [
             0.6,
             "#e6f5d0"
            ],
            [
             0.7,
             "#b8e186"
            ],
            [
             0.8,
             "#7fbc41"
            ],
            [
             0.9,
             "#4d9221"
            ],
            [
             1,
             "#276419"
            ]
           ],
           "sequential": [
            [
             0,
             "#0d0887"
            ],
            [
             0.1111111111111111,
             "#46039f"
            ],
            [
             0.2222222222222222,
             "#7201a8"
            ],
            [
             0.3333333333333333,
             "#9c179e"
            ],
            [
             0.4444444444444444,
             "#bd3786"
            ],
            [
             0.5555555555555556,
             "#d8576b"
            ],
            [
             0.6666666666666666,
             "#ed7953"
            ],
            [
             0.7777777777777778,
             "#fb9f3a"
            ],
            [
             0.8888888888888888,
             "#fdca26"
            ],
            [
             1,
             "#f0f921"
            ]
           ],
           "sequentialminus": [
            [
             0,
             "#0d0887"
            ],
            [
             0.1111111111111111,
             "#46039f"
            ],
            [
             0.2222222222222222,
             "#7201a8"
            ],
            [
             0.3333333333333333,
             "#9c179e"
            ],
            [
             0.4444444444444444,
             "#bd3786"
            ],
            [
             0.5555555555555556,
             "#d8576b"
            ],
            [
             0.6666666666666666,
             "#ed7953"
            ],
            [
             0.7777777777777778,
             "#fb9f3a"
            ],
            [
             0.8888888888888888,
             "#fdca26"
            ],
            [
             1,
             "#f0f921"
            ]
           ]
          },
          "colorway": [
           "#636efa",
           "#EF553B",
           "#00cc96",
           "#ab63fa",
           "#FFA15A",
           "#19d3f3",
           "#FF6692",
           "#B6E880",
           "#FF97FF",
           "#FECB52"
          ],
          "font": {
           "color": "#2a3f5f"
          },
          "geo": {
           "bgcolor": "white",
           "lakecolor": "white",
           "landcolor": "#E5ECF6",
           "showlakes": true,
           "showland": true,
           "subunitcolor": "white"
          },
          "hoverlabel": {
           "align": "left"
          },
          "hovermode": "closest",
          "mapbox": {
           "style": "light"
          },
          "paper_bgcolor": "white",
          "plot_bgcolor": "#E5ECF6",
          "polar": {
           "angularaxis": {
            "gridcolor": "white",
            "linecolor": "white",
            "ticks": ""
           },
           "bgcolor": "#E5ECF6",
           "radialaxis": {
            "gridcolor": "white",
            "linecolor": "white",
            "ticks": ""
           }
          },
          "scene": {
           "xaxis": {
            "backgroundcolor": "#E5ECF6",
            "gridcolor": "white",
            "gridwidth": 2,
            "linecolor": "white",
            "showbackground": true,
            "ticks": "",
            "zerolinecolor": "white"
           },
           "yaxis": {
            "backgroundcolor": "#E5ECF6",
            "gridcolor": "white",
            "gridwidth": 2,
            "linecolor": "white",
            "showbackground": true,
            "ticks": "",
            "zerolinecolor": "white"
           },
           "zaxis": {
            "backgroundcolor": "#E5ECF6",
            "gridcolor": "white",
            "gridwidth": 2,
            "linecolor": "white",
            "showbackground": true,
            "ticks": "",
            "zerolinecolor": "white"
           }
          },
          "shapedefaults": {
           "line": {
            "color": "#2a3f5f"
           }
          },
          "ternary": {
           "aaxis": {
            "gridcolor": "white",
            "linecolor": "white",
            "ticks": ""
           },
           "baxis": {
            "gridcolor": "white",
            "linecolor": "white",
            "ticks": ""
           },
           "bgcolor": "#E5ECF6",
           "caxis": {
            "gridcolor": "white",
            "linecolor": "white",
            "ticks": ""
           }
          },
          "title": {
           "x": 0.05
          },
          "xaxis": {
           "automargin": true,
           "gridcolor": "white",
           "linecolor": "white",
           "ticks": "",
           "title": {
            "standoff": 15
           },
           "zerolinecolor": "white",
           "zerolinewidth": 2
          },
          "yaxis": {
           "automargin": true,
           "gridcolor": "white",
           "linecolor": "white",
           "ticks": "",
           "title": {
            "standoff": 15
           },
           "zerolinecolor": "white",
           "zerolinewidth": 2
          }
         }
        },
        "title": {
         "text": "Sales vs. Tv(Interactive)"
        },
        "xaxis": {
         "anchor": "y",
         "autorange": true,
         "domain": [
          0,
          1
         ],
         "range": [
          -18.30266457680251,
          315.40266457680247
         ],
         "title": {
          "text": "tv"
         },
         "type": "linear"
        },
        "yaxis": {
         "anchor": "x",
         "autorange": true,
         "domain": [
          0,
          1
         ],
         "range": [
          -0.49611650485436876,
          29.09611650485437
         ],
         "title": {
          "text": "sales"
         },
         "type": "linear"
        }
       }
      },
      "text/html": [
       "<div>                            <div id=\"eb164604-19e5-4160-9e3f-9372fa799608\" class=\"plotly-graph-div\" style=\"height:525px; width:100%;\"></div>            <script type=\"text/javascript\">                require([\"plotly\"], function(Plotly) {                    window.PLOTLYENV=window.PLOTLYENV || {};                                    if (document.getElementById(\"eb164604-19e5-4160-9e3f-9372fa799608\")) {                    Plotly.newPlot(                        \"eb164604-19e5-4160-9e3f-9372fa799608\",                        [{\"customdata\":[[37.8,69.2],[39.3,45.1],[45.9,69.3],[41.3,58.5],[10.8,58.4],[48.9,75.0],[32.8,23.5],[19.6,11.6],[2.1,1.0],[2.6,21.2],[5.8,24.2],[24.0,4.0],[35.1,65.9],[7.6,7.2],[32.9,46.0],[47.7,52.9],[36.6,114.0],[39.6,55.8],[20.5,18.3],[23.9,19.1],[27.7,53.4],[5.1,23.5],[15.9,49.6],[16.9,26.2],[12.6,18.3],[3.5,19.5],[29.3,12.6],[16.7,22.9],[27.1,22.9],[16.0,40.8],[28.3,43.2],[17.4,38.6],[1.5,30.0],[20.0,0.3],[1.4,7.4],[4.1,8.5],[43.8,5.0],[49.4,45.7],[26.7,35.1],[37.7,32.0],[22.3,31.6],[33.4,38.7],[27.7,1.8],[8.4,26.4],[25.7,43.3],[22.5,31.5],[9.9,35.7],[41.5,18.5],[15.8,49.9],[11.7,36.8],[3.1,34.6],[9.6,3.6],[41.7,39.6],[46.2,58.7],[28.8,15.9],[49.4,60.0],[28.1,41.4],[19.2,16.6],[49.6,37.7],[29.5,9.3],[2.0,21.4],[42.7,54.7],[15.5,27.3],[29.6,8.4],[42.8,28.9],[9.3,0.9],[24.6,2.2],[14.5,10.2],[27.5,11.0],[43.9,27.2],[30.6,38.7],[14.3,31.7],[33.0,19.3],[5.7,31.3],[24.6,13.1],[43.7,89.4],[1.6,20.7],[28.5,14.2],[29.9,9.4],[7.7,23.1],[26.7,22.3],[4.1,36.9],[20.3,32.5],[44.5,35.6],[43.0,33.8],[18.4,65.7],[27.5,16.0],[40.6,63.2],[25.5,73.4],[47.8,51.4],[4.9,9.3],[1.5,33.0],[33.5,59.0],[36.5,72.3],[14.0,10.9],[31.6,52.9],[3.5,5.9],[21.0,22.0],[42.3,51.2],[41.7,45.9],[4.3,49.8],[36.3,100.9],[10.1,21.4],[17.2,17.9],[34.3,5.3],[46.4,59.0],[11.0,29.7],[0.3,23.2],[0.4,25.6],[26.9,5.5],[8.2,56.5],[38.0,23.2],[15.4,2.4],[20.6,10.7],[46.8,34.5],[35.0,52.7],[14.3,25.6],[0.8,14.8],[36.9,79.2],[16.0,22.3],[26.8,46.2],[21.7,50.4],[2.4,15.6],[34.6,12.4],[32.3,74.2],[11.8,25.9],[38.9,50.6],[0.0,9.2],[49.0,3.2],[12.0,43.1],[39.6,8.7],[2.9,43.0],[27.2,2.1],[33.5,45.1],[38.6,65.6],[47.0,8.5],[39.0,9.3],[28.9,59.7],[25.9,20.5],[43.9,1.7],[17.0,12.9],[35.4,75.6],[33.2,37.9],[5.7,34.4],[14.8,38.9],[1.9,9.0],[7.3,8.7],[49.0,44.3],[40.3,11.9],[25.8,20.6],[13.9,37.0],[8.4,48.7],[23.3,14.2],[39.7,37.7],[21.1,9.5],[11.6,5.7],[43.5,50.5],[1.3,24.3],[36.9,45.2],[18.4,34.6],[18.1,30.7],[35.8,49.3],[18.1,25.6],[36.8,7.4],[14.7,5.4],[3.4,84.8],[37.6,21.6],[5.2,19.4],[23.6,57.6],[10.6,6.4],[11.6,18.4],[20.9,47.4],[20.1,17.0],[7.1,12.8],[3.4,13.1],[48.9,41.8],[30.2,20.3],[7.8,35.2],[2.3,23.7],[10.0,17.6],[2.6,8.3],[5.4,27.4],[5.7,29.7],[43.0,71.8],[21.3,30.0],[45.1,19.6],[2.1,26.6],[28.7,18.2],[13.9,3.7],[12.1,23.4],[41.1,5.8],[10.8,6.0],[4.1,31.6],[42.0,3.6],[35.6,6.0],[3.7,13.8],[4.9,8.1],[9.3,6.4],[42.0,66.2],[8.6,8.7]],\"hovertemplate\":\"tv=%{x}\\u003cbr\\u003esales=%{y}\\u003cbr\\u003eradio=%{customdata[0]}\\u003cbr\\u003enewspaper=%{customdata[1]}\\u003cextra\\u003e\\u003c\\u002fextra\\u003e\",\"legendgroup\":\"\",\"marker\":{\"color\":\"#636efa\",\"symbol\":\"circle\"},\"mode\":\"markers\",\"name\":\"\",\"orientation\":\"v\",\"showlegend\":false,\"x\":[230.1,44.5,17.2,151.5,180.8,8.7,57.5,120.2,8.6,199.8,66.1,214.7,23.8,97.5,204.1,195.4,67.8,281.4,69.2,147.3,218.4,237.4,13.2,228.3,62.3,262.9,142.9,240.1,248.8,70.6,292.9,112.9,97.2,265.6,95.7,290.7,266.9,74.7,43.1,228.0,202.5,177.0,293.6,206.9,25.1,175.1,89.7,239.9,227.2,66.9,199.8,100.4,216.4,182.6,262.7,198.9,7.3,136.2,210.8,210.7,53.5,261.3,239.3,102.7,131.1,69.0,31.5,139.3,237.4,216.8,199.1,109.8,26.8,129.4,213.4,16.9,27.5,120.5,5.4,116.0,76.4,239.8,75.3,68.4,213.5,193.2,76.3,110.7,88.3,109.8,134.3,28.6,217.7,250.9,107.4,163.3,197.6,184.9,289.7,135.2,222.4,296.4,280.2,187.9,238.2,137.9,25.0,90.4,13.1,255.4,225.8,241.7,175.7,209.6,78.2,75.1,139.2,76.4,125.7,19.4,141.3,18.8,224.0,123.1,229.5,87.2,7.8,80.2,220.3,59.6,0.7,265.2,8.4,219.8,36.9,48.3,25.6,273.7,43.0,184.9,73.4,193.7,220.5,104.6,96.2,140.3,240.1,243.2,38.0,44.7,280.7,121.0,197.6,171.3,187.8,4.1,93.9,149.8,11.7,131.7,172.5,85.7,188.4,163.5,117.2,234.5,17.9,206.8,215.4,284.3,50.0,164.5,19.6,168.4,222.4,276.9,248.4,170.2,276.7,165.6,156.6,218.5,56.2,287.6,253.8,205.0,139.5,191.1,286.0,18.7,39.5,75.5,17.2,166.8,149.7,38.2,94.2,177.0,283.6,232.1],\"xaxis\":\"x\",\"y\":[22.1,10.4,9.3,18.5,12.9,7.2,11.8,13.2,4.8,10.6,8.6,17.4,9.2,9.7,19.0,22.4,12.5,24.4,11.3,14.6,18.0,12.5,5.6,15.5,9.7,12.0,15.0,15.9,18.9,10.5,21.4,11.9,9.6,17.4,9.5,12.8,25.4,14.7,10.1,21.5,16.6,17.1,20.7,12.9,8.5,14.9,10.6,23.2,14.8,9.7,11.4,10.7,22.6,21.2,20.2,23.7,5.5,13.2,23.8,18.4,8.1,24.2,15.7,14.0,18.0,9.3,9.5,13.4,18.9,22.3,18.3,12.4,8.8,11.0,17.0,8.7,6.9,14.2,5.3,11.0,11.8,12.3,11.3,13.6,21.7,15.2,12.0,16.0,12.9,16.7,11.2,7.3,19.4,22.2,11.5,16.9,11.7,15.5,25.4,17.2,11.7,23.8,14.8,14.7,20.7,19.2,7.2,8.7,5.3,19.8,13.4,21.8,14.1,15.9,14.6,12.6,12.2,9.4,15.9,6.6,15.5,7.0,11.6,15.2,19.7,10.6,6.6,8.8,24.7,9.7,1.6,12.7,5.7,19.6,10.8,11.6,9.5,20.8,9.6,20.7,10.9,19.2,20.1,10.4,11.4,10.3,13.2,25.4,10.9,10.1,16.1,11.6,16.6,19.0,15.6,3.2,15.3,10.1,7.3,12.9,14.4,13.3,14.9,18.0,11.9,11.9,8.0,12.2,17.1,15.0,8.4,14.5,7.6,11.7,11.5,27.0,20.2,11.7,11.8,12.6,10.5,12.2,8.7,26.2,17.6,22.6,10.3,17.3,15.9,6.7,10.8,9.9,5.9,19.6,17.3,7.6,9.7,12.8,25.5,13.4],\"yaxis\":\"y\",\"type\":\"scatter\"}],                        {\"template\":{\"data\":{\"histogram2dcontour\":[{\"type\":\"histogram2dcontour\",\"colorbar\":{\"outlinewidth\":0,\"ticks\":\"\"},\"colorscale\":[[0.0,\"#0d0887\"],[0.1111111111111111,\"#46039f\"],[0.2222222222222222,\"#7201a8\"],[0.3333333333333333,\"#9c179e\"],[0.4444444444444444,\"#bd3786\"],[0.5555555555555556,\"#d8576b\"],[0.6666666666666666,\"#ed7953\"],[0.7777777777777778,\"#fb9f3a\"],[0.8888888888888888,\"#fdca26\"],[1.0,\"#f0f921\"]]}],\"choropleth\":[{\"type\":\"choropleth\",\"colorbar\":{\"outlinewidth\":0,\"ticks\":\"\"}}],\"histogram2d\":[{\"type\":\"histogram2d\",\"colorbar\":{\"outlinewidth\":0,\"ticks\":\"\"},\"colorscale\":[[0.0,\"#0d0887\"],[0.1111111111111111,\"#46039f\"],[0.2222222222222222,\"#7201a8\"],[0.3333333333333333,\"#9c179e\"],[0.4444444444444444,\"#bd3786\"],[0.5555555555555556,\"#d8576b\"],[0.6666666666666666,\"#ed7953\"],[0.7777777777777778,\"#fb9f3a\"],[0.8888888888888888,\"#fdca26\"],[1.0,\"#f0f921\"]]}],\"heatmap\":[{\"type\":\"heatmap\",\"colorbar\":{\"outlinewidth\":0,\"ticks\":\"\"},\"colorscale\":[[0.0,\"#0d0887\"],[0.1111111111111111,\"#46039f\"],[0.2222222222222222,\"#7201a8\"],[0.3333333333333333,\"#9c179e\"],[0.4444444444444444,\"#bd3786\"],[0.5555555555555556,\"#d8576b\"],[0.6666666666666666,\"#ed7953\"],[0.7777777777777778,\"#fb9f3a\"],[0.8888888888888888,\"#fdca26\"],[1.0,\"#f0f921\"]]}],\"heatmapgl\":[{\"type\":\"heatmapgl\",\"colorbar\":{\"outlinewidth\":0,\"ticks\":\"\"},\"colorscale\":[[0.0,\"#0d0887\"],[0.1111111111111111,\"#46039f\"],[0.2222222222222222,\"#7201a8\"],[0.3333333333333333,\"#9c179e\"],[0.4444444444444444,\"#bd3786\"],[0.5555555555555556,\"#d8576b\"],[0.6666666666666666,\"#ed7953\"],[0.7777777777777778,\"#fb9f3a\"],[0.8888888888888888,\"#fdca26\"],[1.0,\"#f0f921\"]]}],\"contourcarpet\":[{\"type\":\"contourcarpet\",\"colorbar\":{\"outlinewidth\":0,\"ticks\":\"\"}}],\"contour\":[{\"type\":\"contour\",\"colorbar\":{\"outlinewidth\":0,\"ticks\":\"\"},\"colorscale\":[[0.0,\"#0d0887\"],[0.1111111111111111,\"#46039f\"],[0.2222222222222222,\"#7201a8\"],[0.3333333333333333,\"#9c179e\"],[0.4444444444444444,\"#bd3786\"],[0.5555555555555556,\"#d8576b\"],[0.6666666666666666,\"#ed7953\"],[0.7777777777777778,\"#fb9f3a\"],[0.8888888888888888,\"#fdca26\"],[1.0,\"#f0f921\"]]}],\"surface\":[{\"type\":\"surface\",\"colorbar\":{\"outlinewidth\":0,\"ticks\":\"\"},\"colorscale\":[[0.0,\"#0d0887\"],[0.1111111111111111,\"#46039f\"],[0.2222222222222222,\"#7201a8\"],[0.3333333333333333,\"#9c179e\"],[0.4444444444444444,\"#bd3786\"],[0.5555555555555556,\"#d8576b\"],[0.6666666666666666,\"#ed7953\"],[0.7777777777777778,\"#fb9f3a\"],[0.8888888888888888,\"#fdca26\"],[1.0,\"#f0f921\"]]}],\"mesh3d\":[{\"type\":\"mesh3d\",\"colorbar\":{\"outlinewidth\":0,\"ticks\":\"\"}}],\"scatter\":[{\"fillpattern\":{\"fillmode\":\"overlay\",\"size\":10,\"solidity\":0.2},\"type\":\"scatter\"}],\"parcoords\":[{\"type\":\"parcoords\",\"line\":{\"colorbar\":{\"outlinewidth\":0,\"ticks\":\"\"}}}],\"scatterpolargl\":[{\"type\":\"scatterpolargl\",\"marker\":{\"colorbar\":{\"outlinewidth\":0,\"ticks\":\"\"}}}],\"bar\":[{\"error_x\":{\"color\":\"#2a3f5f\"},\"error_y\":{\"color\":\"#2a3f5f\"},\"marker\":{\"line\":{\"color\":\"#E5ECF6\",\"width\":0.5},\"pattern\":{\"fillmode\":\"overlay\",\"size\":10,\"solidity\":0.2}},\"type\":\"bar\"}],\"scattergeo\":[{\"type\":\"scattergeo\",\"marker\":{\"colorbar\":{\"outlinewidth\":0,\"ticks\":\"\"}}}],\"scatterpolar\":[{\"type\":\"scatterpolar\",\"marker\":{\"colorbar\":{\"outlinewidth\":0,\"ticks\":\"\"}}}],\"histogram\":[{\"marker\":{\"pattern\":{\"fillmode\":\"overlay\",\"size\":10,\"solidity\":0.2}},\"type\":\"histogram\"}],\"scattergl\":[{\"type\":\"scattergl\",\"marker\":{\"colorbar\":{\"outlinewidth\":0,\"ticks\":\"\"}}}],\"scatter3d\":[{\"type\":\"scatter3d\",\"line\":{\"colorbar\":{\"outlinewidth\":0,\"ticks\":\"\"}},\"marker\":{\"colorbar\":{\"outlinewidth\":0,\"ticks\":\"\"}}}],\"scattermapbox\":[{\"type\":\"scattermapbox\",\"marker\":{\"colorbar\":{\"outlinewidth\":0,\"ticks\":\"\"}}}],\"scatterternary\":[{\"type\":\"scatterternary\",\"marker\":{\"colorbar\":{\"outlinewidth\":0,\"ticks\":\"\"}}}],\"scattercarpet\":[{\"type\":\"scattercarpet\",\"marker\":{\"colorbar\":{\"outlinewidth\":0,\"ticks\":\"\"}}}],\"carpet\":[{\"aaxis\":{\"endlinecolor\":\"#2a3f5f\",\"gridcolor\":\"white\",\"linecolor\":\"white\",\"minorgridcolor\":\"white\",\"startlinecolor\":\"#2a3f5f\"},\"baxis\":{\"endlinecolor\":\"#2a3f5f\",\"gridcolor\":\"white\",\"linecolor\":\"white\",\"minorgridcolor\":\"white\",\"startlinecolor\":\"#2a3f5f\"},\"type\":\"carpet\"}],\"table\":[{\"cells\":{\"fill\":{\"color\":\"#EBF0F8\"},\"line\":{\"color\":\"white\"}},\"header\":{\"fill\":{\"color\":\"#C8D4E3\"},\"line\":{\"color\":\"white\"}},\"type\":\"table\"}],\"barpolar\":[{\"marker\":{\"line\":{\"color\":\"#E5ECF6\",\"width\":0.5},\"pattern\":{\"fillmode\":\"overlay\",\"size\":10,\"solidity\":0.2}},\"type\":\"barpolar\"}],\"pie\":[{\"automargin\":true,\"type\":\"pie\"}]},\"layout\":{\"autotypenumbers\":\"strict\",\"colorway\":[\"#636efa\",\"#EF553B\",\"#00cc96\",\"#ab63fa\",\"#FFA15A\",\"#19d3f3\",\"#FF6692\",\"#B6E880\",\"#FF97FF\",\"#FECB52\"],\"font\":{\"color\":\"#2a3f5f\"},\"hovermode\":\"closest\",\"hoverlabel\":{\"align\":\"left\"},\"paper_bgcolor\":\"white\",\"plot_bgcolor\":\"#E5ECF6\",\"polar\":{\"bgcolor\":\"#E5ECF6\",\"angularaxis\":{\"gridcolor\":\"white\",\"linecolor\":\"white\",\"ticks\":\"\"},\"radialaxis\":{\"gridcolor\":\"white\",\"linecolor\":\"white\",\"ticks\":\"\"}},\"ternary\":{\"bgcolor\":\"#E5ECF6\",\"aaxis\":{\"gridcolor\":\"white\",\"linecolor\":\"white\",\"ticks\":\"\"},\"baxis\":{\"gridcolor\":\"white\",\"linecolor\":\"white\",\"ticks\":\"\"},\"caxis\":{\"gridcolor\":\"white\",\"linecolor\":\"white\",\"ticks\":\"\"}},\"coloraxis\":{\"colorbar\":{\"outlinewidth\":0,\"ticks\":\"\"}},\"colorscale\":{\"sequential\":[[0.0,\"#0d0887\"],[0.1111111111111111,\"#46039f\"],[0.2222222222222222,\"#7201a8\"],[0.3333333333333333,\"#9c179e\"],[0.4444444444444444,\"#bd3786\"],[0.5555555555555556,\"#d8576b\"],[0.6666666666666666,\"#ed7953\"],[0.7777777777777778,\"#fb9f3a\"],[0.8888888888888888,\"#fdca26\"],[1.0,\"#f0f921\"]],\"sequentialminus\":[[0.0,\"#0d0887\"],[0.1111111111111111,\"#46039f\"],[0.2222222222222222,\"#7201a8\"],[0.3333333333333333,\"#9c179e\"],[0.4444444444444444,\"#bd3786\"],[0.5555555555555556,\"#d8576b\"],[0.6666666666666666,\"#ed7953\"],[0.7777777777777778,\"#fb9f3a\"],[0.8888888888888888,\"#fdca26\"],[1.0,\"#f0f921\"]],\"diverging\":[[0,\"#8e0152\"],[0.1,\"#c51b7d\"],[0.2,\"#de77ae\"],[0.3,\"#f1b6da\"],[0.4,\"#fde0ef\"],[0.5,\"#f7f7f7\"],[0.6,\"#e6f5d0\"],[0.7,\"#b8e186\"],[0.8,\"#7fbc41\"],[0.9,\"#4d9221\"],[1,\"#276419\"]]},\"xaxis\":{\"gridcolor\":\"white\",\"linecolor\":\"white\",\"ticks\":\"\",\"title\":{\"standoff\":15},\"zerolinecolor\":\"white\",\"automargin\":true,\"zerolinewidth\":2},\"yaxis\":{\"gridcolor\":\"white\",\"linecolor\":\"white\",\"ticks\":\"\",\"title\":{\"standoff\":15},\"zerolinecolor\":\"white\",\"automargin\":true,\"zerolinewidth\":2},\"scene\":{\"xaxis\":{\"backgroundcolor\":\"#E5ECF6\",\"gridcolor\":\"white\",\"linecolor\":\"white\",\"showbackground\":true,\"ticks\":\"\",\"zerolinecolor\":\"white\",\"gridwidth\":2},\"yaxis\":{\"backgroundcolor\":\"#E5ECF6\",\"gridcolor\":\"white\",\"linecolor\":\"white\",\"showbackground\":true,\"ticks\":\"\",\"zerolinecolor\":\"white\",\"gridwidth\":2},\"zaxis\":{\"backgroundcolor\":\"#E5ECF6\",\"gridcolor\":\"white\",\"linecolor\":\"white\",\"showbackground\":true,\"ticks\":\"\",\"zerolinecolor\":\"white\",\"gridwidth\":2}},\"shapedefaults\":{\"line\":{\"color\":\"#2a3f5f\"}},\"annotationdefaults\":{\"arrowcolor\":\"#2a3f5f\",\"arrowhead\":0,\"arrowwidth\":1},\"geo\":{\"bgcolor\":\"white\",\"landcolor\":\"#E5ECF6\",\"subunitcolor\":\"white\",\"showland\":true,\"showlakes\":true,\"lakecolor\":\"white\"},\"title\":{\"x\":0.05},\"mapbox\":{\"style\":\"light\"}}},\"xaxis\":{\"anchor\":\"y\",\"domain\":[0.0,1.0],\"title\":{\"text\":\"tv\"}},\"yaxis\":{\"anchor\":\"x\",\"domain\":[0.0,1.0],\"title\":{\"text\":\"sales\"}},\"legend\":{\"tracegroupgap\":0},\"title\":{\"text\":\"Sales vs. Tv(Interactive)\"}},                        {\"responsive\": true}                    ).then(function(){\n",
       "                            \n",
       "var gd = document.getElementById('eb164604-19e5-4160-9e3f-9372fa799608');\n",
       "var x = new MutationObserver(function (mutations, observer) {{\n",
       "        var display = window.getComputedStyle(gd).display;\n",
       "        if (!display || display === 'none') {{\n",
       "            console.log([gd, 'removed!']);\n",
       "            Plotly.purge(gd);\n",
       "            observer.disconnect();\n",
       "        }}\n",
       "}});\n",
       "\n",
       "// Listen for the removal of the full notebook cells\n",
       "var notebookContainer = gd.closest('#notebook-container');\n",
       "if (notebookContainer) {{\n",
       "    x.observe(notebookContainer, {childList: true});\n",
       "}}\n",
       "\n",
       "// Listen for the clearing of the current output cell\n",
       "var outputEl = gd.closest('.output');\n",
       "if (outputEl) {{\n",
       "    x.observe(outputEl, {childList: true});\n",
       "}}\n",
       "\n",
       "                        })                };                });            </script>        </div>"
      ]
     },
     "metadata": {},
     "output_type": "display_data"
    },
    {
     "data": {
      "application/vnd.plotly.v1+json": {
       "config": {
        "plotlyServerURL": "https://plot.ly"
       },
       "data": [
        {
         "customdata": [
          [
           230.1,
           69.2
          ],
          [
           44.5,
           45.1
          ],
          [
           17.2,
           69.3
          ],
          [
           151.5,
           58.5
          ],
          [
           180.8,
           58.4
          ],
          [
           8.7,
           75
          ],
          [
           57.5,
           23.5
          ],
          [
           120.2,
           11.6
          ],
          [
           8.6,
           1
          ],
          [
           199.8,
           21.2
          ],
          [
           66.1,
           24.2
          ],
          [
           214.7,
           4
          ],
          [
           23.8,
           65.9
          ],
          [
           97.5,
           7.2
          ],
          [
           204.1,
           46
          ],
          [
           195.4,
           52.9
          ],
          [
           67.8,
           114
          ],
          [
           281.4,
           55.8
          ],
          [
           69.2,
           18.3
          ],
          [
           147.3,
           19.1
          ],
          [
           218.4,
           53.4
          ],
          [
           237.4,
           23.5
          ],
          [
           13.2,
           49.6
          ],
          [
           228.3,
           26.2
          ],
          [
           62.3,
           18.3
          ],
          [
           262.9,
           19.5
          ],
          [
           142.9,
           12.6
          ],
          [
           240.1,
           22.9
          ],
          [
           248.8,
           22.9
          ],
          [
           70.6,
           40.8
          ],
          [
           292.9,
           43.2
          ],
          [
           112.9,
           38.6
          ],
          [
           97.2,
           30
          ],
          [
           265.6,
           0.3
          ],
          [
           95.7,
           7.4
          ],
          [
           290.7,
           8.5
          ],
          [
           266.9,
           5
          ],
          [
           74.7,
           45.7
          ],
          [
           43.1,
           35.1
          ],
          [
           228,
           32
          ],
          [
           202.5,
           31.6
          ],
          [
           177,
           38.7
          ],
          [
           293.6,
           1.8
          ],
          [
           206.9,
           26.4
          ],
          [
           25.1,
           43.3
          ],
          [
           175.1,
           31.5
          ],
          [
           89.7,
           35.7
          ],
          [
           239.9,
           18.5
          ],
          [
           227.2,
           49.9
          ],
          [
           66.9,
           36.8
          ],
          [
           199.8,
           34.6
          ],
          [
           100.4,
           3.6
          ],
          [
           216.4,
           39.6
          ],
          [
           182.6,
           58.7
          ],
          [
           262.7,
           15.9
          ],
          [
           198.9,
           60
          ],
          [
           7.3,
           41.4
          ],
          [
           136.2,
           16.6
          ],
          [
           210.8,
           37.7
          ],
          [
           210.7,
           9.3
          ],
          [
           53.5,
           21.4
          ],
          [
           261.3,
           54.7
          ],
          [
           239.3,
           27.3
          ],
          [
           102.7,
           8.4
          ],
          [
           131.1,
           28.9
          ],
          [
           69,
           0.9
          ],
          [
           31.5,
           2.2
          ],
          [
           139.3,
           10.2
          ],
          [
           237.4,
           11
          ],
          [
           216.8,
           27.2
          ],
          [
           199.1,
           38.7
          ],
          [
           109.8,
           31.7
          ],
          [
           26.8,
           19.3
          ],
          [
           129.4,
           31.3
          ],
          [
           213.4,
           13.1
          ],
          [
           16.9,
           89.4
          ],
          [
           27.5,
           20.7
          ],
          [
           120.5,
           14.2
          ],
          [
           5.4,
           9.4
          ],
          [
           116,
           23.1
          ],
          [
           76.4,
           22.3
          ],
          [
           239.8,
           36.9
          ],
          [
           75.3,
           32.5
          ],
          [
           68.4,
           35.6
          ],
          [
           213.5,
           33.8
          ],
          [
           193.2,
           65.7
          ],
          [
           76.3,
           16
          ],
          [
           110.7,
           63.2
          ],
          [
           88.3,
           73.4
          ],
          [
           109.8,
           51.4
          ],
          [
           134.3,
           9.3
          ],
          [
           28.6,
           33
          ],
          [
           217.7,
           59
          ],
          [
           250.9,
           72.3
          ],
          [
           107.4,
           10.9
          ],
          [
           163.3,
           52.9
          ],
          [
           197.6,
           5.9
          ],
          [
           184.9,
           22
          ],
          [
           289.7,
           51.2
          ],
          [
           135.2,
           45.9
          ],
          [
           222.4,
           49.8
          ],
          [
           296.4,
           100.9
          ],
          [
           280.2,
           21.4
          ],
          [
           187.9,
           17.9
          ],
          [
           238.2,
           5.3
          ],
          [
           137.9,
           59
          ],
          [
           25,
           29.7
          ],
          [
           90.4,
           23.2
          ],
          [
           13.1,
           25.6
          ],
          [
           255.4,
           5.5
          ],
          [
           225.8,
           56.5
          ],
          [
           241.7,
           23.2
          ],
          [
           175.7,
           2.4
          ],
          [
           209.6,
           10.7
          ],
          [
           78.2,
           34.5
          ],
          [
           75.1,
           52.7
          ],
          [
           139.2,
           25.6
          ],
          [
           76.4,
           14.8
          ],
          [
           125.7,
           79.2
          ],
          [
           19.4,
           22.3
          ],
          [
           141.3,
           46.2
          ],
          [
           18.8,
           50.4
          ],
          [
           224,
           15.6
          ],
          [
           123.1,
           12.4
          ],
          [
           229.5,
           74.2
          ],
          [
           87.2,
           25.9
          ],
          [
           7.8,
           50.6
          ],
          [
           80.2,
           9.2
          ],
          [
           220.3,
           3.2
          ],
          [
           59.6,
           43.1
          ],
          [
           0.7,
           8.7
          ],
          [
           265.2,
           43
          ],
          [
           8.4,
           2.1
          ],
          [
           219.8,
           45.1
          ],
          [
           36.9,
           65.6
          ],
          [
           48.3,
           8.5
          ],
          [
           25.6,
           9.3
          ],
          [
           273.7,
           59.7
          ],
          [
           43,
           20.5
          ],
          [
           184.9,
           1.7
          ],
          [
           73.4,
           12.9
          ],
          [
           193.7,
           75.6
          ],
          [
           220.5,
           37.9
          ],
          [
           104.6,
           34.4
          ],
          [
           96.2,
           38.9
          ],
          [
           140.3,
           9
          ],
          [
           240.1,
           8.7
          ],
          [
           243.2,
           44.3
          ],
          [
           38,
           11.9
          ],
          [
           44.7,
           20.6
          ],
          [
           280.7,
           37
          ],
          [
           121,
           48.7
          ],
          [
           197.6,
           14.2
          ],
          [
           171.3,
           37.7
          ],
          [
           187.8,
           9.5
          ],
          [
           4.1,
           5.7
          ],
          [
           93.9,
           50.5
          ],
          [
           149.8,
           24.3
          ],
          [
           11.7,
           45.2
          ],
          [
           131.7,
           34.6
          ],
          [
           172.5,
           30.7
          ],
          [
           85.7,
           49.3
          ],
          [
           188.4,
           25.6
          ],
          [
           163.5,
           7.4
          ],
          [
           117.2,
           5.4
          ],
          [
           234.5,
           84.8
          ],
          [
           17.9,
           21.6
          ],
          [
           206.8,
           19.4
          ],
          [
           215.4,
           57.6
          ],
          [
           284.3,
           6.4
          ],
          [
           50,
           18.4
          ],
          [
           164.5,
           47.4
          ],
          [
           19.6,
           17
          ],
          [
           168.4,
           12.8
          ],
          [
           222.4,
           13.1
          ],
          [
           276.9,
           41.8
          ],
          [
           248.4,
           20.3
          ],
          [
           170.2,
           35.2
          ],
          [
           276.7,
           23.7
          ],
          [
           165.6,
           17.6
          ],
          [
           156.6,
           8.3
          ],
          [
           218.5,
           27.4
          ],
          [
           56.2,
           29.7
          ],
          [
           287.6,
           71.8
          ],
          [
           253.8,
           30
          ],
          [
           205,
           19.6
          ],
          [
           139.5,
           26.6
          ],
          [
           191.1,
           18.2
          ],
          [
           286,
           3.7
          ],
          [
           18.7,
           23.4
          ],
          [
           39.5,
           5.8
          ],
          [
           75.5,
           6
          ],
          [
           17.2,
           31.6
          ],
          [
           166.8,
           3.6
          ],
          [
           149.7,
           6
          ],
          [
           38.2,
           13.8
          ],
          [
           94.2,
           8.1
          ],
          [
           177,
           6.4
          ],
          [
           283.6,
           66.2
          ],
          [
           232.1,
           8.7
          ]
         ],
         "hovertemplate": "radio=%{x}<br>sales=%{y}<br>tv=%{customdata[0]}<br>newspaper=%{customdata[1]}<extra></extra>",
         "legendgroup": "",
         "marker": {
          "color": "#636efa",
          "symbol": "circle"
         },
         "mode": "markers",
         "name": "",
         "orientation": "v",
         "showlegend": false,
         "type": "scatter",
         "x": [
          37.8,
          39.3,
          45.9,
          41.3,
          10.8,
          48.9,
          32.8,
          19.6,
          2.1,
          2.6,
          5.8,
          24,
          35.1,
          7.6,
          32.9,
          47.7,
          36.6,
          39.6,
          20.5,
          23.9,
          27.7,
          5.1,
          15.9,
          16.9,
          12.6,
          3.5,
          29.3,
          16.7,
          27.1,
          16,
          28.3,
          17.4,
          1.5,
          20,
          1.4,
          4.1,
          43.8,
          49.4,
          26.7,
          37.7,
          22.3,
          33.4,
          27.7,
          8.4,
          25.7,
          22.5,
          9.9,
          41.5,
          15.8,
          11.7,
          3.1,
          9.6,
          41.7,
          46.2,
          28.8,
          49.4,
          28.1,
          19.2,
          49.6,
          29.5,
          2,
          42.7,
          15.5,
          29.6,
          42.8,
          9.3,
          24.6,
          14.5,
          27.5,
          43.9,
          30.6,
          14.3,
          33,
          5.7,
          24.6,
          43.7,
          1.6,
          28.5,
          29.9,
          7.7,
          26.7,
          4.1,
          20.3,
          44.5,
          43,
          18.4,
          27.5,
          40.6,
          25.5,
          47.8,
          4.9,
          1.5,
          33.5,
          36.5,
          14,
          31.6,
          3.5,
          21,
          42.3,
          41.7,
          4.3,
          36.3,
          10.1,
          17.2,
          34.3,
          46.4,
          11,
          0.3,
          0.4,
          26.9,
          8.2,
          38,
          15.4,
          20.6,
          46.8,
          35,
          14.3,
          0.8,
          36.9,
          16,
          26.8,
          21.7,
          2.4,
          34.6,
          32.3,
          11.8,
          38.9,
          0,
          49,
          12,
          39.6,
          2.9,
          27.2,
          33.5,
          38.6,
          47,
          39,
          28.9,
          25.9,
          43.9,
          17,
          35.4,
          33.2,
          5.7,
          14.8,
          1.9,
          7.3,
          49,
          40.3,
          25.8,
          13.9,
          8.4,
          23.3,
          39.7,
          21.1,
          11.6,
          43.5,
          1.3,
          36.9,
          18.4,
          18.1,
          35.8,
          18.1,
          36.8,
          14.7,
          3.4,
          37.6,
          5.2,
          23.6,
          10.6,
          11.6,
          20.9,
          20.1,
          7.1,
          3.4,
          48.9,
          30.2,
          7.8,
          2.3,
          10,
          2.6,
          5.4,
          5.7,
          43,
          21.3,
          45.1,
          2.1,
          28.7,
          13.9,
          12.1,
          41.1,
          10.8,
          4.1,
          42,
          35.6,
          3.7,
          4.9,
          9.3,
          42,
          8.6
         ],
         "xaxis": "x",
         "y": [
          22.1,
          10.4,
          9.3,
          18.5,
          12.9,
          7.2,
          11.8,
          13.2,
          4.8,
          10.6,
          8.6,
          17.4,
          9.2,
          9.7,
          19,
          22.4,
          12.5,
          24.4,
          11.3,
          14.6,
          18,
          12.5,
          5.6,
          15.5,
          9.7,
          12,
          15,
          15.9,
          18.9,
          10.5,
          21.4,
          11.9,
          9.6,
          17.4,
          9.5,
          12.8,
          25.4,
          14.7,
          10.1,
          21.5,
          16.6,
          17.1,
          20.7,
          12.9,
          8.5,
          14.9,
          10.6,
          23.2,
          14.8,
          9.7,
          11.4,
          10.7,
          22.6,
          21.2,
          20.2,
          23.7,
          5.5,
          13.2,
          23.8,
          18.4,
          8.1,
          24.2,
          15.7,
          14,
          18,
          9.3,
          9.5,
          13.4,
          18.9,
          22.3,
          18.3,
          12.4,
          8.8,
          11,
          17,
          8.7,
          6.9,
          14.2,
          5.3,
          11,
          11.8,
          12.3,
          11.3,
          13.6,
          21.7,
          15.2,
          12,
          16,
          12.9,
          16.7,
          11.2,
          7.3,
          19.4,
          22.2,
          11.5,
          16.9,
          11.7,
          15.5,
          25.4,
          17.2,
          11.7,
          23.8,
          14.8,
          14.7,
          20.7,
          19.2,
          7.2,
          8.7,
          5.3,
          19.8,
          13.4,
          21.8,
          14.1,
          15.9,
          14.6,
          12.6,
          12.2,
          9.4,
          15.9,
          6.6,
          15.5,
          7,
          11.6,
          15.2,
          19.7,
          10.6,
          6.6,
          8.8,
          24.7,
          9.7,
          1.6,
          12.7,
          5.7,
          19.6,
          10.8,
          11.6,
          9.5,
          20.8,
          9.6,
          20.7,
          10.9,
          19.2,
          20.1,
          10.4,
          11.4,
          10.3,
          13.2,
          25.4,
          10.9,
          10.1,
          16.1,
          11.6,
          16.6,
          19,
          15.6,
          3.2,
          15.3,
          10.1,
          7.3,
          12.9,
          14.4,
          13.3,
          14.9,
          18,
          11.9,
          11.9,
          8,
          12.2,
          17.1,
          15,
          8.4,
          14.5,
          7.6,
          11.7,
          11.5,
          27,
          20.2,
          11.7,
          11.8,
          12.6,
          10.5,
          12.2,
          8.7,
          26.2,
          17.6,
          22.6,
          10.3,
          17.3,
          15.9,
          6.7,
          10.8,
          9.9,
          5.9,
          19.6,
          17.3,
          7.6,
          9.7,
          12.8,
          25.5,
          13.4
         ],
         "yaxis": "y"
        }
       ],
       "layout": {
        "autosize": true,
        "legend": {
         "tracegroupgap": 0
        },
        "template": {
         "data": {
          "bar": [
           {
            "error_x": {
             "color": "#2a3f5f"
            },
            "error_y": {
             "color": "#2a3f5f"
            },
            "marker": {
             "line": {
              "color": "#E5ECF6",
              "width": 0.5
             },
             "pattern": {
              "fillmode": "overlay",
              "size": 10,
              "solidity": 0.2
             }
            },
            "type": "bar"
           }
          ],
          "barpolar": [
           {
            "marker": {
             "line": {
              "color": "#E5ECF6",
              "width": 0.5
             },
             "pattern": {
              "fillmode": "overlay",
              "size": 10,
              "solidity": 0.2
             }
            },
            "type": "barpolar"
           }
          ],
          "carpet": [
           {
            "aaxis": {
             "endlinecolor": "#2a3f5f",
             "gridcolor": "white",
             "linecolor": "white",
             "minorgridcolor": "white",
             "startlinecolor": "#2a3f5f"
            },
            "baxis": {
             "endlinecolor": "#2a3f5f",
             "gridcolor": "white",
             "linecolor": "white",
             "minorgridcolor": "white",
             "startlinecolor": "#2a3f5f"
            },
            "type": "carpet"
           }
          ],
          "choropleth": [
           {
            "colorbar": {
             "outlinewidth": 0,
             "ticks": ""
            },
            "type": "choropleth"
           }
          ],
          "contour": [
           {
            "colorbar": {
             "outlinewidth": 0,
             "ticks": ""
            },
            "colorscale": [
             [
              0,
              "#0d0887"
             ],
             [
              0.1111111111111111,
              "#46039f"
             ],
             [
              0.2222222222222222,
              "#7201a8"
             ],
             [
              0.3333333333333333,
              "#9c179e"
             ],
             [
              0.4444444444444444,
              "#bd3786"
             ],
             [
              0.5555555555555556,
              "#d8576b"
             ],
             [
              0.6666666666666666,
              "#ed7953"
             ],
             [
              0.7777777777777778,
              "#fb9f3a"
             ],
             [
              0.8888888888888888,
              "#fdca26"
             ],
             [
              1,
              "#f0f921"
             ]
            ],
            "type": "contour"
           }
          ],
          "contourcarpet": [
           {
            "colorbar": {
             "outlinewidth": 0,
             "ticks": ""
            },
            "type": "contourcarpet"
           }
          ],
          "heatmap": [
           {
            "colorbar": {
             "outlinewidth": 0,
             "ticks": ""
            },
            "colorscale": [
             [
              0,
              "#0d0887"
             ],
             [
              0.1111111111111111,
              "#46039f"
             ],
             [
              0.2222222222222222,
              "#7201a8"
             ],
             [
              0.3333333333333333,
              "#9c179e"
             ],
             [
              0.4444444444444444,
              "#bd3786"
             ],
             [
              0.5555555555555556,
              "#d8576b"
             ],
             [
              0.6666666666666666,
              "#ed7953"
             ],
             [
              0.7777777777777778,
              "#fb9f3a"
             ],
             [
              0.8888888888888888,
              "#fdca26"
             ],
             [
              1,
              "#f0f921"
             ]
            ],
            "type": "heatmap"
           }
          ],
          "heatmapgl": [
           {
            "colorbar": {
             "outlinewidth": 0,
             "ticks": ""
            },
            "colorscale": [
             [
              0,
              "#0d0887"
             ],
             [
              0.1111111111111111,
              "#46039f"
             ],
             [
              0.2222222222222222,
              "#7201a8"
             ],
             [
              0.3333333333333333,
              "#9c179e"
             ],
             [
              0.4444444444444444,
              "#bd3786"
             ],
             [
              0.5555555555555556,
              "#d8576b"
             ],
             [
              0.6666666666666666,
              "#ed7953"
             ],
             [
              0.7777777777777778,
              "#fb9f3a"
             ],
             [
              0.8888888888888888,
              "#fdca26"
             ],
             [
              1,
              "#f0f921"
             ]
            ],
            "type": "heatmapgl"
           }
          ],
          "histogram": [
           {
            "marker": {
             "pattern": {
              "fillmode": "overlay",
              "size": 10,
              "solidity": 0.2
             }
            },
            "type": "histogram"
           }
          ],
          "histogram2d": [
           {
            "colorbar": {
             "outlinewidth": 0,
             "ticks": ""
            },
            "colorscale": [
             [
              0,
              "#0d0887"
             ],
             [
              0.1111111111111111,
              "#46039f"
             ],
             [
              0.2222222222222222,
              "#7201a8"
             ],
             [
              0.3333333333333333,
              "#9c179e"
             ],
             [
              0.4444444444444444,
              "#bd3786"
             ],
             [
              0.5555555555555556,
              "#d8576b"
             ],
             [
              0.6666666666666666,
              "#ed7953"
             ],
             [
              0.7777777777777778,
              "#fb9f3a"
             ],
             [
              0.8888888888888888,
              "#fdca26"
             ],
             [
              1,
              "#f0f921"
             ]
            ],
            "type": "histogram2d"
           }
          ],
          "histogram2dcontour": [
           {
            "colorbar": {
             "outlinewidth": 0,
             "ticks": ""
            },
            "colorscale": [
             [
              0,
              "#0d0887"
             ],
             [
              0.1111111111111111,
              "#46039f"
             ],
             [
              0.2222222222222222,
              "#7201a8"
             ],
             [
              0.3333333333333333,
              "#9c179e"
             ],
             [
              0.4444444444444444,
              "#bd3786"
             ],
             [
              0.5555555555555556,
              "#d8576b"
             ],
             [
              0.6666666666666666,
              "#ed7953"
             ],
             [
              0.7777777777777778,
              "#fb9f3a"
             ],
             [
              0.8888888888888888,
              "#fdca26"
             ],
             [
              1,
              "#f0f921"
             ]
            ],
            "type": "histogram2dcontour"
           }
          ],
          "mesh3d": [
           {
            "colorbar": {
             "outlinewidth": 0,
             "ticks": ""
            },
            "type": "mesh3d"
           }
          ],
          "parcoords": [
           {
            "line": {
             "colorbar": {
              "outlinewidth": 0,
              "ticks": ""
             }
            },
            "type": "parcoords"
           }
          ],
          "pie": [
           {
            "automargin": true,
            "type": "pie"
           }
          ],
          "scatter": [
           {
            "fillpattern": {
             "fillmode": "overlay",
             "size": 10,
             "solidity": 0.2
            },
            "type": "scatter"
           }
          ],
          "scatter3d": [
           {
            "line": {
             "colorbar": {
              "outlinewidth": 0,
              "ticks": ""
             }
            },
            "marker": {
             "colorbar": {
              "outlinewidth": 0,
              "ticks": ""
             }
            },
            "type": "scatter3d"
           }
          ],
          "scattercarpet": [
           {
            "marker": {
             "colorbar": {
              "outlinewidth": 0,
              "ticks": ""
             }
            },
            "type": "scattercarpet"
           }
          ],
          "scattergeo": [
           {
            "marker": {
             "colorbar": {
              "outlinewidth": 0,
              "ticks": ""
             }
            },
            "type": "scattergeo"
           }
          ],
          "scattergl": [
           {
            "marker": {
             "colorbar": {
              "outlinewidth": 0,
              "ticks": ""
             }
            },
            "type": "scattergl"
           }
          ],
          "scattermapbox": [
           {
            "marker": {
             "colorbar": {
              "outlinewidth": 0,
              "ticks": ""
             }
            },
            "type": "scattermapbox"
           }
          ],
          "scatterpolar": [
           {
            "marker": {
             "colorbar": {
              "outlinewidth": 0,
              "ticks": ""
             }
            },
            "type": "scatterpolar"
           }
          ],
          "scatterpolargl": [
           {
            "marker": {
             "colorbar": {
              "outlinewidth": 0,
              "ticks": ""
             }
            },
            "type": "scatterpolargl"
           }
          ],
          "scatterternary": [
           {
            "marker": {
             "colorbar": {
              "outlinewidth": 0,
              "ticks": ""
             }
            },
            "type": "scatterternary"
           }
          ],
          "surface": [
           {
            "colorbar": {
             "outlinewidth": 0,
             "ticks": ""
            },
            "colorscale": [
             [
              0,
              "#0d0887"
             ],
             [
              0.1111111111111111,
              "#46039f"
             ],
             [
              0.2222222222222222,
              "#7201a8"
             ],
             [
              0.3333333333333333,
              "#9c179e"
             ],
             [
              0.4444444444444444,
              "#bd3786"
             ],
             [
              0.5555555555555556,
              "#d8576b"
             ],
             [
              0.6666666666666666,
              "#ed7953"
             ],
             [
              0.7777777777777778,
              "#fb9f3a"
             ],
             [
              0.8888888888888888,
              "#fdca26"
             ],
             [
              1,
              "#f0f921"
             ]
            ],
            "type": "surface"
           }
          ],
          "table": [
           {
            "cells": {
             "fill": {
              "color": "#EBF0F8"
             },
             "line": {
              "color": "white"
             }
            },
            "header": {
             "fill": {
              "color": "#C8D4E3"
             },
             "line": {
              "color": "white"
             }
            },
            "type": "table"
           }
          ]
         },
         "layout": {
          "annotationdefaults": {
           "arrowcolor": "#2a3f5f",
           "arrowhead": 0,
           "arrowwidth": 1
          },
          "autotypenumbers": "strict",
          "coloraxis": {
           "colorbar": {
            "outlinewidth": 0,
            "ticks": ""
           }
          },
          "colorscale": {
           "diverging": [
            [
             0,
             "#8e0152"
            ],
            [
             0.1,
             "#c51b7d"
            ],
            [
             0.2,
             "#de77ae"
            ],
            [
             0.3,
             "#f1b6da"
            ],
            [
             0.4,
             "#fde0ef"
            ],
            [
             0.5,
             "#f7f7f7"
            ],
            [
             0.6,
             "#e6f5d0"
            ],
            [
             0.7,
             "#b8e186"
            ],
            [
             0.8,
             "#7fbc41"
            ],
            [
             0.9,
             "#4d9221"
            ],
            [
             1,
             "#276419"
            ]
           ],
           "sequential": [
            [
             0,
             "#0d0887"
            ],
            [
             0.1111111111111111,
             "#46039f"
            ],
            [
             0.2222222222222222,
             "#7201a8"
            ],
            [
             0.3333333333333333,
             "#9c179e"
            ],
            [
             0.4444444444444444,
             "#bd3786"
            ],
            [
             0.5555555555555556,
             "#d8576b"
            ],
            [
             0.6666666666666666,
             "#ed7953"
            ],
            [
             0.7777777777777778,
             "#fb9f3a"
            ],
            [
             0.8888888888888888,
             "#fdca26"
            ],
            [
             1,
             "#f0f921"
            ]
           ],
           "sequentialminus": [
            [
             0,
             "#0d0887"
            ],
            [
             0.1111111111111111,
             "#46039f"
            ],
            [
             0.2222222222222222,
             "#7201a8"
            ],
            [
             0.3333333333333333,
             "#9c179e"
            ],
            [
             0.4444444444444444,
             "#bd3786"
            ],
            [
             0.5555555555555556,
             "#d8576b"
            ],
            [
             0.6666666666666666,
             "#ed7953"
            ],
            [
             0.7777777777777778,
             "#fb9f3a"
            ],
            [
             0.8888888888888888,
             "#fdca26"
            ],
            [
             1,
             "#f0f921"
            ]
           ]
          },
          "colorway": [
           "#636efa",
           "#EF553B",
           "#00cc96",
           "#ab63fa",
           "#FFA15A",
           "#19d3f3",
           "#FF6692",
           "#B6E880",
           "#FF97FF",
           "#FECB52"
          ],
          "font": {
           "color": "#2a3f5f"
          },
          "geo": {
           "bgcolor": "white",
           "lakecolor": "white",
           "landcolor": "#E5ECF6",
           "showlakes": true,
           "showland": true,
           "subunitcolor": "white"
          },
          "hoverlabel": {
           "align": "left"
          },
          "hovermode": "closest",
          "mapbox": {
           "style": "light"
          },
          "paper_bgcolor": "white",
          "plot_bgcolor": "#E5ECF6",
          "polar": {
           "angularaxis": {
            "gridcolor": "white",
            "linecolor": "white",
            "ticks": ""
           },
           "bgcolor": "#E5ECF6",
           "radialaxis": {
            "gridcolor": "white",
            "linecolor": "white",
            "ticks": ""
           }
          },
          "scene": {
           "xaxis": {
            "backgroundcolor": "#E5ECF6",
            "gridcolor": "white",
            "gridwidth": 2,
            "linecolor": "white",
            "showbackground": true,
            "ticks": "",
            "zerolinecolor": "white"
           },
           "yaxis": {
            "backgroundcolor": "#E5ECF6",
            "gridcolor": "white",
            "gridwidth": 2,
            "linecolor": "white",
            "showbackground": true,
            "ticks": "",
            "zerolinecolor": "white"
           },
           "zaxis": {
            "backgroundcolor": "#E5ECF6",
            "gridcolor": "white",
            "gridwidth": 2,
            "linecolor": "white",
            "showbackground": true,
            "ticks": "",
            "zerolinecolor": "white"
           }
          },
          "shapedefaults": {
           "line": {
            "color": "#2a3f5f"
           }
          },
          "ternary": {
           "aaxis": {
            "gridcolor": "white",
            "linecolor": "white",
            "ticks": ""
           },
           "baxis": {
            "gridcolor": "white",
            "linecolor": "white",
            "ticks": ""
           },
           "bgcolor": "#E5ECF6",
           "caxis": {
            "gridcolor": "white",
            "linecolor": "white",
            "ticks": ""
           }
          },
          "title": {
           "x": 0.05
          },
          "xaxis": {
           "automargin": true,
           "gridcolor": "white",
           "linecolor": "white",
           "ticks": "",
           "title": {
            "standoff": 15
           },
           "zerolinecolor": "white",
           "zerolinewidth": 2
          },
          "yaxis": {
           "automargin": true,
           "gridcolor": "white",
           "linecolor": "white",
           "ticks": "",
           "title": {
            "standoff": 15
           },
           "zerolinecolor": "white",
           "zerolinewidth": 2
          }
         }
        },
        "title": {
         "text": "Sales vs. Radio(Interactive)"
        },
        "xaxis": {
         "anchor": "y",
         "autorange": true,
         "domain": [
          0,
          1
         ],
         "range": [
          -3.187460815047022,
          52.78746081504703
         ],
         "title": {
          "text": "radio"
         },
         "type": "linear"
        },
        "yaxis": {
         "anchor": "x",
         "autorange": true,
         "domain": [
          0,
          1
         ],
         "range": [
          -0.49611650485436876,
          29.09611650485437
         ],
         "title": {
          "text": "sales"
         },
         "type": "linear"
        }
       }
      },
      "text/html": [
       "<div>                            <div id=\"f2ede4a7-946c-4122-af30-c6254bf977f0\" class=\"plotly-graph-div\" style=\"height:525px; width:100%;\"></div>            <script type=\"text/javascript\">                require([\"plotly\"], function(Plotly) {                    window.PLOTLYENV=window.PLOTLYENV || {};                                    if (document.getElementById(\"f2ede4a7-946c-4122-af30-c6254bf977f0\")) {                    Plotly.newPlot(                        \"f2ede4a7-946c-4122-af30-c6254bf977f0\",                        [{\"customdata\":[[230.1,69.2],[44.5,45.1],[17.2,69.3],[151.5,58.5],[180.8,58.4],[8.7,75.0],[57.5,23.5],[120.2,11.6],[8.6,1.0],[199.8,21.2],[66.1,24.2],[214.7,4.0],[23.8,65.9],[97.5,7.2],[204.1,46.0],[195.4,52.9],[67.8,114.0],[281.4,55.8],[69.2,18.3],[147.3,19.1],[218.4,53.4],[237.4,23.5],[13.2,49.6],[228.3,26.2],[62.3,18.3],[262.9,19.5],[142.9,12.6],[240.1,22.9],[248.8,22.9],[70.6,40.8],[292.9,43.2],[112.9,38.6],[97.2,30.0],[265.6,0.3],[95.7,7.4],[290.7,8.5],[266.9,5.0],[74.7,45.7],[43.1,35.1],[228.0,32.0],[202.5,31.6],[177.0,38.7],[293.6,1.8],[206.9,26.4],[25.1,43.3],[175.1,31.5],[89.7,35.7],[239.9,18.5],[227.2,49.9],[66.9,36.8],[199.8,34.6],[100.4,3.6],[216.4,39.6],[182.6,58.7],[262.7,15.9],[198.9,60.0],[7.3,41.4],[136.2,16.6],[210.8,37.7],[210.7,9.3],[53.5,21.4],[261.3,54.7],[239.3,27.3],[102.7,8.4],[131.1,28.9],[69.0,0.9],[31.5,2.2],[139.3,10.2],[237.4,11.0],[216.8,27.2],[199.1,38.7],[109.8,31.7],[26.8,19.3],[129.4,31.3],[213.4,13.1],[16.9,89.4],[27.5,20.7],[120.5,14.2],[5.4,9.4],[116.0,23.1],[76.4,22.3],[239.8,36.9],[75.3,32.5],[68.4,35.6],[213.5,33.8],[193.2,65.7],[76.3,16.0],[110.7,63.2],[88.3,73.4],[109.8,51.4],[134.3,9.3],[28.6,33.0],[217.7,59.0],[250.9,72.3],[107.4,10.9],[163.3,52.9],[197.6,5.9],[184.9,22.0],[289.7,51.2],[135.2,45.9],[222.4,49.8],[296.4,100.9],[280.2,21.4],[187.9,17.9],[238.2,5.3],[137.9,59.0],[25.0,29.7],[90.4,23.2],[13.1,25.6],[255.4,5.5],[225.8,56.5],[241.7,23.2],[175.7,2.4],[209.6,10.7],[78.2,34.5],[75.1,52.7],[139.2,25.6],[76.4,14.8],[125.7,79.2],[19.4,22.3],[141.3,46.2],[18.8,50.4],[224.0,15.6],[123.1,12.4],[229.5,74.2],[87.2,25.9],[7.8,50.6],[80.2,9.2],[220.3,3.2],[59.6,43.1],[0.7,8.7],[265.2,43.0],[8.4,2.1],[219.8,45.1],[36.9,65.6],[48.3,8.5],[25.6,9.3],[273.7,59.7],[43.0,20.5],[184.9,1.7],[73.4,12.9],[193.7,75.6],[220.5,37.9],[104.6,34.4],[96.2,38.9],[140.3,9.0],[240.1,8.7],[243.2,44.3],[38.0,11.9],[44.7,20.6],[280.7,37.0],[121.0,48.7],[197.6,14.2],[171.3,37.7],[187.8,9.5],[4.1,5.7],[93.9,50.5],[149.8,24.3],[11.7,45.2],[131.7,34.6],[172.5,30.7],[85.7,49.3],[188.4,25.6],[163.5,7.4],[117.2,5.4],[234.5,84.8],[17.9,21.6],[206.8,19.4],[215.4,57.6],[284.3,6.4],[50.0,18.4],[164.5,47.4],[19.6,17.0],[168.4,12.8],[222.4,13.1],[276.9,41.8],[248.4,20.3],[170.2,35.2],[276.7,23.7],[165.6,17.6],[156.6,8.3],[218.5,27.4],[56.2,29.7],[287.6,71.8],[253.8,30.0],[205.0,19.6],[139.5,26.6],[191.1,18.2],[286.0,3.7],[18.7,23.4],[39.5,5.8],[75.5,6.0],[17.2,31.6],[166.8,3.6],[149.7,6.0],[38.2,13.8],[94.2,8.1],[177.0,6.4],[283.6,66.2],[232.1,8.7]],\"hovertemplate\":\"radio=%{x}\\u003cbr\\u003esales=%{y}\\u003cbr\\u003etv=%{customdata[0]}\\u003cbr\\u003enewspaper=%{customdata[1]}\\u003cextra\\u003e\\u003c\\u002fextra\\u003e\",\"legendgroup\":\"\",\"marker\":{\"color\":\"#636efa\",\"symbol\":\"circle\"},\"mode\":\"markers\",\"name\":\"\",\"orientation\":\"v\",\"showlegend\":false,\"x\":[37.8,39.3,45.9,41.3,10.8,48.9,32.8,19.6,2.1,2.6,5.8,24.0,35.1,7.6,32.9,47.7,36.6,39.6,20.5,23.9,27.7,5.1,15.9,16.9,12.6,3.5,29.3,16.7,27.1,16.0,28.3,17.4,1.5,20.0,1.4,4.1,43.8,49.4,26.7,37.7,22.3,33.4,27.7,8.4,25.7,22.5,9.9,41.5,15.8,11.7,3.1,9.6,41.7,46.2,28.8,49.4,28.1,19.2,49.6,29.5,2.0,42.7,15.5,29.6,42.8,9.3,24.6,14.5,27.5,43.9,30.6,14.3,33.0,5.7,24.6,43.7,1.6,28.5,29.9,7.7,26.7,4.1,20.3,44.5,43.0,18.4,27.5,40.6,25.5,47.8,4.9,1.5,33.5,36.5,14.0,31.6,3.5,21.0,42.3,41.7,4.3,36.3,10.1,17.2,34.3,46.4,11.0,0.3,0.4,26.9,8.2,38.0,15.4,20.6,46.8,35.0,14.3,0.8,36.9,16.0,26.8,21.7,2.4,34.6,32.3,11.8,38.9,0.0,49.0,12.0,39.6,2.9,27.2,33.5,38.6,47.0,39.0,28.9,25.9,43.9,17.0,35.4,33.2,5.7,14.8,1.9,7.3,49.0,40.3,25.8,13.9,8.4,23.3,39.7,21.1,11.6,43.5,1.3,36.9,18.4,18.1,35.8,18.1,36.8,14.7,3.4,37.6,5.2,23.6,10.6,11.6,20.9,20.1,7.1,3.4,48.9,30.2,7.8,2.3,10.0,2.6,5.4,5.7,43.0,21.3,45.1,2.1,28.7,13.9,12.1,41.1,10.8,4.1,42.0,35.6,3.7,4.9,9.3,42.0,8.6],\"xaxis\":\"x\",\"y\":[22.1,10.4,9.3,18.5,12.9,7.2,11.8,13.2,4.8,10.6,8.6,17.4,9.2,9.7,19.0,22.4,12.5,24.4,11.3,14.6,18.0,12.5,5.6,15.5,9.7,12.0,15.0,15.9,18.9,10.5,21.4,11.9,9.6,17.4,9.5,12.8,25.4,14.7,10.1,21.5,16.6,17.1,20.7,12.9,8.5,14.9,10.6,23.2,14.8,9.7,11.4,10.7,22.6,21.2,20.2,23.7,5.5,13.2,23.8,18.4,8.1,24.2,15.7,14.0,18.0,9.3,9.5,13.4,18.9,22.3,18.3,12.4,8.8,11.0,17.0,8.7,6.9,14.2,5.3,11.0,11.8,12.3,11.3,13.6,21.7,15.2,12.0,16.0,12.9,16.7,11.2,7.3,19.4,22.2,11.5,16.9,11.7,15.5,25.4,17.2,11.7,23.8,14.8,14.7,20.7,19.2,7.2,8.7,5.3,19.8,13.4,21.8,14.1,15.9,14.6,12.6,12.2,9.4,15.9,6.6,15.5,7.0,11.6,15.2,19.7,10.6,6.6,8.8,24.7,9.7,1.6,12.7,5.7,19.6,10.8,11.6,9.5,20.8,9.6,20.7,10.9,19.2,20.1,10.4,11.4,10.3,13.2,25.4,10.9,10.1,16.1,11.6,16.6,19.0,15.6,3.2,15.3,10.1,7.3,12.9,14.4,13.3,14.9,18.0,11.9,11.9,8.0,12.2,17.1,15.0,8.4,14.5,7.6,11.7,11.5,27.0,20.2,11.7,11.8,12.6,10.5,12.2,8.7,26.2,17.6,22.6,10.3,17.3,15.9,6.7,10.8,9.9,5.9,19.6,17.3,7.6,9.7,12.8,25.5,13.4],\"yaxis\":\"y\",\"type\":\"scatter\"}],                        {\"template\":{\"data\":{\"histogram2dcontour\":[{\"type\":\"histogram2dcontour\",\"colorbar\":{\"outlinewidth\":0,\"ticks\":\"\"},\"colorscale\":[[0.0,\"#0d0887\"],[0.1111111111111111,\"#46039f\"],[0.2222222222222222,\"#7201a8\"],[0.3333333333333333,\"#9c179e\"],[0.4444444444444444,\"#bd3786\"],[0.5555555555555556,\"#d8576b\"],[0.6666666666666666,\"#ed7953\"],[0.7777777777777778,\"#fb9f3a\"],[0.8888888888888888,\"#fdca26\"],[1.0,\"#f0f921\"]]}],\"choropleth\":[{\"type\":\"choropleth\",\"colorbar\":{\"outlinewidth\":0,\"ticks\":\"\"}}],\"histogram2d\":[{\"type\":\"histogram2d\",\"colorbar\":{\"outlinewidth\":0,\"ticks\":\"\"},\"colorscale\":[[0.0,\"#0d0887\"],[0.1111111111111111,\"#46039f\"],[0.2222222222222222,\"#7201a8\"],[0.3333333333333333,\"#9c179e\"],[0.4444444444444444,\"#bd3786\"],[0.5555555555555556,\"#d8576b\"],[0.6666666666666666,\"#ed7953\"],[0.7777777777777778,\"#fb9f3a\"],[0.8888888888888888,\"#fdca26\"],[1.0,\"#f0f921\"]]}],\"heatmap\":[{\"type\":\"heatmap\",\"colorbar\":{\"outlinewidth\":0,\"ticks\":\"\"},\"colorscale\":[[0.0,\"#0d0887\"],[0.1111111111111111,\"#46039f\"],[0.2222222222222222,\"#7201a8\"],[0.3333333333333333,\"#9c179e\"],[0.4444444444444444,\"#bd3786\"],[0.5555555555555556,\"#d8576b\"],[0.6666666666666666,\"#ed7953\"],[0.7777777777777778,\"#fb9f3a\"],[0.8888888888888888,\"#fdca26\"],[1.0,\"#f0f921\"]]}],\"heatmapgl\":[{\"type\":\"heatmapgl\",\"colorbar\":{\"outlinewidth\":0,\"ticks\":\"\"},\"colorscale\":[[0.0,\"#0d0887\"],[0.1111111111111111,\"#46039f\"],[0.2222222222222222,\"#7201a8\"],[0.3333333333333333,\"#9c179e\"],[0.4444444444444444,\"#bd3786\"],[0.5555555555555556,\"#d8576b\"],[0.6666666666666666,\"#ed7953\"],[0.7777777777777778,\"#fb9f3a\"],[0.8888888888888888,\"#fdca26\"],[1.0,\"#f0f921\"]]}],\"contourcarpet\":[{\"type\":\"contourcarpet\",\"colorbar\":{\"outlinewidth\":0,\"ticks\":\"\"}}],\"contour\":[{\"type\":\"contour\",\"colorbar\":{\"outlinewidth\":0,\"ticks\":\"\"},\"colorscale\":[[0.0,\"#0d0887\"],[0.1111111111111111,\"#46039f\"],[0.2222222222222222,\"#7201a8\"],[0.3333333333333333,\"#9c179e\"],[0.4444444444444444,\"#bd3786\"],[0.5555555555555556,\"#d8576b\"],[0.6666666666666666,\"#ed7953\"],[0.7777777777777778,\"#fb9f3a\"],[0.8888888888888888,\"#fdca26\"],[1.0,\"#f0f921\"]]}],\"surface\":[{\"type\":\"surface\",\"colorbar\":{\"outlinewidth\":0,\"ticks\":\"\"},\"colorscale\":[[0.0,\"#0d0887\"],[0.1111111111111111,\"#46039f\"],[0.2222222222222222,\"#7201a8\"],[0.3333333333333333,\"#9c179e\"],[0.4444444444444444,\"#bd3786\"],[0.5555555555555556,\"#d8576b\"],[0.6666666666666666,\"#ed7953\"],[0.7777777777777778,\"#fb9f3a\"],[0.8888888888888888,\"#fdca26\"],[1.0,\"#f0f921\"]]}],\"mesh3d\":[{\"type\":\"mesh3d\",\"colorbar\":{\"outlinewidth\":0,\"ticks\":\"\"}}],\"scatter\":[{\"fillpattern\":{\"fillmode\":\"overlay\",\"size\":10,\"solidity\":0.2},\"type\":\"scatter\"}],\"parcoords\":[{\"type\":\"parcoords\",\"line\":{\"colorbar\":{\"outlinewidth\":0,\"ticks\":\"\"}}}],\"scatterpolargl\":[{\"type\":\"scatterpolargl\",\"marker\":{\"colorbar\":{\"outlinewidth\":0,\"ticks\":\"\"}}}],\"bar\":[{\"error_x\":{\"color\":\"#2a3f5f\"},\"error_y\":{\"color\":\"#2a3f5f\"},\"marker\":{\"line\":{\"color\":\"#E5ECF6\",\"width\":0.5},\"pattern\":{\"fillmode\":\"overlay\",\"size\":10,\"solidity\":0.2}},\"type\":\"bar\"}],\"scattergeo\":[{\"type\":\"scattergeo\",\"marker\":{\"colorbar\":{\"outlinewidth\":0,\"ticks\":\"\"}}}],\"scatterpolar\":[{\"type\":\"scatterpolar\",\"marker\":{\"colorbar\":{\"outlinewidth\":0,\"ticks\":\"\"}}}],\"histogram\":[{\"marker\":{\"pattern\":{\"fillmode\":\"overlay\",\"size\":10,\"solidity\":0.2}},\"type\":\"histogram\"}],\"scattergl\":[{\"type\":\"scattergl\",\"marker\":{\"colorbar\":{\"outlinewidth\":0,\"ticks\":\"\"}}}],\"scatter3d\":[{\"type\":\"scatter3d\",\"line\":{\"colorbar\":{\"outlinewidth\":0,\"ticks\":\"\"}},\"marker\":{\"colorbar\":{\"outlinewidth\":0,\"ticks\":\"\"}}}],\"scattermapbox\":[{\"type\":\"scattermapbox\",\"marker\":{\"colorbar\":{\"outlinewidth\":0,\"ticks\":\"\"}}}],\"scatterternary\":[{\"type\":\"scatterternary\",\"marker\":{\"colorbar\":{\"outlinewidth\":0,\"ticks\":\"\"}}}],\"scattercarpet\":[{\"type\":\"scattercarpet\",\"marker\":{\"colorbar\":{\"outlinewidth\":0,\"ticks\":\"\"}}}],\"carpet\":[{\"aaxis\":{\"endlinecolor\":\"#2a3f5f\",\"gridcolor\":\"white\",\"linecolor\":\"white\",\"minorgridcolor\":\"white\",\"startlinecolor\":\"#2a3f5f\"},\"baxis\":{\"endlinecolor\":\"#2a3f5f\",\"gridcolor\":\"white\",\"linecolor\":\"white\",\"minorgridcolor\":\"white\",\"startlinecolor\":\"#2a3f5f\"},\"type\":\"carpet\"}],\"table\":[{\"cells\":{\"fill\":{\"color\":\"#EBF0F8\"},\"line\":{\"color\":\"white\"}},\"header\":{\"fill\":{\"color\":\"#C8D4E3\"},\"line\":{\"color\":\"white\"}},\"type\":\"table\"}],\"barpolar\":[{\"marker\":{\"line\":{\"color\":\"#E5ECF6\",\"width\":0.5},\"pattern\":{\"fillmode\":\"overlay\",\"size\":10,\"solidity\":0.2}},\"type\":\"barpolar\"}],\"pie\":[{\"automargin\":true,\"type\":\"pie\"}]},\"layout\":{\"autotypenumbers\":\"strict\",\"colorway\":[\"#636efa\",\"#EF553B\",\"#00cc96\",\"#ab63fa\",\"#FFA15A\",\"#19d3f3\",\"#FF6692\",\"#B6E880\",\"#FF97FF\",\"#FECB52\"],\"font\":{\"color\":\"#2a3f5f\"},\"hovermode\":\"closest\",\"hoverlabel\":{\"align\":\"left\"},\"paper_bgcolor\":\"white\",\"plot_bgcolor\":\"#E5ECF6\",\"polar\":{\"bgcolor\":\"#E5ECF6\",\"angularaxis\":{\"gridcolor\":\"white\",\"linecolor\":\"white\",\"ticks\":\"\"},\"radialaxis\":{\"gridcolor\":\"white\",\"linecolor\":\"white\",\"ticks\":\"\"}},\"ternary\":{\"bgcolor\":\"#E5ECF6\",\"aaxis\":{\"gridcolor\":\"white\",\"linecolor\":\"white\",\"ticks\":\"\"},\"baxis\":{\"gridcolor\":\"white\",\"linecolor\":\"white\",\"ticks\":\"\"},\"caxis\":{\"gridcolor\":\"white\",\"linecolor\":\"white\",\"ticks\":\"\"}},\"coloraxis\":{\"colorbar\":{\"outlinewidth\":0,\"ticks\":\"\"}},\"colorscale\":{\"sequential\":[[0.0,\"#0d0887\"],[0.1111111111111111,\"#46039f\"],[0.2222222222222222,\"#7201a8\"],[0.3333333333333333,\"#9c179e\"],[0.4444444444444444,\"#bd3786\"],[0.5555555555555556,\"#d8576b\"],[0.6666666666666666,\"#ed7953\"],[0.7777777777777778,\"#fb9f3a\"],[0.8888888888888888,\"#fdca26\"],[1.0,\"#f0f921\"]],\"sequentialminus\":[[0.0,\"#0d0887\"],[0.1111111111111111,\"#46039f\"],[0.2222222222222222,\"#7201a8\"],[0.3333333333333333,\"#9c179e\"],[0.4444444444444444,\"#bd3786\"],[0.5555555555555556,\"#d8576b\"],[0.6666666666666666,\"#ed7953\"],[0.7777777777777778,\"#fb9f3a\"],[0.8888888888888888,\"#fdca26\"],[1.0,\"#f0f921\"]],\"diverging\":[[0,\"#8e0152\"],[0.1,\"#c51b7d\"],[0.2,\"#de77ae\"],[0.3,\"#f1b6da\"],[0.4,\"#fde0ef\"],[0.5,\"#f7f7f7\"],[0.6,\"#e6f5d0\"],[0.7,\"#b8e186\"],[0.8,\"#7fbc41\"],[0.9,\"#4d9221\"],[1,\"#276419\"]]},\"xaxis\":{\"gridcolor\":\"white\",\"linecolor\":\"white\",\"ticks\":\"\",\"title\":{\"standoff\":15},\"zerolinecolor\":\"white\",\"automargin\":true,\"zerolinewidth\":2},\"yaxis\":{\"gridcolor\":\"white\",\"linecolor\":\"white\",\"ticks\":\"\",\"title\":{\"standoff\":15},\"zerolinecolor\":\"white\",\"automargin\":true,\"zerolinewidth\":2},\"scene\":{\"xaxis\":{\"backgroundcolor\":\"#E5ECF6\",\"gridcolor\":\"white\",\"linecolor\":\"white\",\"showbackground\":true,\"ticks\":\"\",\"zerolinecolor\":\"white\",\"gridwidth\":2},\"yaxis\":{\"backgroundcolor\":\"#E5ECF6\",\"gridcolor\":\"white\",\"linecolor\":\"white\",\"showbackground\":true,\"ticks\":\"\",\"zerolinecolor\":\"white\",\"gridwidth\":2},\"zaxis\":{\"backgroundcolor\":\"#E5ECF6\",\"gridcolor\":\"white\",\"linecolor\":\"white\",\"showbackground\":true,\"ticks\":\"\",\"zerolinecolor\":\"white\",\"gridwidth\":2}},\"shapedefaults\":{\"line\":{\"color\":\"#2a3f5f\"}},\"annotationdefaults\":{\"arrowcolor\":\"#2a3f5f\",\"arrowhead\":0,\"arrowwidth\":1},\"geo\":{\"bgcolor\":\"white\",\"landcolor\":\"#E5ECF6\",\"subunitcolor\":\"white\",\"showland\":true,\"showlakes\":true,\"lakecolor\":\"white\"},\"title\":{\"x\":0.05},\"mapbox\":{\"style\":\"light\"}}},\"xaxis\":{\"anchor\":\"y\",\"domain\":[0.0,1.0],\"title\":{\"text\":\"radio\"}},\"yaxis\":{\"anchor\":\"x\",\"domain\":[0.0,1.0],\"title\":{\"text\":\"sales\"}},\"legend\":{\"tracegroupgap\":0},\"title\":{\"text\":\"Sales vs. Radio(Interactive)\"}},                        {\"responsive\": true}                    ).then(function(){\n",
       "                            \n",
       "var gd = document.getElementById('f2ede4a7-946c-4122-af30-c6254bf977f0');\n",
       "var x = new MutationObserver(function (mutations, observer) {{\n",
       "        var display = window.getComputedStyle(gd).display;\n",
       "        if (!display || display === 'none') {{\n",
       "            console.log([gd, 'removed!']);\n",
       "            Plotly.purge(gd);\n",
       "            observer.disconnect();\n",
       "        }}\n",
       "}});\n",
       "\n",
       "// Listen for the removal of the full notebook cells\n",
       "var notebookContainer = gd.closest('#notebook-container');\n",
       "if (notebookContainer) {{\n",
       "    x.observe(notebookContainer, {childList: true});\n",
       "}}\n",
       "\n",
       "// Listen for the clearing of the current output cell\n",
       "var outputEl = gd.closest('.output');\n",
       "if (outputEl) {{\n",
       "    x.observe(outputEl, {childList: true});\n",
       "}}\n",
       "\n",
       "                        })                };                });            </script>        </div>"
      ]
     },
     "metadata": {},
     "output_type": "display_data"
    },
    {
     "data": {
      "application/vnd.plotly.v1+json": {
       "config": {
        "plotlyServerURL": "https://plot.ly"
       },
       "data": [
        {
         "customdata": [
          [
           230.1,
           37.8
          ],
          [
           44.5,
           39.3
          ],
          [
           17.2,
           45.9
          ],
          [
           151.5,
           41.3
          ],
          [
           180.8,
           10.8
          ],
          [
           8.7,
           48.9
          ],
          [
           57.5,
           32.8
          ],
          [
           120.2,
           19.6
          ],
          [
           8.6,
           2.1
          ],
          [
           199.8,
           2.6
          ],
          [
           66.1,
           5.8
          ],
          [
           214.7,
           24
          ],
          [
           23.8,
           35.1
          ],
          [
           97.5,
           7.6
          ],
          [
           204.1,
           32.9
          ],
          [
           195.4,
           47.7
          ],
          [
           67.8,
           36.6
          ],
          [
           281.4,
           39.6
          ],
          [
           69.2,
           20.5
          ],
          [
           147.3,
           23.9
          ],
          [
           218.4,
           27.7
          ],
          [
           237.4,
           5.1
          ],
          [
           13.2,
           15.9
          ],
          [
           228.3,
           16.9
          ],
          [
           62.3,
           12.6
          ],
          [
           262.9,
           3.5
          ],
          [
           142.9,
           29.3
          ],
          [
           240.1,
           16.7
          ],
          [
           248.8,
           27.1
          ],
          [
           70.6,
           16
          ],
          [
           292.9,
           28.3
          ],
          [
           112.9,
           17.4
          ],
          [
           97.2,
           1.5
          ],
          [
           265.6,
           20
          ],
          [
           95.7,
           1.4
          ],
          [
           290.7,
           4.1
          ],
          [
           266.9,
           43.8
          ],
          [
           74.7,
           49.4
          ],
          [
           43.1,
           26.7
          ],
          [
           228,
           37.7
          ],
          [
           202.5,
           22.3
          ],
          [
           177,
           33.4
          ],
          [
           293.6,
           27.7
          ],
          [
           206.9,
           8.4
          ],
          [
           25.1,
           25.7
          ],
          [
           175.1,
           22.5
          ],
          [
           89.7,
           9.9
          ],
          [
           239.9,
           41.5
          ],
          [
           227.2,
           15.8
          ],
          [
           66.9,
           11.7
          ],
          [
           199.8,
           3.1
          ],
          [
           100.4,
           9.6
          ],
          [
           216.4,
           41.7
          ],
          [
           182.6,
           46.2
          ],
          [
           262.7,
           28.8
          ],
          [
           198.9,
           49.4
          ],
          [
           7.3,
           28.1
          ],
          [
           136.2,
           19.2
          ],
          [
           210.8,
           49.6
          ],
          [
           210.7,
           29.5
          ],
          [
           53.5,
           2
          ],
          [
           261.3,
           42.7
          ],
          [
           239.3,
           15.5
          ],
          [
           102.7,
           29.6
          ],
          [
           131.1,
           42.8
          ],
          [
           69,
           9.3
          ],
          [
           31.5,
           24.6
          ],
          [
           139.3,
           14.5
          ],
          [
           237.4,
           27.5
          ],
          [
           216.8,
           43.9
          ],
          [
           199.1,
           30.6
          ],
          [
           109.8,
           14.3
          ],
          [
           26.8,
           33
          ],
          [
           129.4,
           5.7
          ],
          [
           213.4,
           24.6
          ],
          [
           16.9,
           43.7
          ],
          [
           27.5,
           1.6
          ],
          [
           120.5,
           28.5
          ],
          [
           5.4,
           29.9
          ],
          [
           116,
           7.7
          ],
          [
           76.4,
           26.7
          ],
          [
           239.8,
           4.1
          ],
          [
           75.3,
           20.3
          ],
          [
           68.4,
           44.5
          ],
          [
           213.5,
           43
          ],
          [
           193.2,
           18.4
          ],
          [
           76.3,
           27.5
          ],
          [
           110.7,
           40.6
          ],
          [
           88.3,
           25.5
          ],
          [
           109.8,
           47.8
          ],
          [
           134.3,
           4.9
          ],
          [
           28.6,
           1.5
          ],
          [
           217.7,
           33.5
          ],
          [
           250.9,
           36.5
          ],
          [
           107.4,
           14
          ],
          [
           163.3,
           31.6
          ],
          [
           197.6,
           3.5
          ],
          [
           184.9,
           21
          ],
          [
           289.7,
           42.3
          ],
          [
           135.2,
           41.7
          ],
          [
           222.4,
           4.3
          ],
          [
           296.4,
           36.3
          ],
          [
           280.2,
           10.1
          ],
          [
           187.9,
           17.2
          ],
          [
           238.2,
           34.3
          ],
          [
           137.9,
           46.4
          ],
          [
           25,
           11
          ],
          [
           90.4,
           0.3
          ],
          [
           13.1,
           0.4
          ],
          [
           255.4,
           26.9
          ],
          [
           225.8,
           8.2
          ],
          [
           241.7,
           38
          ],
          [
           175.7,
           15.4
          ],
          [
           209.6,
           20.6
          ],
          [
           78.2,
           46.8
          ],
          [
           75.1,
           35
          ],
          [
           139.2,
           14.3
          ],
          [
           76.4,
           0.8
          ],
          [
           125.7,
           36.9
          ],
          [
           19.4,
           16
          ],
          [
           141.3,
           26.8
          ],
          [
           18.8,
           21.7
          ],
          [
           224,
           2.4
          ],
          [
           123.1,
           34.6
          ],
          [
           229.5,
           32.3
          ],
          [
           87.2,
           11.8
          ],
          [
           7.8,
           38.9
          ],
          [
           80.2,
           0
          ],
          [
           220.3,
           49
          ],
          [
           59.6,
           12
          ],
          [
           0.7,
           39.6
          ],
          [
           265.2,
           2.9
          ],
          [
           8.4,
           27.2
          ],
          [
           219.8,
           33.5
          ],
          [
           36.9,
           38.6
          ],
          [
           48.3,
           47
          ],
          [
           25.6,
           39
          ],
          [
           273.7,
           28.9
          ],
          [
           43,
           25.9
          ],
          [
           184.9,
           43.9
          ],
          [
           73.4,
           17
          ],
          [
           193.7,
           35.4
          ],
          [
           220.5,
           33.2
          ],
          [
           104.6,
           5.7
          ],
          [
           96.2,
           14.8
          ],
          [
           140.3,
           1.9
          ],
          [
           240.1,
           7.3
          ],
          [
           243.2,
           49
          ],
          [
           38,
           40.3
          ],
          [
           44.7,
           25.8
          ],
          [
           280.7,
           13.9
          ],
          [
           121,
           8.4
          ],
          [
           197.6,
           23.3
          ],
          [
           171.3,
           39.7
          ],
          [
           187.8,
           21.1
          ],
          [
           4.1,
           11.6
          ],
          [
           93.9,
           43.5
          ],
          [
           149.8,
           1.3
          ],
          [
           11.7,
           36.9
          ],
          [
           131.7,
           18.4
          ],
          [
           172.5,
           18.1
          ],
          [
           85.7,
           35.8
          ],
          [
           188.4,
           18.1
          ],
          [
           163.5,
           36.8
          ],
          [
           117.2,
           14.7
          ],
          [
           234.5,
           3.4
          ],
          [
           17.9,
           37.6
          ],
          [
           206.8,
           5.2
          ],
          [
           215.4,
           23.6
          ],
          [
           284.3,
           10.6
          ],
          [
           50,
           11.6
          ],
          [
           164.5,
           20.9
          ],
          [
           19.6,
           20.1
          ],
          [
           168.4,
           7.1
          ],
          [
           222.4,
           3.4
          ],
          [
           276.9,
           48.9
          ],
          [
           248.4,
           30.2
          ],
          [
           170.2,
           7.8
          ],
          [
           276.7,
           2.3
          ],
          [
           165.6,
           10
          ],
          [
           156.6,
           2.6
          ],
          [
           218.5,
           5.4
          ],
          [
           56.2,
           5.7
          ],
          [
           287.6,
           43
          ],
          [
           253.8,
           21.3
          ],
          [
           205,
           45.1
          ],
          [
           139.5,
           2.1
          ],
          [
           191.1,
           28.7
          ],
          [
           286,
           13.9
          ],
          [
           18.7,
           12.1
          ],
          [
           39.5,
           41.1
          ],
          [
           75.5,
           10.8
          ],
          [
           17.2,
           4.1
          ],
          [
           166.8,
           42
          ],
          [
           149.7,
           35.6
          ],
          [
           38.2,
           3.7
          ],
          [
           94.2,
           4.9
          ],
          [
           177,
           9.3
          ],
          [
           283.6,
           42
          ],
          [
           232.1,
           8.6
          ]
         ],
         "hovertemplate": "newspaper=%{x}<br>sales=%{y}<br>tv=%{customdata[0]}<br>radio=%{customdata[1]}<extra></extra>",
         "legendgroup": "",
         "marker": {
          "color": "#636efa",
          "symbol": "circle"
         },
         "mode": "markers",
         "name": "",
         "orientation": "v",
         "showlegend": false,
         "type": "scatter",
         "x": [
          69.2,
          45.1,
          69.3,
          58.5,
          58.4,
          75,
          23.5,
          11.6,
          1,
          21.2,
          24.2,
          4,
          65.9,
          7.2,
          46,
          52.9,
          114,
          55.8,
          18.3,
          19.1,
          53.4,
          23.5,
          49.6,
          26.2,
          18.3,
          19.5,
          12.6,
          22.9,
          22.9,
          40.8,
          43.2,
          38.6,
          30,
          0.3,
          7.4,
          8.5,
          5,
          45.7,
          35.1,
          32,
          31.6,
          38.7,
          1.8,
          26.4,
          43.3,
          31.5,
          35.7,
          18.5,
          49.9,
          36.8,
          34.6,
          3.6,
          39.6,
          58.7,
          15.9,
          60,
          41.4,
          16.6,
          37.7,
          9.3,
          21.4,
          54.7,
          27.3,
          8.4,
          28.9,
          0.9,
          2.2,
          10.2,
          11,
          27.2,
          38.7,
          31.7,
          19.3,
          31.3,
          13.1,
          89.4,
          20.7,
          14.2,
          9.4,
          23.1,
          22.3,
          36.9,
          32.5,
          35.6,
          33.8,
          65.7,
          16,
          63.2,
          73.4,
          51.4,
          9.3,
          33,
          59,
          72.3,
          10.9,
          52.9,
          5.9,
          22,
          51.2,
          45.9,
          49.8,
          100.9,
          21.4,
          17.9,
          5.3,
          59,
          29.7,
          23.2,
          25.6,
          5.5,
          56.5,
          23.2,
          2.4,
          10.7,
          34.5,
          52.7,
          25.6,
          14.8,
          79.2,
          22.3,
          46.2,
          50.4,
          15.6,
          12.4,
          74.2,
          25.9,
          50.6,
          9.2,
          3.2,
          43.1,
          8.7,
          43,
          2.1,
          45.1,
          65.6,
          8.5,
          9.3,
          59.7,
          20.5,
          1.7,
          12.9,
          75.6,
          37.9,
          34.4,
          38.9,
          9,
          8.7,
          44.3,
          11.9,
          20.6,
          37,
          48.7,
          14.2,
          37.7,
          9.5,
          5.7,
          50.5,
          24.3,
          45.2,
          34.6,
          30.7,
          49.3,
          25.6,
          7.4,
          5.4,
          84.8,
          21.6,
          19.4,
          57.6,
          6.4,
          18.4,
          47.4,
          17,
          12.8,
          13.1,
          41.8,
          20.3,
          35.2,
          23.7,
          17.6,
          8.3,
          27.4,
          29.7,
          71.8,
          30,
          19.6,
          26.6,
          18.2,
          3.7,
          23.4,
          5.8,
          6,
          31.6,
          3.6,
          6,
          13.8,
          8.1,
          6.4,
          66.2,
          8.7
         ],
         "xaxis": "x",
         "y": [
          22.1,
          10.4,
          9.3,
          18.5,
          12.9,
          7.2,
          11.8,
          13.2,
          4.8,
          10.6,
          8.6,
          17.4,
          9.2,
          9.7,
          19,
          22.4,
          12.5,
          24.4,
          11.3,
          14.6,
          18,
          12.5,
          5.6,
          15.5,
          9.7,
          12,
          15,
          15.9,
          18.9,
          10.5,
          21.4,
          11.9,
          9.6,
          17.4,
          9.5,
          12.8,
          25.4,
          14.7,
          10.1,
          21.5,
          16.6,
          17.1,
          20.7,
          12.9,
          8.5,
          14.9,
          10.6,
          23.2,
          14.8,
          9.7,
          11.4,
          10.7,
          22.6,
          21.2,
          20.2,
          23.7,
          5.5,
          13.2,
          23.8,
          18.4,
          8.1,
          24.2,
          15.7,
          14,
          18,
          9.3,
          9.5,
          13.4,
          18.9,
          22.3,
          18.3,
          12.4,
          8.8,
          11,
          17,
          8.7,
          6.9,
          14.2,
          5.3,
          11,
          11.8,
          12.3,
          11.3,
          13.6,
          21.7,
          15.2,
          12,
          16,
          12.9,
          16.7,
          11.2,
          7.3,
          19.4,
          22.2,
          11.5,
          16.9,
          11.7,
          15.5,
          25.4,
          17.2,
          11.7,
          23.8,
          14.8,
          14.7,
          20.7,
          19.2,
          7.2,
          8.7,
          5.3,
          19.8,
          13.4,
          21.8,
          14.1,
          15.9,
          14.6,
          12.6,
          12.2,
          9.4,
          15.9,
          6.6,
          15.5,
          7,
          11.6,
          15.2,
          19.7,
          10.6,
          6.6,
          8.8,
          24.7,
          9.7,
          1.6,
          12.7,
          5.7,
          19.6,
          10.8,
          11.6,
          9.5,
          20.8,
          9.6,
          20.7,
          10.9,
          19.2,
          20.1,
          10.4,
          11.4,
          10.3,
          13.2,
          25.4,
          10.9,
          10.1,
          16.1,
          11.6,
          16.6,
          19,
          15.6,
          3.2,
          15.3,
          10.1,
          7.3,
          12.9,
          14.4,
          13.3,
          14.9,
          18,
          11.9,
          11.9,
          8,
          12.2,
          17.1,
          15,
          8.4,
          14.5,
          7.6,
          11.7,
          11.5,
          27,
          20.2,
          11.7,
          11.8,
          12.6,
          10.5,
          12.2,
          8.7,
          26.2,
          17.6,
          22.6,
          10.3,
          17.3,
          15.9,
          6.7,
          10.8,
          9.9,
          5.9,
          19.6,
          17.3,
          7.6,
          9.7,
          12.8,
          25.5,
          13.4
         ],
         "yaxis": "y"
        }
       ],
       "layout": {
        "autosize": true,
        "legend": {
         "tracegroupgap": 0
        },
        "template": {
         "data": {
          "bar": [
           {
            "error_x": {
             "color": "#2a3f5f"
            },
            "error_y": {
             "color": "#2a3f5f"
            },
            "marker": {
             "line": {
              "color": "#E5ECF6",
              "width": 0.5
             },
             "pattern": {
              "fillmode": "overlay",
              "size": 10,
              "solidity": 0.2
             }
            },
            "type": "bar"
           }
          ],
          "barpolar": [
           {
            "marker": {
             "line": {
              "color": "#E5ECF6",
              "width": 0.5
             },
             "pattern": {
              "fillmode": "overlay",
              "size": 10,
              "solidity": 0.2
             }
            },
            "type": "barpolar"
           }
          ],
          "carpet": [
           {
            "aaxis": {
             "endlinecolor": "#2a3f5f",
             "gridcolor": "white",
             "linecolor": "white",
             "minorgridcolor": "white",
             "startlinecolor": "#2a3f5f"
            },
            "baxis": {
             "endlinecolor": "#2a3f5f",
             "gridcolor": "white",
             "linecolor": "white",
             "minorgridcolor": "white",
             "startlinecolor": "#2a3f5f"
            },
            "type": "carpet"
           }
          ],
          "choropleth": [
           {
            "colorbar": {
             "outlinewidth": 0,
             "ticks": ""
            },
            "type": "choropleth"
           }
          ],
          "contour": [
           {
            "colorbar": {
             "outlinewidth": 0,
             "ticks": ""
            },
            "colorscale": [
             [
              0,
              "#0d0887"
             ],
             [
              0.1111111111111111,
              "#46039f"
             ],
             [
              0.2222222222222222,
              "#7201a8"
             ],
             [
              0.3333333333333333,
              "#9c179e"
             ],
             [
              0.4444444444444444,
              "#bd3786"
             ],
             [
              0.5555555555555556,
              "#d8576b"
             ],
             [
              0.6666666666666666,
              "#ed7953"
             ],
             [
              0.7777777777777778,
              "#fb9f3a"
             ],
             [
              0.8888888888888888,
              "#fdca26"
             ],
             [
              1,
              "#f0f921"
             ]
            ],
            "type": "contour"
           }
          ],
          "contourcarpet": [
           {
            "colorbar": {
             "outlinewidth": 0,
             "ticks": ""
            },
            "type": "contourcarpet"
           }
          ],
          "heatmap": [
           {
            "colorbar": {
             "outlinewidth": 0,
             "ticks": ""
            },
            "colorscale": [
             [
              0,
              "#0d0887"
             ],
             [
              0.1111111111111111,
              "#46039f"
             ],
             [
              0.2222222222222222,
              "#7201a8"
             ],
             [
              0.3333333333333333,
              "#9c179e"
             ],
             [
              0.4444444444444444,
              "#bd3786"
             ],
             [
              0.5555555555555556,
              "#d8576b"
             ],
             [
              0.6666666666666666,
              "#ed7953"
             ],
             [
              0.7777777777777778,
              "#fb9f3a"
             ],
             [
              0.8888888888888888,
              "#fdca26"
             ],
             [
              1,
              "#f0f921"
             ]
            ],
            "type": "heatmap"
           }
          ],
          "heatmapgl": [
           {
            "colorbar": {
             "outlinewidth": 0,
             "ticks": ""
            },
            "colorscale": [
             [
              0,
              "#0d0887"
             ],
             [
              0.1111111111111111,
              "#46039f"
             ],
             [
              0.2222222222222222,
              "#7201a8"
             ],
             [
              0.3333333333333333,
              "#9c179e"
             ],
             [
              0.4444444444444444,
              "#bd3786"
             ],
             [
              0.5555555555555556,
              "#d8576b"
             ],
             [
              0.6666666666666666,
              "#ed7953"
             ],
             [
              0.7777777777777778,
              "#fb9f3a"
             ],
             [
              0.8888888888888888,
              "#fdca26"
             ],
             [
              1,
              "#f0f921"
             ]
            ],
            "type": "heatmapgl"
           }
          ],
          "histogram": [
           {
            "marker": {
             "pattern": {
              "fillmode": "overlay",
              "size": 10,
              "solidity": 0.2
             }
            },
            "type": "histogram"
           }
          ],
          "histogram2d": [
           {
            "colorbar": {
             "outlinewidth": 0,
             "ticks": ""
            },
            "colorscale": [
             [
              0,
              "#0d0887"
             ],
             [
              0.1111111111111111,
              "#46039f"
             ],
             [
              0.2222222222222222,
              "#7201a8"
             ],
             [
              0.3333333333333333,
              "#9c179e"
             ],
             [
              0.4444444444444444,
              "#bd3786"
             ],
             [
              0.5555555555555556,
              "#d8576b"
             ],
             [
              0.6666666666666666,
              "#ed7953"
             ],
             [
              0.7777777777777778,
              "#fb9f3a"
             ],
             [
              0.8888888888888888,
              "#fdca26"
             ],
             [
              1,
              "#f0f921"
             ]
            ],
            "type": "histogram2d"
           }
          ],
          "histogram2dcontour": [
           {
            "colorbar": {
             "outlinewidth": 0,
             "ticks": ""
            },
            "colorscale": [
             [
              0,
              "#0d0887"
             ],
             [
              0.1111111111111111,
              "#46039f"
             ],
             [
              0.2222222222222222,
              "#7201a8"
             ],
             [
              0.3333333333333333,
              "#9c179e"
             ],
             [
              0.4444444444444444,
              "#bd3786"
             ],
             [
              0.5555555555555556,
              "#d8576b"
             ],
             [
              0.6666666666666666,
              "#ed7953"
             ],
             [
              0.7777777777777778,
              "#fb9f3a"
             ],
             [
              0.8888888888888888,
              "#fdca26"
             ],
             [
              1,
              "#f0f921"
             ]
            ],
            "type": "histogram2dcontour"
           }
          ],
          "mesh3d": [
           {
            "colorbar": {
             "outlinewidth": 0,
             "ticks": ""
            },
            "type": "mesh3d"
           }
          ],
          "parcoords": [
           {
            "line": {
             "colorbar": {
              "outlinewidth": 0,
              "ticks": ""
             }
            },
            "type": "parcoords"
           }
          ],
          "pie": [
           {
            "automargin": true,
            "type": "pie"
           }
          ],
          "scatter": [
           {
            "fillpattern": {
             "fillmode": "overlay",
             "size": 10,
             "solidity": 0.2
            },
            "type": "scatter"
           }
          ],
          "scatter3d": [
           {
            "line": {
             "colorbar": {
              "outlinewidth": 0,
              "ticks": ""
             }
            },
            "marker": {
             "colorbar": {
              "outlinewidth": 0,
              "ticks": ""
             }
            },
            "type": "scatter3d"
           }
          ],
          "scattercarpet": [
           {
            "marker": {
             "colorbar": {
              "outlinewidth": 0,
              "ticks": ""
             }
            },
            "type": "scattercarpet"
           }
          ],
          "scattergeo": [
           {
            "marker": {
             "colorbar": {
              "outlinewidth": 0,
              "ticks": ""
             }
            },
            "type": "scattergeo"
           }
          ],
          "scattergl": [
           {
            "marker": {
             "colorbar": {
              "outlinewidth": 0,
              "ticks": ""
             }
            },
            "type": "scattergl"
           }
          ],
          "scattermapbox": [
           {
            "marker": {
             "colorbar": {
              "outlinewidth": 0,
              "ticks": ""
             }
            },
            "type": "scattermapbox"
           }
          ],
          "scatterpolar": [
           {
            "marker": {
             "colorbar": {
              "outlinewidth": 0,
              "ticks": ""
             }
            },
            "type": "scatterpolar"
           }
          ],
          "scatterpolargl": [
           {
            "marker": {
             "colorbar": {
              "outlinewidth": 0,
              "ticks": ""
             }
            },
            "type": "scatterpolargl"
           }
          ],
          "scatterternary": [
           {
            "marker": {
             "colorbar": {
              "outlinewidth": 0,
              "ticks": ""
             }
            },
            "type": "scatterternary"
           }
          ],
          "surface": [
           {
            "colorbar": {
             "outlinewidth": 0,
             "ticks": ""
            },
            "colorscale": [
             [
              0,
              "#0d0887"
             ],
             [
              0.1111111111111111,
              "#46039f"
             ],
             [
              0.2222222222222222,
              "#7201a8"
             ],
             [
              0.3333333333333333,
              "#9c179e"
             ],
             [
              0.4444444444444444,
              "#bd3786"
             ],
             [
              0.5555555555555556,
              "#d8576b"
             ],
             [
              0.6666666666666666,
              "#ed7953"
             ],
             [
              0.7777777777777778,
              "#fb9f3a"
             ],
             [
              0.8888888888888888,
              "#fdca26"
             ],
             [
              1,
              "#f0f921"
             ]
            ],
            "type": "surface"
           }
          ],
          "table": [
           {
            "cells": {
             "fill": {
              "color": "#EBF0F8"
             },
             "line": {
              "color": "white"
             }
            },
            "header": {
             "fill": {
              "color": "#C8D4E3"
             },
             "line": {
              "color": "white"
             }
            },
            "type": "table"
           }
          ]
         },
         "layout": {
          "annotationdefaults": {
           "arrowcolor": "#2a3f5f",
           "arrowhead": 0,
           "arrowwidth": 1
          },
          "autotypenumbers": "strict",
          "coloraxis": {
           "colorbar": {
            "outlinewidth": 0,
            "ticks": ""
           }
          },
          "colorscale": {
           "diverging": [
            [
             0,
             "#8e0152"
            ],
            [
             0.1,
             "#c51b7d"
            ],
            [
             0.2,
             "#de77ae"
            ],
            [
             0.3,
             "#f1b6da"
            ],
            [
             0.4,
             "#fde0ef"
            ],
            [
             0.5,
             "#f7f7f7"
            ],
            [
             0.6,
             "#e6f5d0"
            ],
            [
             0.7,
             "#b8e186"
            ],
            [
             0.8,
             "#7fbc41"
            ],
            [
             0.9,
             "#4d9221"
            ],
            [
             1,
             "#276419"
            ]
           ],
           "sequential": [
            [
             0,
             "#0d0887"
            ],
            [
             0.1111111111111111,
             "#46039f"
            ],
            [
             0.2222222222222222,
             "#7201a8"
            ],
            [
             0.3333333333333333,
             "#9c179e"
            ],
            [
             0.4444444444444444,
             "#bd3786"
            ],
            [
             0.5555555555555556,
             "#d8576b"
            ],
            [
             0.6666666666666666,
             "#ed7953"
            ],
            [
             0.7777777777777778,
             "#fb9f3a"
            ],
            [
             0.8888888888888888,
             "#fdca26"
            ],
            [
             1,
             "#f0f921"
            ]
           ],
           "sequentialminus": [
            [
             0,
             "#0d0887"
            ],
            [
             0.1111111111111111,
             "#46039f"
            ],
            [
             0.2222222222222222,
             "#7201a8"
            ],
            [
             0.3333333333333333,
             "#9c179e"
            ],
            [
             0.4444444444444444,
             "#bd3786"
            ],
            [
             0.5555555555555556,
             "#d8576b"
            ],
            [
             0.6666666666666666,
             "#ed7953"
            ],
            [
             0.7777777777777778,
             "#fb9f3a"
            ],
            [
             0.8888888888888888,
             "#fdca26"
            ],
            [
             1,
             "#f0f921"
            ]
           ]
          },
          "colorway": [
           "#636efa",
           "#EF553B",
           "#00cc96",
           "#ab63fa",
           "#FFA15A",
           "#19d3f3",
           "#FF6692",
           "#B6E880",
           "#FF97FF",
           "#FECB52"
          ],
          "font": {
           "color": "#2a3f5f"
          },
          "geo": {
           "bgcolor": "white",
           "lakecolor": "white",
           "landcolor": "#E5ECF6",
           "showlakes": true,
           "showland": true,
           "subunitcolor": "white"
          },
          "hoverlabel": {
           "align": "left"
          },
          "hovermode": "closest",
          "mapbox": {
           "style": "light"
          },
          "paper_bgcolor": "white",
          "plot_bgcolor": "#E5ECF6",
          "polar": {
           "angularaxis": {
            "gridcolor": "white",
            "linecolor": "white",
            "ticks": ""
           },
           "bgcolor": "#E5ECF6",
           "radialaxis": {
            "gridcolor": "white",
            "linecolor": "white",
            "ticks": ""
           }
          },
          "scene": {
           "xaxis": {
            "backgroundcolor": "#E5ECF6",
            "gridcolor": "white",
            "gridwidth": 2,
            "linecolor": "white",
            "showbackground": true,
            "ticks": "",
            "zerolinecolor": "white"
           },
           "yaxis": {
            "backgroundcolor": "#E5ECF6",
            "gridcolor": "white",
            "gridwidth": 2,
            "linecolor": "white",
            "showbackground": true,
            "ticks": "",
            "zerolinecolor": "white"
           },
           "zaxis": {
            "backgroundcolor": "#E5ECF6",
            "gridcolor": "white",
            "gridwidth": 2,
            "linecolor": "white",
            "showbackground": true,
            "ticks": "",
            "zerolinecolor": "white"
           }
          },
          "shapedefaults": {
           "line": {
            "color": "#2a3f5f"
           }
          },
          "ternary": {
           "aaxis": {
            "gridcolor": "white",
            "linecolor": "white",
            "ticks": ""
           },
           "baxis": {
            "gridcolor": "white",
            "linecolor": "white",
            "ticks": ""
           },
           "bgcolor": "#E5ECF6",
           "caxis": {
            "gridcolor": "white",
            "linecolor": "white",
            "ticks": ""
           }
          },
          "title": {
           "x": 0.05
          },
          "xaxis": {
           "automargin": true,
           "gridcolor": "white",
           "linecolor": "white",
           "ticks": "",
           "title": {
            "standoff": 15
           },
           "zerolinecolor": "white",
           "zerolinewidth": 2
          },
          "yaxis": {
           "automargin": true,
           "gridcolor": "white",
           "linecolor": "white",
           "ticks": "",
           "title": {
            "standoff": 15
           },
           "zerolinecolor": "white",
           "zerolinewidth": 2
          }
         }
        },
        "title": {
         "text": "Sales vs. Newspaper(Interactive)"
        },
        "xaxis": {
         "anchor": "y",
         "autorange": true,
         "domain": [
          0,
          1
         ],
         "range": [
          -7.006739811912226,
          121.30673981191222
         ],
         "title": {
          "text": "newspaper"
         },
         "type": "linear"
        },
        "yaxis": {
         "anchor": "x",
         "autorange": true,
         "domain": [
          0,
          1
         ],
         "range": [
          -0.49611650485436876,
          29.09611650485437
         ],
         "title": {
          "text": "sales"
         },
         "type": "linear"
        }
       }
      },
      "text/html": [
       "<div>                            <div id=\"5c7e3246-bc9f-49bb-8edf-6e329d1aab1b\" class=\"plotly-graph-div\" style=\"height:525px; width:100%;\"></div>            <script type=\"text/javascript\">                require([\"plotly\"], function(Plotly) {                    window.PLOTLYENV=window.PLOTLYENV || {};                                    if (document.getElementById(\"5c7e3246-bc9f-49bb-8edf-6e329d1aab1b\")) {                    Plotly.newPlot(                        \"5c7e3246-bc9f-49bb-8edf-6e329d1aab1b\",                        [{\"customdata\":[[230.1,37.8],[44.5,39.3],[17.2,45.9],[151.5,41.3],[180.8,10.8],[8.7,48.9],[57.5,32.8],[120.2,19.6],[8.6,2.1],[199.8,2.6],[66.1,5.8],[214.7,24.0],[23.8,35.1],[97.5,7.6],[204.1,32.9],[195.4,47.7],[67.8,36.6],[281.4,39.6],[69.2,20.5],[147.3,23.9],[218.4,27.7],[237.4,5.1],[13.2,15.9],[228.3,16.9],[62.3,12.6],[262.9,3.5],[142.9,29.3],[240.1,16.7],[248.8,27.1],[70.6,16.0],[292.9,28.3],[112.9,17.4],[97.2,1.5],[265.6,20.0],[95.7,1.4],[290.7,4.1],[266.9,43.8],[74.7,49.4],[43.1,26.7],[228.0,37.7],[202.5,22.3],[177.0,33.4],[293.6,27.7],[206.9,8.4],[25.1,25.7],[175.1,22.5],[89.7,9.9],[239.9,41.5],[227.2,15.8],[66.9,11.7],[199.8,3.1],[100.4,9.6],[216.4,41.7],[182.6,46.2],[262.7,28.8],[198.9,49.4],[7.3,28.1],[136.2,19.2],[210.8,49.6],[210.7,29.5],[53.5,2.0],[261.3,42.7],[239.3,15.5],[102.7,29.6],[131.1,42.8],[69.0,9.3],[31.5,24.6],[139.3,14.5],[237.4,27.5],[216.8,43.9],[199.1,30.6],[109.8,14.3],[26.8,33.0],[129.4,5.7],[213.4,24.6],[16.9,43.7],[27.5,1.6],[120.5,28.5],[5.4,29.9],[116.0,7.7],[76.4,26.7],[239.8,4.1],[75.3,20.3],[68.4,44.5],[213.5,43.0],[193.2,18.4],[76.3,27.5],[110.7,40.6],[88.3,25.5],[109.8,47.8],[134.3,4.9],[28.6,1.5],[217.7,33.5],[250.9,36.5],[107.4,14.0],[163.3,31.6],[197.6,3.5],[184.9,21.0],[289.7,42.3],[135.2,41.7],[222.4,4.3],[296.4,36.3],[280.2,10.1],[187.9,17.2],[238.2,34.3],[137.9,46.4],[25.0,11.0],[90.4,0.3],[13.1,0.4],[255.4,26.9],[225.8,8.2],[241.7,38.0],[175.7,15.4],[209.6,20.6],[78.2,46.8],[75.1,35.0],[139.2,14.3],[76.4,0.8],[125.7,36.9],[19.4,16.0],[141.3,26.8],[18.8,21.7],[224.0,2.4],[123.1,34.6],[229.5,32.3],[87.2,11.8],[7.8,38.9],[80.2,0.0],[220.3,49.0],[59.6,12.0],[0.7,39.6],[265.2,2.9],[8.4,27.2],[219.8,33.5],[36.9,38.6],[48.3,47.0],[25.6,39.0],[273.7,28.9],[43.0,25.9],[184.9,43.9],[73.4,17.0],[193.7,35.4],[220.5,33.2],[104.6,5.7],[96.2,14.8],[140.3,1.9],[240.1,7.3],[243.2,49.0],[38.0,40.3],[44.7,25.8],[280.7,13.9],[121.0,8.4],[197.6,23.3],[171.3,39.7],[187.8,21.1],[4.1,11.6],[93.9,43.5],[149.8,1.3],[11.7,36.9],[131.7,18.4],[172.5,18.1],[85.7,35.8],[188.4,18.1],[163.5,36.8],[117.2,14.7],[234.5,3.4],[17.9,37.6],[206.8,5.2],[215.4,23.6],[284.3,10.6],[50.0,11.6],[164.5,20.9],[19.6,20.1],[168.4,7.1],[222.4,3.4],[276.9,48.9],[248.4,30.2],[170.2,7.8],[276.7,2.3],[165.6,10.0],[156.6,2.6],[218.5,5.4],[56.2,5.7],[287.6,43.0],[253.8,21.3],[205.0,45.1],[139.5,2.1],[191.1,28.7],[286.0,13.9],[18.7,12.1],[39.5,41.1],[75.5,10.8],[17.2,4.1],[166.8,42.0],[149.7,35.6],[38.2,3.7],[94.2,4.9],[177.0,9.3],[283.6,42.0],[232.1,8.6]],\"hovertemplate\":\"newspaper=%{x}\\u003cbr\\u003esales=%{y}\\u003cbr\\u003etv=%{customdata[0]}\\u003cbr\\u003eradio=%{customdata[1]}\\u003cextra\\u003e\\u003c\\u002fextra\\u003e\",\"legendgroup\":\"\",\"marker\":{\"color\":\"#636efa\",\"symbol\":\"circle\"},\"mode\":\"markers\",\"name\":\"\",\"orientation\":\"v\",\"showlegend\":false,\"x\":[69.2,45.1,69.3,58.5,58.4,75.0,23.5,11.6,1.0,21.2,24.2,4.0,65.9,7.2,46.0,52.9,114.0,55.8,18.3,19.1,53.4,23.5,49.6,26.2,18.3,19.5,12.6,22.9,22.9,40.8,43.2,38.6,30.0,0.3,7.4,8.5,5.0,45.7,35.1,32.0,31.6,38.7,1.8,26.4,43.3,31.5,35.7,18.5,49.9,36.8,34.6,3.6,39.6,58.7,15.9,60.0,41.4,16.6,37.7,9.3,21.4,54.7,27.3,8.4,28.9,0.9,2.2,10.2,11.0,27.2,38.7,31.7,19.3,31.3,13.1,89.4,20.7,14.2,9.4,23.1,22.3,36.9,32.5,35.6,33.8,65.7,16.0,63.2,73.4,51.4,9.3,33.0,59.0,72.3,10.9,52.9,5.9,22.0,51.2,45.9,49.8,100.9,21.4,17.9,5.3,59.0,29.7,23.2,25.6,5.5,56.5,23.2,2.4,10.7,34.5,52.7,25.6,14.8,79.2,22.3,46.2,50.4,15.6,12.4,74.2,25.9,50.6,9.2,3.2,43.1,8.7,43.0,2.1,45.1,65.6,8.5,9.3,59.7,20.5,1.7,12.9,75.6,37.9,34.4,38.9,9.0,8.7,44.3,11.9,20.6,37.0,48.7,14.2,37.7,9.5,5.7,50.5,24.3,45.2,34.6,30.7,49.3,25.6,7.4,5.4,84.8,21.6,19.4,57.6,6.4,18.4,47.4,17.0,12.8,13.1,41.8,20.3,35.2,23.7,17.6,8.3,27.4,29.7,71.8,30.0,19.6,26.6,18.2,3.7,23.4,5.8,6.0,31.6,3.6,6.0,13.8,8.1,6.4,66.2,8.7],\"xaxis\":\"x\",\"y\":[22.1,10.4,9.3,18.5,12.9,7.2,11.8,13.2,4.8,10.6,8.6,17.4,9.2,9.7,19.0,22.4,12.5,24.4,11.3,14.6,18.0,12.5,5.6,15.5,9.7,12.0,15.0,15.9,18.9,10.5,21.4,11.9,9.6,17.4,9.5,12.8,25.4,14.7,10.1,21.5,16.6,17.1,20.7,12.9,8.5,14.9,10.6,23.2,14.8,9.7,11.4,10.7,22.6,21.2,20.2,23.7,5.5,13.2,23.8,18.4,8.1,24.2,15.7,14.0,18.0,9.3,9.5,13.4,18.9,22.3,18.3,12.4,8.8,11.0,17.0,8.7,6.9,14.2,5.3,11.0,11.8,12.3,11.3,13.6,21.7,15.2,12.0,16.0,12.9,16.7,11.2,7.3,19.4,22.2,11.5,16.9,11.7,15.5,25.4,17.2,11.7,23.8,14.8,14.7,20.7,19.2,7.2,8.7,5.3,19.8,13.4,21.8,14.1,15.9,14.6,12.6,12.2,9.4,15.9,6.6,15.5,7.0,11.6,15.2,19.7,10.6,6.6,8.8,24.7,9.7,1.6,12.7,5.7,19.6,10.8,11.6,9.5,20.8,9.6,20.7,10.9,19.2,20.1,10.4,11.4,10.3,13.2,25.4,10.9,10.1,16.1,11.6,16.6,19.0,15.6,3.2,15.3,10.1,7.3,12.9,14.4,13.3,14.9,18.0,11.9,11.9,8.0,12.2,17.1,15.0,8.4,14.5,7.6,11.7,11.5,27.0,20.2,11.7,11.8,12.6,10.5,12.2,8.7,26.2,17.6,22.6,10.3,17.3,15.9,6.7,10.8,9.9,5.9,19.6,17.3,7.6,9.7,12.8,25.5,13.4],\"yaxis\":\"y\",\"type\":\"scatter\"}],                        {\"template\":{\"data\":{\"histogram2dcontour\":[{\"type\":\"histogram2dcontour\",\"colorbar\":{\"outlinewidth\":0,\"ticks\":\"\"},\"colorscale\":[[0.0,\"#0d0887\"],[0.1111111111111111,\"#46039f\"],[0.2222222222222222,\"#7201a8\"],[0.3333333333333333,\"#9c179e\"],[0.4444444444444444,\"#bd3786\"],[0.5555555555555556,\"#d8576b\"],[0.6666666666666666,\"#ed7953\"],[0.7777777777777778,\"#fb9f3a\"],[0.8888888888888888,\"#fdca26\"],[1.0,\"#f0f921\"]]}],\"choropleth\":[{\"type\":\"choropleth\",\"colorbar\":{\"outlinewidth\":0,\"ticks\":\"\"}}],\"histogram2d\":[{\"type\":\"histogram2d\",\"colorbar\":{\"outlinewidth\":0,\"ticks\":\"\"},\"colorscale\":[[0.0,\"#0d0887\"],[0.1111111111111111,\"#46039f\"],[0.2222222222222222,\"#7201a8\"],[0.3333333333333333,\"#9c179e\"],[0.4444444444444444,\"#bd3786\"],[0.5555555555555556,\"#d8576b\"],[0.6666666666666666,\"#ed7953\"],[0.7777777777777778,\"#fb9f3a\"],[0.8888888888888888,\"#fdca26\"],[1.0,\"#f0f921\"]]}],\"heatmap\":[{\"type\":\"heatmap\",\"colorbar\":{\"outlinewidth\":0,\"ticks\":\"\"},\"colorscale\":[[0.0,\"#0d0887\"],[0.1111111111111111,\"#46039f\"],[0.2222222222222222,\"#7201a8\"],[0.3333333333333333,\"#9c179e\"],[0.4444444444444444,\"#bd3786\"],[0.5555555555555556,\"#d8576b\"],[0.6666666666666666,\"#ed7953\"],[0.7777777777777778,\"#fb9f3a\"],[0.8888888888888888,\"#fdca26\"],[1.0,\"#f0f921\"]]}],\"heatmapgl\":[{\"type\":\"heatmapgl\",\"colorbar\":{\"outlinewidth\":0,\"ticks\":\"\"},\"colorscale\":[[0.0,\"#0d0887\"],[0.1111111111111111,\"#46039f\"],[0.2222222222222222,\"#7201a8\"],[0.3333333333333333,\"#9c179e\"],[0.4444444444444444,\"#bd3786\"],[0.5555555555555556,\"#d8576b\"],[0.6666666666666666,\"#ed7953\"],[0.7777777777777778,\"#fb9f3a\"],[0.8888888888888888,\"#fdca26\"],[1.0,\"#f0f921\"]]}],\"contourcarpet\":[{\"type\":\"contourcarpet\",\"colorbar\":{\"outlinewidth\":0,\"ticks\":\"\"}}],\"contour\":[{\"type\":\"contour\",\"colorbar\":{\"outlinewidth\":0,\"ticks\":\"\"},\"colorscale\":[[0.0,\"#0d0887\"],[0.1111111111111111,\"#46039f\"],[0.2222222222222222,\"#7201a8\"],[0.3333333333333333,\"#9c179e\"],[0.4444444444444444,\"#bd3786\"],[0.5555555555555556,\"#d8576b\"],[0.6666666666666666,\"#ed7953\"],[0.7777777777777778,\"#fb9f3a\"],[0.8888888888888888,\"#fdca26\"],[1.0,\"#f0f921\"]]}],\"surface\":[{\"type\":\"surface\",\"colorbar\":{\"outlinewidth\":0,\"ticks\":\"\"},\"colorscale\":[[0.0,\"#0d0887\"],[0.1111111111111111,\"#46039f\"],[0.2222222222222222,\"#7201a8\"],[0.3333333333333333,\"#9c179e\"],[0.4444444444444444,\"#bd3786\"],[0.5555555555555556,\"#d8576b\"],[0.6666666666666666,\"#ed7953\"],[0.7777777777777778,\"#fb9f3a\"],[0.8888888888888888,\"#fdca26\"],[1.0,\"#f0f921\"]]}],\"mesh3d\":[{\"type\":\"mesh3d\",\"colorbar\":{\"outlinewidth\":0,\"ticks\":\"\"}}],\"scatter\":[{\"fillpattern\":{\"fillmode\":\"overlay\",\"size\":10,\"solidity\":0.2},\"type\":\"scatter\"}],\"parcoords\":[{\"type\":\"parcoords\",\"line\":{\"colorbar\":{\"outlinewidth\":0,\"ticks\":\"\"}}}],\"scatterpolargl\":[{\"type\":\"scatterpolargl\",\"marker\":{\"colorbar\":{\"outlinewidth\":0,\"ticks\":\"\"}}}],\"bar\":[{\"error_x\":{\"color\":\"#2a3f5f\"},\"error_y\":{\"color\":\"#2a3f5f\"},\"marker\":{\"line\":{\"color\":\"#E5ECF6\",\"width\":0.5},\"pattern\":{\"fillmode\":\"overlay\",\"size\":10,\"solidity\":0.2}},\"type\":\"bar\"}],\"scattergeo\":[{\"type\":\"scattergeo\",\"marker\":{\"colorbar\":{\"outlinewidth\":0,\"ticks\":\"\"}}}],\"scatterpolar\":[{\"type\":\"scatterpolar\",\"marker\":{\"colorbar\":{\"outlinewidth\":0,\"ticks\":\"\"}}}],\"histogram\":[{\"marker\":{\"pattern\":{\"fillmode\":\"overlay\",\"size\":10,\"solidity\":0.2}},\"type\":\"histogram\"}],\"scattergl\":[{\"type\":\"scattergl\",\"marker\":{\"colorbar\":{\"outlinewidth\":0,\"ticks\":\"\"}}}],\"scatter3d\":[{\"type\":\"scatter3d\",\"line\":{\"colorbar\":{\"outlinewidth\":0,\"ticks\":\"\"}},\"marker\":{\"colorbar\":{\"outlinewidth\":0,\"ticks\":\"\"}}}],\"scattermapbox\":[{\"type\":\"scattermapbox\",\"marker\":{\"colorbar\":{\"outlinewidth\":0,\"ticks\":\"\"}}}],\"scatterternary\":[{\"type\":\"scatterternary\",\"marker\":{\"colorbar\":{\"outlinewidth\":0,\"ticks\":\"\"}}}],\"scattercarpet\":[{\"type\":\"scattercarpet\",\"marker\":{\"colorbar\":{\"outlinewidth\":0,\"ticks\":\"\"}}}],\"carpet\":[{\"aaxis\":{\"endlinecolor\":\"#2a3f5f\",\"gridcolor\":\"white\",\"linecolor\":\"white\",\"minorgridcolor\":\"white\",\"startlinecolor\":\"#2a3f5f\"},\"baxis\":{\"endlinecolor\":\"#2a3f5f\",\"gridcolor\":\"white\",\"linecolor\":\"white\",\"minorgridcolor\":\"white\",\"startlinecolor\":\"#2a3f5f\"},\"type\":\"carpet\"}],\"table\":[{\"cells\":{\"fill\":{\"color\":\"#EBF0F8\"},\"line\":{\"color\":\"white\"}},\"header\":{\"fill\":{\"color\":\"#C8D4E3\"},\"line\":{\"color\":\"white\"}},\"type\":\"table\"}],\"barpolar\":[{\"marker\":{\"line\":{\"color\":\"#E5ECF6\",\"width\":0.5},\"pattern\":{\"fillmode\":\"overlay\",\"size\":10,\"solidity\":0.2}},\"type\":\"barpolar\"}],\"pie\":[{\"automargin\":true,\"type\":\"pie\"}]},\"layout\":{\"autotypenumbers\":\"strict\",\"colorway\":[\"#636efa\",\"#EF553B\",\"#00cc96\",\"#ab63fa\",\"#FFA15A\",\"#19d3f3\",\"#FF6692\",\"#B6E880\",\"#FF97FF\",\"#FECB52\"],\"font\":{\"color\":\"#2a3f5f\"},\"hovermode\":\"closest\",\"hoverlabel\":{\"align\":\"left\"},\"paper_bgcolor\":\"white\",\"plot_bgcolor\":\"#E5ECF6\",\"polar\":{\"bgcolor\":\"#E5ECF6\",\"angularaxis\":{\"gridcolor\":\"white\",\"linecolor\":\"white\",\"ticks\":\"\"},\"radialaxis\":{\"gridcolor\":\"white\",\"linecolor\":\"white\",\"ticks\":\"\"}},\"ternary\":{\"bgcolor\":\"#E5ECF6\",\"aaxis\":{\"gridcolor\":\"white\",\"linecolor\":\"white\",\"ticks\":\"\"},\"baxis\":{\"gridcolor\":\"white\",\"linecolor\":\"white\",\"ticks\":\"\"},\"caxis\":{\"gridcolor\":\"white\",\"linecolor\":\"white\",\"ticks\":\"\"}},\"coloraxis\":{\"colorbar\":{\"outlinewidth\":0,\"ticks\":\"\"}},\"colorscale\":{\"sequential\":[[0.0,\"#0d0887\"],[0.1111111111111111,\"#46039f\"],[0.2222222222222222,\"#7201a8\"],[0.3333333333333333,\"#9c179e\"],[0.4444444444444444,\"#bd3786\"],[0.5555555555555556,\"#d8576b\"],[0.6666666666666666,\"#ed7953\"],[0.7777777777777778,\"#fb9f3a\"],[0.8888888888888888,\"#fdca26\"],[1.0,\"#f0f921\"]],\"sequentialminus\":[[0.0,\"#0d0887\"],[0.1111111111111111,\"#46039f\"],[0.2222222222222222,\"#7201a8\"],[0.3333333333333333,\"#9c179e\"],[0.4444444444444444,\"#bd3786\"],[0.5555555555555556,\"#d8576b\"],[0.6666666666666666,\"#ed7953\"],[0.7777777777777778,\"#fb9f3a\"],[0.8888888888888888,\"#fdca26\"],[1.0,\"#f0f921\"]],\"diverging\":[[0,\"#8e0152\"],[0.1,\"#c51b7d\"],[0.2,\"#de77ae\"],[0.3,\"#f1b6da\"],[0.4,\"#fde0ef\"],[0.5,\"#f7f7f7\"],[0.6,\"#e6f5d0\"],[0.7,\"#b8e186\"],[0.8,\"#7fbc41\"],[0.9,\"#4d9221\"],[1,\"#276419\"]]},\"xaxis\":{\"gridcolor\":\"white\",\"linecolor\":\"white\",\"ticks\":\"\",\"title\":{\"standoff\":15},\"zerolinecolor\":\"white\",\"automargin\":true,\"zerolinewidth\":2},\"yaxis\":{\"gridcolor\":\"white\",\"linecolor\":\"white\",\"ticks\":\"\",\"title\":{\"standoff\":15},\"zerolinecolor\":\"white\",\"automargin\":true,\"zerolinewidth\":2},\"scene\":{\"xaxis\":{\"backgroundcolor\":\"#E5ECF6\",\"gridcolor\":\"white\",\"linecolor\":\"white\",\"showbackground\":true,\"ticks\":\"\",\"zerolinecolor\":\"white\",\"gridwidth\":2},\"yaxis\":{\"backgroundcolor\":\"#E5ECF6\",\"gridcolor\":\"white\",\"linecolor\":\"white\",\"showbackground\":true,\"ticks\":\"\",\"zerolinecolor\":\"white\",\"gridwidth\":2},\"zaxis\":{\"backgroundcolor\":\"#E5ECF6\",\"gridcolor\":\"white\",\"linecolor\":\"white\",\"showbackground\":true,\"ticks\":\"\",\"zerolinecolor\":\"white\",\"gridwidth\":2}},\"shapedefaults\":{\"line\":{\"color\":\"#2a3f5f\"}},\"annotationdefaults\":{\"arrowcolor\":\"#2a3f5f\",\"arrowhead\":0,\"arrowwidth\":1},\"geo\":{\"bgcolor\":\"white\",\"landcolor\":\"#E5ECF6\",\"subunitcolor\":\"white\",\"showland\":true,\"showlakes\":true,\"lakecolor\":\"white\"},\"title\":{\"x\":0.05},\"mapbox\":{\"style\":\"light\"}}},\"xaxis\":{\"anchor\":\"y\",\"domain\":[0.0,1.0],\"title\":{\"text\":\"newspaper\"}},\"yaxis\":{\"anchor\":\"x\",\"domain\":[0.0,1.0],\"title\":{\"text\":\"sales\"}},\"legend\":{\"tracegroupgap\":0},\"title\":{\"text\":\"Sales vs. Newspaper(Interactive)\"}},                        {\"responsive\": true}                    ).then(function(){\n",
       "                            \n",
       "var gd = document.getElementById('5c7e3246-bc9f-49bb-8edf-6e329d1aab1b');\n",
       "var x = new MutationObserver(function (mutations, observer) {{\n",
       "        var display = window.getComputedStyle(gd).display;\n",
       "        if (!display || display === 'none') {{\n",
       "            console.log([gd, 'removed!']);\n",
       "            Plotly.purge(gd);\n",
       "            observer.disconnect();\n",
       "        }}\n",
       "}});\n",
       "\n",
       "// Listen for the removal of the full notebook cells\n",
       "var notebookContainer = gd.closest('#notebook-container');\n",
       "if (notebookContainer) {{\n",
       "    x.observe(notebookContainer, {childList: true});\n",
       "}}\n",
       "\n",
       "// Listen for the clearing of the current output cell\n",
       "var outputEl = gd.closest('.output');\n",
       "if (outputEl) {{\n",
       "    x.observe(outputEl, {childList: true});\n",
       "}}\n",
       "\n",
       "                        })                };                });            </script>        </div>"
      ]
     },
     "metadata": {},
     "output_type": "display_data"
    }
   ],
   "source": [
    "for channel in advertising_channels:\n",
    "    fig = px.scatter(df, x=channel, y='sales', title=f'Sales vs. {channel.replace(\"_\", \" \").title()}(Interactive)',\n",
    "                     hover_data=['tv', 'radio', 'newspaper', 'sales'])\n",
    "    fig.show()"
   ]
  },
  {
   "cell_type": "markdown",
   "id": "7e1f6fd7-bc73-4512-9a72-ab84fa5ab90d",
   "metadata": {},
   "source": [
    "# Model Training and Evaluation"
   ]
  },
  {
   "cell_type": "code",
   "execution_count": 105,
   "id": "b2b987b9-9a56-411d-baf3-a736b8878527",
   "metadata": {},
   "outputs": [],
   "source": [
    "X = df.drop('sales', axis=1)\n",
    "y = df['sales']"
   ]
  },
  {
   "cell_type": "raw",
   "id": "b2478a3d-6af0-4cc4-ab25-b8917aa95a50",
   "metadata": {},
   "source": [
    "# Identify numerical and categorical features for preprocessing"
   ]
  },
  {
   "cell_type": "code",
   "execution_count": 107,
   "id": "399aad18-04fa-4e55-85ca-4532b05d8cfa",
   "metadata": {},
   "outputs": [
    {
     "name": "stdout",
     "output_type": "stream",
     "text": [
      "\n",
      "Numerical Features: ['tv', 'radio', 'newspaper']\n",
      "Categorical Features: []\n"
     ]
    }
   ],
   "source": [
    "numerical_features = X.select_dtypes(include=np.number).columns.tolist()\n",
    "categorical_features = X.select_dtypes(include='object').columns.tolist() # Will likely be empty for 'advertising.csv'\n",
    "\n",
    "print(f\"\\nNumerical Features: {numerical_features}\")\n",
    "print(f\"Categorical Features: {categorical_features}\")"
   ]
  },
  {
   "cell_type": "raw",
   "id": "85ff7bad-60c9-4952-bd4d-acf049d7ef10",
   "metadata": {},
   "source": [
    "# Create preprocessing pipelines for numerical and categorical features"
   ]
  },
  {
   "cell_type": "code",
   "execution_count": 108,
   "id": "133f4b7f-b4f6-4944-9ed8-2bcc34a53af3",
   "metadata": {},
   "outputs": [],
   "source": [
    "numerical_transformer = StandardScaler() \n",
    "categorical_transformer = OneHotEncoder(handle_unknown='ignore')\n",
    "\n",
    "transformers_list = [('num', numerical_transformer, numerical_features)]\n",
    "if categorical_features:\n",
    "    transformers_list.append(('cat', categorical_transformer, categorical_features))\n",
    "\n",
    "preprocessor = ColumnTransformer(transformers=transformers_list)\n"
   ]
  },
  {
   "cell_type": "raw",
   "id": "9c00940f-ed96-464e-89f9-e9da914eee9e",
   "metadata": {},
   "source": [
    "# Create machine learning pipelines"
   ]
  },
  {
   "cell_type": "code",
   "execution_count": 109,
   "id": "e43cdad2-6c0c-4dc6-82de-b88cfa14c508",
   "metadata": {},
   "outputs": [],
   "source": [
    "lr_pipeline = Pipeline(steps=[('preprocessor', preprocessor),\n",
    "                               ('regressor', LinearRegression())])\n",
    "\n",
    "rf_pipeline = Pipeline(steps=[('preprocessor', preprocessor),\n",
    "                              ('regressor', RandomForestRegressor(n_estimators=100, random_state=42))])"
   ]
  },
  {
   "cell_type": "raw",
   "id": "13e8df93-983a-411a-8aa3-7e9d950f0378",
   "metadata": {},
   "source": [
    "# Split data into training and testing sets"
   ]
  },
  {
   "cell_type": "code",
   "execution_count": 110,
   "id": "6074ef02-a7e2-4abd-9329-53dcd2701959",
   "metadata": {},
   "outputs": [
    {
     "name": "stdout",
     "output_type": "stream",
     "text": [
      "\n",
      "Training data shape: (160, 3)\n",
      "Testing data shape: (40, 3)\n"
     ]
    }
   ],
   "source": [
    "X_train, X_test, y_train, y_test = train_test_split(X, y, test_size=0.2, random_state=42) # 80% train, 20% test\n",
    "\n",
    "print(f\"\\nTraining data shape: {X_train.shape}\")\n",
    "print(f\"Testing data shape: {X_test.shape}\")"
   ]
  },
  {
   "cell_type": "raw",
   "id": "89ef097c-590a-4451-914a-0389b744fb66",
   "metadata": {},
   "source": [
    "# Train the Linear Regression model"
   ]
  },
  {
   "cell_type": "code",
   "execution_count": 111,
   "id": "bff7319e-c816-4bec-95a2-516d9fe6f219",
   "metadata": {},
   "outputs": [
    {
     "name": "stdout",
     "output_type": "stream",
     "text": [
      "\n",
      "Training Linear Regression model...\n",
      "Linear Regression model training complete.\n"
     ]
    }
   ],
   "source": [
    "print(\"\\nTraining Linear Regression model...\")\n",
    "lr_pipeline.fit(X_train, y_train)\n",
    "print(\"Linear Regression model training complete.\")"
   ]
  },
  {
   "cell_type": "raw",
   "id": "2151e190-d0a8-4b23-9ee1-2e500c19e584",
   "metadata": {},
   "source": [
    "# Make predictions and evaluate Linear Regression"
   ]
  },
  {
   "cell_type": "code",
   "execution_count": 113,
   "id": "15f49d48-f32d-4883-a79a-80d1217dd683",
   "metadata": {},
   "outputs": [
    {
     "name": "stdout",
     "output_type": "stream",
     "text": [
      "\n",
      "--- Linear Regression Model Evaluation ---\n",
      "Mean Absolute Error (MAE): 1.46\n",
      "Root Mean Squared Error (RMSE): 1.78\n",
      "R-squared (R2): 0.8994\n"
     ]
    }
   ],
   "source": [
    "y_pred_lr = lr_pipeline.predict(X_test)\n",
    "mae_lr = mean_absolute_error(y_test, y_pred_lr)\n",
    "rmse_lr = np.sqrt(mean_squared_error(y_test, y_pred_lr))\n",
    "r2_lr = r2_score(y_test, y_pred_lr)\n",
    "\n",
    "print(f\"\\n--- Linear Regression Model Evaluation ---\")\n",
    "print(f\"Mean Absolute Error (MAE): {mae_lr:.2f}\")\n",
    "print(f\"Root Mean Squared Error (RMSE): {rmse_lr:.2f}\")\n",
    "print(f\"R-squared (R2): {r2_lr:.4f}\")"
   ]
  },
  {
   "cell_type": "raw",
   "id": "ac525918-7d54-4765-9df2-960bddc551b4",
   "metadata": {},
   "source": [
    "# Train the Random Forest Regressor model"
   ]
  },
  {
   "cell_type": "code",
   "execution_count": 114,
   "id": "470fae7c-8802-4ba7-a803-9c641ac66d94",
   "metadata": {},
   "outputs": [
    {
     "name": "stdout",
     "output_type": "stream",
     "text": [
      "\n",
      "Training Random Forest Regressor model...\n",
      "Random Forest Regressor model training complete.\n"
     ]
    }
   ],
   "source": [
    "print(\"\\nTraining Random Forest Regressor model...\")\n",
    "rf_pipeline.fit(X_train, y_train)\n",
    "print(\"Random Forest Regressor model training complete.\")"
   ]
  },
  {
   "cell_type": "raw",
   "id": "e7a07cb9-d931-471a-a650-6d0970785337",
   "metadata": {},
   "source": [
    "# Make predictions and evaluate Random Forest"
   ]
  },
  {
   "cell_type": "code",
   "execution_count": 115,
   "id": "c719e7ae-21d2-4148-856e-4050807fce20",
   "metadata": {},
   "outputs": [
    {
     "name": "stdout",
     "output_type": "stream",
     "text": [
      "\n",
      "--- Random Forest Regressor Model Evaluation ---\n",
      "Mean Absolute Error (MAE): 0.62\n",
      "Root Mean Squared Error (RMSE): 0.77\n",
      "R-squared (R2): 0.9813\n"
     ]
    }
   ],
   "source": [
    "y_pred_rf = rf_pipeline.predict(X_test)\n",
    "mae_rf = mean_absolute_error(y_test, y_pred_rf)\n",
    "rmse_rf = np.sqrt(mean_squared_error(y_test, y_pred_rf))\n",
    "r2_rf = r2_score(y_test, y_pred_rf)\n",
    "\n",
    "print(f\"\\n--- Random Forest Regressor Model Evaluation ---\")\n",
    "print(f\"Mean Absolute Error (MAE): {mae_rf:.2f}\")\n",
    "print(f\"Root Mean Squared Error (RMSE): {rmse_rf:.2f}\")\n",
    "print(f\"R-squared (R2): {r2_rf:.4f}\")"
   ]
  },
  {
   "cell_type": "raw",
   "id": "3edfdf55-e84c-4b02-9b88-7a8f0578b875",
   "metadata": {},
   "source": [
    "# Plot actual vs predicted sales for visual comparison"
   ]
  },
  {
   "cell_type": "code",
   "execution_count": 116,
   "id": "392c28d1-3a48-4363-99ef-02d922db9e40",
   "metadata": {},
   "outputs": [
    {
     "data": {
      "image/png": "[encoded data removed]",
      "text/plain": [
       "<Figure size 1000x600 with 1 Axes>"
      ]
     },
     "metadata": {},
     "output_type": "display_data"
    }
   ],
   "source": [
    "plt.figure(figsize=(10, 6))\n",
    "plt.scatter(y_test, y_pred_rf, alpha=0.7)\n",
    "plt.plot([y_test.min(), y_test.max()], [y_test.min(), y_test.max()], 'r--', lw=2) # Line for perfect prediction\n",
    "plt.xlabel('Actual Sales')\n",
    "plt.ylabel('Predicted Sales')\n",
    "plt.title('Actual vs. Predicted Sales (Random Forest)')\n",
    "plt.grid(True, linestyle='--', alpha=0.5)\n",
    "plt.show()"
   ]
  },
  {
   "cell_type": "raw",
   "id": "82ceb2fe-6940-4615-9f62-bc4554a6b0f6",
   "metadata": {},
   "source": [
    "# Interactive scatter plot with Plotly"
   ]
  },
  {
   "cell_type": "code",
   "execution_count": 127,
   "id": "61d46f35-507e-41ef-bca0-de3bcb1ebad6",
   "metadata": {},
   "outputs": [
    {
     "data": {
      "image/png": "[encoded data removed]",
      "text/plain": [
       "<Figure size 1000x600 with 1 Axes>"
      ]
     },
     "metadata": {},
     "output_type": "display_data"
    }
   ],
   "source": [
    "plt.figure(figsize=(10, 6))\n",
    "plt.scatter(y_test, y_pred_rf, alpha=0.7)\n",
    "plt.plot([y_test.min(), y_test.max()], [y_test.min(), y_test.max()], 'r--', lw=2) # Line for perfect prediction\n",
    "plt.xlabel('Actual Sales')\n",
    "plt.ylabel('Predicted Sales')\n",
    "plt.title('Actual vs. Predicted Sales (Random Forest)')\n",
    "plt.grid(True, linestyle='--', alpha=0.5)\n",
    "plt.show()"
   ]
  },
  {
   "cell_type": "raw",
   "id": "cd5864f7-467b-47e0-86eb-d3972642d668",
   "metadata": {},
   "source": [
    "# Perform K-Fold Cross-Validation for the Random Forest Model for robustness"
   ]
  },
  {
   "cell_type": "code",
   "execution_count": 128,
   "id": "2a77c01d-2f8a-4650-a389-a91a553157f9",
   "metadata": {},
   "outputs": [
    {
     "name": "stdout",
     "output_type": "stream",
     "text": [
      "\n",
      "Performing 5-Fold Cross-Validation for Random Forest Regressor...\n",
      "Cross-validation R-squared Scores (Random Forest): [0.98378217 0.98316421 0.98140783 0.98455081 0.97095773]\n",
      "Mean Cross-validation R-squared (Random Forest): 0.9808\n",
      "Std Deviation of Cross-validation R-squared (Random Forest): 0.0050\n",
      "\n",
      "Cross-validation MAE Scores (Random Forest): [0.60485  0.41465  0.517175 0.52435  0.6298  ]\n",
      "Mean Cross-validation MAE (Random Forest): 0.54\n",
      "Std Deviation of Cross-validation MAE (Random Forest): 0.08\n"
     ]
    }
   ],
   "source": [
    "kf = KFold(n_splits=5, shuffle=True, random_state=42)\n",
    "\n",
    "print(\"\\nPerforming 5-Fold Cross-Validation for Random Forest Regressor...\")\n",
    "cv_r2_scores_rf = cross_val_score(rf_pipeline, X, y, cv=kf, scoring='r2')\n",
    "cv_mae_scores_rf = -cross_val_score(rf_pipeline, X, y, cv=kf, scoring='neg_mean_absolute_error')\n",
    "\n",
    "print(f\"Cross-validation R-squared Scores (Random Forest): {cv_r2_scores_rf}\")\n",
    "print(f\"Mean Cross-validation R-squared (Random Forest): {cv_r2_scores_rf.mean():.4f}\")\n",
    "print(f\"Std Deviation of Cross-validation R-squared (Random Forest): {cv_r2_scores_rf.std():.4f}\")\n",
    "\n",
    "print(f\"\\nCross-validation MAE Scores (Random Forest): {cv_mae_scores_rf}\")\n",
    "print(f\"Mean Cross-validation MAE (Random Forest): {cv_mae_scores_rf.mean():.2f}\")\n",
    "print(f\"Std Deviation of Cross-validation MAE (Random Forest): {cv_mae_scores_rf.std():.2f}\")"
   ]
  },
  {
   "cell_type": "markdown",
   "id": "42eb6f5c-fbed-4070-b85a-56acf66dc7c1",
   "metadata": {},
   "source": [
    "# Conclusion"
   ]
  },
  {
   "cell_type": "raw",
   "id": "eb3a7b01-2c9d-48cb-9bb8-9531ffb95712",
   "metadata": {},
   "source": [
    "1. Advertising spend on channel A shows the strongest positive correlation with sales, indicating its significant impact.\n",
    "2. Our Random Forest Regressor typically outperforms Linear Regression for this kind of datset, achieving an R^2 of \n",
    "approximately(98.08)on unseen data.This indicates it explains a significant portion of the variance in sales.\n",
    "The average error (MAE) was around 0.54 units."
   ]
  },
  {
   "cell_type": "code",
   "execution_count": null,
   "id": "c477b503-6ad2-4ecd-a3a1-1e5755a81127",
   "metadata": {},
   "outputs": [],
   "source": []
  }
 ],
 "metadata": {
  "kernelspec": {
   "display_name": "Python 3 (ipykernel)",
   "language": "python",
   "name": "python3"
  },
  "language_info": {
   "codemirror_mode": {
    "name": "ipython",
    "version": 3
   },
   "file_extension": ".py",
   "mimetype": "text/x-python",
   "name": "python",
   "nbconvert_exporter": "python",
   "pygments_lexer": "ipython3",
   "version": "3.12.7"
  }
 },
 "nbformat": 4,
 "nbformat_minor": 5
}
