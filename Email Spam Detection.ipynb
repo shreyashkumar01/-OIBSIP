{
 "cells": [
  {
   "cell_type": "markdown",
   "id": "5118f98a-31c5-4852-a1ad-6858e105a805",
   "metadata": {},
   "source": [
    "# Setting Up the Environment and Importing Libraries"
   ]
  },
  {
   "cell_type": "code",
   "execution_count": 4,
   "id": "20d9a906-dfef-41f2-84bb-286e5e02ed9d",
   "metadata": {},
   "outputs": [],
   "source": [
    "import pandas as pd\n",
    "import numpy as np\n",
    "import matplotlib.pyplot as plt\n",
    "import seaborn as sns"
   ]
  },
  {
   "cell_type": "code",
   "execution_count": 10,
   "id": "c99b057e-019d-4a51-a9b7-d976dd03761a",
   "metadata": {},
   "outputs": [],
   "source": [
    "from sklearn.model_selection import train_test_split, cross_val_score, KFold\n",
    "from sklearn.feature_extraction.text import TfidfVectorizer\n",
    "from sklearn.naive_bayes import MultinomialNB\n",
    "from sklearn.metrics import accuracy_score, classification_report, confusion_matrix\n",
    "from sklearn.pipeline import Pipeline"
   ]
  },
  {
   "cell_type": "markdown",
   "id": "4850321b-4942-4122-9d89-571524a4ac78",
   "metadata": {},
   "source": [
    "# Loading the Dataset"
   ]
  },
  {
   "cell_type": "code",
   "execution_count": 13,
   "id": "6e945fae-8387-4233-be6a-f6df999ec93c",
   "metadata": {},
   "outputs": [],
   "source": [
    "df = pd.read_csv('spam.csv', encoding='latin-1')"
   ]
  },
  {
   "cell_type": "code",
   "execution_count": 15,
   "id": "486ab28c-ae69-419f-8b0c-4af4ce032fd2",
   "metadata": {},
   "outputs": [],
   "source": [
    "if 'Unnamed: 2' in df.columns:\n",
    "        df = df.drop(columns=['Unnamed: 2', 'Unnamed: 3', 'Unnamed: 4'], axis=1)"
   ]
  },
  {
   "cell_type": "code",
   "execution_count": 19,
   "id": "8554b98c-7c1e-433e-9343-d771ccd345b3",
   "metadata": {},
   "outputs": [
    {
     "name": "stdout",
     "output_type": "stream",
     "text": [
      "Spam detection dataset loaded successfully!\n"
     ]
    }
   ],
   "source": [
    "df.rename(columns={'v1': 'label', 'v2': 'text'}, inplace=True)\n",
    "print(\"Spam detection dataset loaded successfully!\")"
   ]
  },
  {
   "cell_type": "code",
   "execution_count": 21,
   "id": "4605af6d-874c-4482-a461-4c4e4235e571",
   "metadata": {},
   "outputs": [
    {
     "name": "stdout",
     "output_type": "stream",
     "text": [
      "\n",
      "First 5 rows of the spam dataset:\n",
      "  label                                               text\n",
      "0   ham  Go until jurong point, crazy.. Available only ...\n",
      "1   ham                      Ok lar... Joking wif u oni...\n",
      "2  spam  Free entry in 2 a wkly comp to win FA Cup fina...\n",
      "3   ham  U dun say so early hor... U c already then say...\n",
      "4   ham  Nah I don't think he goes to usf, he lives aro...\n",
      "\n",
      "Raw Column Names:\n",
      "['label', 'text']\n"
     ]
    }
   ],
   "source": [
    "print(\"\\nFirst 5 rows of the spam dataset:\")\n",
    "print(df.head())\n",
    "\n",
    "print(\"\\nRaw Column Names:\")\n",
    "print(df.columns.tolist())"
   ]
  },
  {
   "cell_type": "markdown",
   "id": "5fdbe43e-5b40-408c-842b-a5c3e12d487f",
   "metadata": {},
   "source": [
    "# Initial Data Exploration"
   ]
  },
  {
   "cell_type": "code",
   "execution_count": 26,
   "id": "a3359ee7-8a82-4d6f-b19f-3aeb7e90990b",
   "metadata": {},
   "outputs": [
    {
     "name": "stdout",
     "output_type": "stream",
     "text": [
      "\n",
      "Datset Information:\n",
      "<class 'pandas.core.frame.DataFrame'>\n",
      "RangeIndex: 5572 entries, 0 to 5571\n",
      "Data columns (total 2 columns):\n",
      " #   Column  Non-Null Count  Dtype \n",
      "---  ------  --------------  ----- \n",
      " 0   label   5572 non-null   object\n",
      " 1   text    5572 non-null   object\n",
      "dtypes: object(2)\n",
      "memory usage: 87.2+ KB\n"
     ]
    }
   ],
   "source": [
    "print(\"\\nDatset Information:\")\n",
    "df.info()"
   ]
  },
  {
   "cell_type": "code",
   "execution_count": 28,
   "id": "79df55c4-1167-4dd7-8849-c089c08841b6",
   "metadata": {},
   "outputs": [
    {
     "name": "stdout",
     "output_type": "stream",
     "text": [
      "\n",
      "Missing values in each column:\n",
      "label    0\n",
      "text     0\n",
      "dtype: int64\n"
     ]
    }
   ],
   "source": [
    "print(\"\\nMissing values in each column:\")\n",
    "print(df.isnull().sum())"
   ]
  },
  {
   "cell_type": "code",
   "execution_count": 30,
   "id": "fc7ae850-c022-4503-a8fc-4f2964b1c979",
   "metadata": {},
   "outputs": [
    {
     "name": "stdout",
     "output_type": "stream",
     "text": [
      "\n",
      "Distribution of labels (spam vs. ham):\n",
      "label\n",
      "ham     4825\n",
      "spam     747\n",
      "Name: count, dtype: int64\n"
     ]
    }
   ],
   "source": [
    "print(\"\\nDistribution of labels (spam vs. ham):\")\n",
    "print(df['label'].value_counts())"
   ]
  },
  {
   "cell_type": "code",
   "execution_count": 32,
   "id": "831c3f03-fd2c-46ec-aed6-17538379630c",
   "metadata": {},
   "outputs": [
    {
     "name": "stdout",
     "output_type": "stream",
     "text": [
      "\n",
      "Label distribution (numeric):\n",
      "label_numeric\n",
      "0    4825\n",
      "1     747\n",
      "Name: count, dtype: int64\n"
     ]
    }
   ],
   "source": [
    "df['label_numeric'] = df['label'].map({'ham': 0, 'spam': 1})\n",
    "print(\"\\nLabel distribution (numeric):\")\n",
    "print(df['label_numeric'].value_counts())"
   ]
  },
  {
   "cell_type": "markdown",
   "id": "0a203878-9e3b-4904-a7c2-e7012e0c7f76",
   "metadata": {},
   "source": [
    "# Text Preprocessing and Feature Extraction"
   ]
  },
  {
   "cell_type": "code",
   "execution_count": 35,
   "id": "a9b14b07-05cc-4ab1-b941-59f158f6435a",
   "metadata": {},
   "outputs": [
    {
     "name": "stdout",
     "output_type": "stream",
     "text": [
      "\n",
      "Training data samples: 4457\n",
      "Testing data samples: 1115\n"
     ]
    }
   ],
   "source": [
    "X = df['text']\n",
    "y = df['label_numeric']\n",
    "\n",
    "X_train, X_test, y_train, y_test = train_test_split(X, y, test_size=0.2, random_state=42)\n",
    "\n",
    "print(f\"\\nTraining data samples: {len(X_train)}\")\n",
    "print(f\"Testing data samples: {len(X_test)}\")"
   ]
  },
  {
   "cell_type": "raw",
   "id": "5b05a771-be13-464f-bdb2-a702bd7068e3",
   "metadata": {},
   "source": [
    "# TfidfVectorizer converts text into a matrix of TF-IDF features.\n",
    "# max_features limits the vocabulary size."
   ]
  },
  {
   "cell_type": "code",
   "execution_count": 37,
   "id": "ef1ef759-6670-464b-b1f0-25ca028884e7",
   "metadata": {},
   "outputs": [],
   "source": [
    "tfidf_vectorizer = TfidfVectorizer(stop_words='english', max_features=5000)"
   ]
  },
  {
   "cell_type": "markdown",
   "id": "5aa5e8ae-a6f9-4253-95d0-416d089e3808",
   "metadata": {},
   "source": [
    "# Model Training and Evaluation"
   ]
  },
  {
   "cell_type": "code",
   "execution_count": 40,
   "id": "9607cb33-7266-4a16-86f9-7e746650ee7c",
   "metadata": {},
   "outputs": [],
   "source": [
    "spam_detector_pipeline = Pipeline(steps=[\n",
    "    ('tfidf', tfidf_vectorizer), # Step 1: Text vectorization\n",
    "    ('classifier', MultinomialNB()) # Step 2: Classification model\n",
    "])"
   ]
  },
  {
   "cell_type": "raw",
   "id": "7c053617-0d53-4d06-9999-30addae7c75e",
   "metadata": {},
   "source": [
    "# Train the pipeline"
   ]
  },
  {
   "cell_type": "code",
   "execution_count": 44,
   "id": "ec0ee2b1-6de4-4a42-8cd8-302b4121301f",
   "metadata": {},
   "outputs": [
    {
     "name": "stdout",
     "output_type": "stream",
     "text": [
      "\n",
      "Training spam detection model...\n",
      "Model training complete.\n"
     ]
    }
   ],
   "source": [
    "print(\"\\nTraining spam detection model...\")\n",
    "spam_detector_pipeline.fit(X_train, y_train)\n",
    "print(\"Model training complete.\")"
   ]
  },
  {
   "cell_type": "code",
   "execution_count": 46,
   "id": "b73c3464-9524-4391-b351-3dc4cd3a648d",
   "metadata": {},
   "outputs": [
    {
     "name": "stdout",
     "output_type": "stream",
     "text": [
      "\n",
      "--- Model Evaluation ---\n",
      "Accuracy Score: 0.9721973094170404\n",
      "\n",
      "Classification Report:\n",
      "               precision    recall  f1-score   support\n",
      "\n",
      "         Ham       0.97      1.00      0.98       965\n",
      "        Spam       1.00      0.79      0.88       150\n",
      "\n",
      "    accuracy                           0.97      1115\n",
      "   macro avg       0.98      0.90      0.93      1115\n",
      "weighted avg       0.97      0.97      0.97      1115\n",
      "\n",
      "\n",
      "Confusion Matrix:\n",
      " [[965   0]\n",
      " [ 31 119]]\n"
     ]
    }
   ],
   "source": [
    "y_pred = spam_detector_pipeline.predict(X_test)\n",
    "\n",
    "print(\"\\n--- Model Evaluation ---\")\n",
    "print(\"Accuracy Score:\", accuracy_score(y_test, y_pred))\n",
    "print(\"\\nClassification Report:\\n\", classification_report(y_test, y_pred, target_names=['Ham', 'Spam']))\n",
    "print(\"\\nConfusion Matrix:\\n\", confusion_matrix(y_test, y_pred))"
   ]
  },
  {
   "cell_type": "raw",
   "id": "9af0360d-c29c-4c04-8fd7-1c8fd6607dca",
   "metadata": {},
   "source": [
    "# Cross-validation"
   ]
  },
  {
   "cell_type": "code",
   "execution_count": 48,
   "id": "d16fe4ce-3fbc-415c-b2c9-264770a2956e",
   "metadata": {},
   "outputs": [
    {
     "name": "stdout",
     "output_type": "stream",
     "text": [
      "\n",
      "Performing 5-Fold Cross-Validation for Spam Detector...\n",
      "Cross-validation Accuracy Scores: [0.97219731 0.97757848 0.97576302 0.97307002 0.96678636]\n",
      "Mean Cross-validation Accuracy: 0.9731\n",
      "Standard Deviation of Cross-validation Accuracy: 0.0037\n"
     ]
    }
   ],
   "source": [
    "print(\"\\nPerforming 5-Fold Cross-Validation for Spam Detector...\")\n",
    "kf = KFold(n_splits=5, shuffle=True, random_state=42)\n",
    "cv_accuracy_scores = cross_val_score(spam_detector_pipeline, X, y, cv=kf, scoring='accuracy')\n",
    "\n",
    "print(f\"Cross-validation Accuracy Scores: {cv_accuracy_scores}\")\n",
    "print(f\"Mean Cross-validation Accuracy: {cv_accuracy_scores.mean():.4f}\")\n",
    "print(f\"Standard Deviation of Cross-validation Accuracy: {cv_accuracy_scores.std():.4f}\")"
   ]
  },
  {
   "cell_type": "markdown",
   "id": "ff34926f-3c9c-418f-aef1-6a52261c8624",
   "metadata": {},
   "source": [
    "# Conclusion"
   ]
  },
  {
   "cell_type": "raw",
   "id": "dd5b1d7e-cd10-4926-9a0c-259e48c4c76d",
   "metadata": {},
   "source": [
    "1. The Multinomial Naive Bayes model,combined with TF-IDF features, performed effectively in classifying emails as spam or ham,\n",
    "achieving an accuracy of approximately(97.31%)\n",
    "2. The classification_report provides details on precision, recall, and F!-score for both classses."
   ]
  },
  {
   "cell_type": "code",
   "execution_count": null,
   "id": "db3c496f-9f91-403b-97d1-b1029365e549",
   "metadata": {},
   "outputs": [],
   "source": []
  }
 ],
 "metadata": {
  "kernelspec": {
   "display_name": "Python 3 (ipykernel)",
   "language": "python",
   "name": "python3"
  },
  "language_info": {
   "codemirror_mode": {
    "name": "ipython",
    "version": 3
   },
   "file_extension": ".py",
   "mimetype": "text/x-python",
   "name": "python",
   "nbconvert_exporter": "python",
   "pygments_lexer": "ipython3",
   "version": "3.12.7"
  }
 },
 "nbformat": 4,
 "nbformat_minor": 5
}
